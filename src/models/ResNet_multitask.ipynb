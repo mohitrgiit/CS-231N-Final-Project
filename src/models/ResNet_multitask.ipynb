{
 "cells": [
  {
   "cell_type": "markdown",
   "metadata": {},
   "source": [
    "# ResNet\n",
    "\n",
    "Here is ResNet Woot Woot"
   ]
  },
  {
   "cell_type": "markdown",
   "metadata": {},
   "source": [
    "# Load DataSets"
   ]
  },
  {
   "cell_type": "code",
   "execution_count": 1,
   "metadata": {
    "collapsed": false
   },
   "outputs": [],
   "source": [
    "import tensorflow as tf\n",
    "import hyperopt as hpropt\n",
    "import numpy as np\n",
    "import math\n",
    "import timeit\n",
    "import random\n",
    "import pickle\n",
    "import matplotlib.pyplot as plt\n",
    "import itertools\n",
    "from sklearn.metrics import confusion_matrix\n",
    "from util import import_dataset\n",
    "from multiclass_model import MulticlassModel, lazy_property\n",
    "from config import ModelConfig, TrainConfig\n",
    "%matplotlib inline\n",
    "\n",
    "# Set default to auto import packages\n",
    "%load_ext autoreload\n",
    "%autoreload 2"
   ]
  },
  {
   "cell_type": "code",
   "execution_count": 2,
   "metadata": {
    "collapsed": false
   },
   "outputs": [
    {
     "name": "stdout",
     "output_type": "stream",
     "text": [
      "Train data shape:  (25450, 128, 128, 3)\n",
      "Train labels shape:  (25450,)\n",
      "Validation data shape:  (3181, 128, 128, 3)\n",
      "Validation labels shape:  (3181,)\n",
      "Test data shape:  (3182, 128, 128, 3)\n",
      "Test labels shape:  (3182,)\n"
     ]
    }
   ],
   "source": [
    "# Form training, developement, and testing data sets\n",
    "\"\"\"\n",
    "address = r'../../data/smallDataset/'\n",
    "file_names = {}\n",
    "file_names['images'] = 'data.npy'\n",
    "file_names['subs'] = 'subredditlabels'\n",
    "file_names['dict'] = 'subredditIndex'\n",
    "file_names['nsfw'] = 'nsfwlabels'\n",
    "\"\"\"\n",
    "address = r'../../data/fullData/'\n",
    "file_names = {}\n",
    "file_names['images'] = 'full_data.npy'\n",
    "file_names['subs'] = 'full_subredditlabels'\n",
    "file_names['dict'] = 'full_subredditIndex'\n",
    "file_names['nsfw'] = 'full_nsfwlabels'\n",
    "\n",
    "data, dictionary = import_dataset(address, file_names)\n",
    "\n",
    "# Print the sizes as a sanity check\n",
    "print('Train data shape: ', data.X_train.shape)\n",
    "print('Train labels shape: ', data.y_train.shape)\n",
    "print('Validation data shape: ', data.X_val.shape)\n",
    "print('Validation labels shape: ', data.y_val.shape)\n",
    "print('Test data shape: ', data.X_test.shape)\n",
    "print('Test labels shape: ', data.y_test.shape)"
   ]
  },
  {
   "cell_type": "code",
   "execution_count": 3,
   "metadata": {
    "collapsed": false
   },
   "outputs": [],
   "source": [
    "# Number of different convolutions\n",
    "NdistinctConvLayers = 4\n",
    "# Number of layers for each different convolution\n",
    "Nlayers = [2, 2, 2, 2]\n",
    "# Number of filters for each different convolution\n",
    "Nfilters = [64, 128, 256, 512]\n",
    "# Size of filters\n",
    "kernelSizes = [3, 3]\n",
    "\n",
    "model_config = ModelConfig(learning_rate=0.008, eval_batch_size=300)\n",
    "\n",
    "model_config.RS_NdistinctConvLayers = NdistinctConvLayers\n",
    "model_config.RS_Nlayers = Nlayers\n",
    "model_config.RS_Nfilters = Nfilters\n",
    "model_config.RS_kernelSizes = kernelSizes"
   ]
  },
  {
   "cell_type": "code",
   "execution_count": 4,
   "metadata": {
    "collapsed": true
   },
   "outputs": [],
   "source": [
    "class ResNet(MulticlassModel):\n",
    "    \n",
    "    def __init__(self, model_config):\n",
    "        MulticlassModel.__init__(self, model_config)\n",
    "    \n",
    "    @lazy_property\n",
    "    def prediction(self):\n",
    "        \n",
    "        conv_init = tf.layers.conv2d(\n",
    "                    inputs = self.X_placeholder,\n",
    "                    filters = 64,\n",
    "                    kernel_size = [7, 7],\n",
    "                    strides = 2,\n",
    "                    padding = \"same\")\n",
    "    \n",
    "        block_input = tf.layers.max_pooling2d(\n",
    "                    inputs = conv_init,\n",
    "                    pool_size = [2, 2],\n",
    "                    strides = 2)\n",
    "    \n",
    "        for idl in range(self.config.RS_NdistinctConvLayers) :\n",
    "            if (idl == 0) :\n",
    "                firstStride = 1\n",
    "            else :\n",
    "                firstStride = 2\n",
    "            \n",
    "            conv = tf.layers.conv2d(\n",
    "                        inputs = block_input,\n",
    "                        filters = self.config.RS_Nfilters[idl],\n",
    "                        kernel_size = self.config.RS_kernelSizes[0],\n",
    "                        strides = firstStride,\n",
    "                        padding = \"same\")\n",
    "            convBN = tf.layers.batch_normalization(\n",
    "                        conv, \n",
    "                        training=self.is_training_placeholder)        \n",
    "            relu = tf.nn.relu(convBN)\n",
    "            residual = tf.layers.conv2d(\n",
    "                        inputs = relu,\n",
    "                        filters = self.config.RS_Nfilters[idl],\n",
    "                        kernel_size = self.config.RS_kernelSizes[1],\n",
    "                        strides = 1,\n",
    "                        padding = \"same\")\n",
    "            residualBN = tf.layers.batch_normalization(\n",
    "                        residual, \n",
    "                        training=self.is_training_placeholder)\n",
    "            block_input = tf.nn.relu(residualBN)\n",
    "        \n",
    "            for ilr in range(self.config.RS_Nlayers[idl] - 1) :\n",
    "            \n",
    "                conv = tf.layers.conv2d(\n",
    "                            inputs = block_input,\n",
    "                            filters = self.config.RS_Nfilters[idl],\n",
    "                            kernel_size = self.config.RS_kernelSizes[0],\n",
    "                            strides = 1,\n",
    "                            padding = \"same\")\n",
    "                convBN = tf.layers.batch_normalization(\n",
    "                            conv, \n",
    "                            training=self.is_training_placeholder)        \n",
    "                relu = tf.nn.relu(convBN)\n",
    "                residual = tf.layers.conv2d(\n",
    "                            inputs = relu,\n",
    "                            filters = self.config.RS_Nfilters[idl],\n",
    "                            kernel_size = self.config.RS_kernelSizes[1],\n",
    "                            strides = 1,\n",
    "                            padding = \"same\")\n",
    "                residualBN = tf.layers.batch_normalization(\n",
    "                            residual, \n",
    "                            training=self.is_training_placeholder)        \n",
    "                output = block_input + residualBN\n",
    "                outputBN = tf.layers.batch_normalization(\n",
    "                            output, \n",
    "                            training=self.is_training_placeholder)\n",
    "                block_input = tf.nn.relu(outputBN)\n",
    "            \n",
    "        convRes = tf.layers.batch_normalization(\n",
    "                    block_input, \n",
    "                    training=self.is_training_placeholder)\n",
    "    \n",
    "        shape = convRes.get_shape().as_list()\n",
    "        avgPool = tf.nn.avg_pool(\n",
    "                    value=convRes, \n",
    "                    ksize=[1,shape[1],shape[2],1],\n",
    "                    strides=[1,1,1,1],\n",
    "                    padding='VALID')\n",
    "    \n",
    "        shape = avgPool.get_shape().as_list()\n",
    "        avgPool_flat = tf.reshape(avgPool,[-1, shape[1]*shape[2]*shape[3]])\n",
    "\n",
    "        sbrd_logits = tf.layers.dense(inputs=avgPool_flat, units=20)\n",
    "        nsfw_logits = tf.layers.dense(inputs=avgPool_flat, units=2)\n",
    "\n",
    "        return sbrd_logits, nsfw_logits"
   ]
  },
  {
   "cell_type": "markdown",
   "metadata": {},
   "source": [
    "# Train the Model"
   ]
  },
  {
   "cell_type": "code",
   "execution_count": 5,
   "metadata": {
    "collapsed": false
   },
   "outputs": [
    {
     "name": "stdout",
     "output_type": "stream",
     "text": [
      "---------------------------------------------------------\n",
      "Batch 100/398 of epoch 1 finished in 25.653749 seconds\n",
      "Batch 200/398 of epoch 1 finished in 23.094443 seconds\n",
      "Batch 300/398 of epoch 1 finished in 23.291114 seconds\n",
      "Epoch 1 training finished in 95.612320 seconds\n",
      "subreddit train accuracy:18.2%\n",
      "nsfw train accuracy:91.4%\n",
      "subreddit val accuracy:18.4%\n",
      "nsfw val accuracy:91.8%\n",
      "Epoch 1 evaluation finished in 18.271434 seconds\n",
      "---------------------------------------------------------\n",
      "Batch 100/398 of epoch 2 finished in 23.271398 seconds\n",
      "Batch 200/398 of epoch 2 finished in 23.195617 seconds\n",
      "Batch 300/398 of epoch 2 finished in 23.208608 seconds\n",
      "Epoch 2 training finished in 92.316819 seconds\n",
      "subreddit train accuracy:37.7%\n",
      "nsfw train accuracy:93.7%\n",
      "subreddit val accuracy:36.7%\n",
      "nsfw val accuracy:93.8%\n",
      "Epoch 2 evaluation finished in 14.686158 seconds\n",
      "---------------------------------------------------------\n",
      "Batch 100/398 of epoch 3 finished in 23.100990 seconds\n",
      "Batch 200/398 of epoch 3 finished in 23.199684 seconds\n",
      "Batch 300/398 of epoch 3 finished in 23.267558 seconds\n",
      "Epoch 3 training finished in 92.273172 seconds\n",
      "subreddit train accuracy:46.1%\n",
      "nsfw train accuracy:94.2%\n",
      "subreddit val accuracy:43.4%\n",
      "nsfw val accuracy:94.2%\n",
      "Epoch 3 evaluation finished in 14.784350 seconds\n",
      "---------------------------------------------------------\n",
      "Batch 100/398 of epoch 4 finished in 23.234507 seconds\n",
      "Batch 200/398 of epoch 4 finished in 23.162082 seconds\n",
      "Batch 300/398 of epoch 4 finished in 23.211404 seconds\n",
      "Epoch 4 training finished in 92.209517 seconds\n",
      "subreddit train accuracy:49.1%\n",
      "nsfw train accuracy:92.1%\n",
      "subreddit val accuracy:45.1%\n",
      "nsfw val accuracy:91.2%\n",
      "Epoch 4 evaluation finished in 14.736393 seconds\n",
      "---------------------------------------------------------\n",
      "Batch 100/398 of epoch 5 finished in 23.189745 seconds\n",
      "Batch 200/398 of epoch 5 finished in 23.227983 seconds\n",
      "Batch 300/398 of epoch 5 finished in 23.104392 seconds\n",
      "Epoch 5 training finished in 92.236535 seconds\n",
      "subreddit train accuracy:41.9%\n",
      "nsfw train accuracy:91.0%\n",
      "subreddit val accuracy:37.8%\n",
      "nsfw val accuracy:90.5%\n",
      "Epoch 5 evaluation finished in 14.848284 seconds\n"
     ]
    }
   ],
   "source": [
    "# Create model instance\n",
    "tf.reset_default_graph()\n",
    "\n",
    "train_config = TrainConfig(num_epochs=5, \n",
    "                    train_batch_size=64, \n",
    "                    print_every=100, \n",
    "                    saver_address=r'ResNet_parameters')\n",
    "model = ResNet(model_config)\n",
    "\n",
    "# Create session\n",
    "session = tf.Session()\n",
    "model.train(data, session, train_config)"
   ]
  },
  {
   "cell_type": "code",
   "execution_count": 6,
   "metadata": {
    "collapsed": false
   },
   "outputs": [
    {
     "data": {
      "image/png": "[encoded data removed]",
      "text/plain": [
       "<matplotlib.figure.Figure at 0x7fbc70a315f8>"
      ]
     },
     "metadata": {},
     "output_type": "display_data"
    }
   ],
   "source": [
    "# Plot Loss and Accuracy\n",
    "model.plot_loss_acc(data)"
   ]
  },
  {
   "cell_type": "markdown",
   "metadata": {},
   "source": [
    "# Hyperparameter Search"
   ]
  },
  {
   "cell_type": "code",
   "execution_count": null,
   "metadata": {
    "collapsed": true
   },
   "outputs": [],
   "source": [
    "train_config = TrainConfig(num_epochs=5, \n",
    "                    train_batch_size=64, \n",
    "                    print_every=1000)\n",
    "modelHP = ResNet(model_config)\n",
    "session = tf.Session()\n",
    "\n",
    "def objective(args):\n",
    "    \n",
    "    train_config.num_epochs = args['Nepochs']\n",
    "    train_config.lr_decay = args['decayRate']\n",
    "    modelHP.config.learning_rate = args['learningRate']\n",
    "    modelHP.config.sbrd_weight = args['costWeight']\n",
    "    \n",
    "    modelHP.train(data, session, train_config)\n",
    "    cost, accuracy_sbrd, accuracy_nsfw = modelHP.eval(data, session, \"val\")\n",
    "    \n",
    "    saveList = {\n",
    "        'accuracy_sbrd' : accuracy_sbrd,\n",
    "        'accuracy_nsfw' : accuracy_nsfw,\n",
    "        'cost' : cost,\n",
    "        'Nepochs' : args['Nepochs'],\n",
    "        'learningRate' : args['learningRate'],\n",
    "        'decayRate' : args['decayRate'],\n",
    "        'costWeight' : args['costWeight']\n",
    "    }    \n",
    "    pickle.dump(saveList, open(\"../../hprOpt/hprPrmOpt_\" + str(accuracy_sbrd) + \"_\"  + str(accuracy_nsfw) + \"_\" + str(cost) + \".dat\", \"wb\"))\n",
    "    \n",
    "    return cost\n",
    "\n",
    "def optimize():\n",
    "    \n",
    "    space = {\n",
    "        'Nepochs' : hpropt.hp.randint('Nepochs', 1),\n",
    "        'learningRate' : hpropt.hp.loguniform('learningRate', -4, -1),\n",
    "        'decayRate' : hpropt.hp.uniform('decayRate', 0.9, 1),\n",
    "        'costWeight' : hpropt.hp.uniform('costWeight', 0.5, 1)\n",
    "    }\n",
    "    \n",
    "    best = hpropt.fmin(objective, space, algo=hpropt.tpe.suggest, max_evals=5)\n",
    "    print(best)\n",
    "    \n",
    "    return best"
   ]
  },
  {
   "cell_type": "code",
   "execution_count": null,
   "metadata": {
    "collapsed": false
   },
   "outputs": [],
   "source": [
    "optimize()"
   ]
  },
  {
   "cell_type": "code",
   "execution_count": null,
   "metadata": {
    "collapsed": true
   },
   "outputs": [],
   "source": []
  }
 ],
 "metadata": {
  "kernelspec": {
   "display_name": "Python 3",
   "language": "python",
   "name": "python3"
  },
  "language_info": {
   "codemirror_mode": {
    "name": "ipython",
    "version": 3
   },
   "file_extension": ".py",
   "mimetype": "text/x-python",
   "name": "python",
   "nbconvert_exporter": "python",
   "pygments_lexer": "ipython3",
   "version": "3.5.2"
  }
 },
 "nbformat": 4,
 "nbformat_minor": 1
}
