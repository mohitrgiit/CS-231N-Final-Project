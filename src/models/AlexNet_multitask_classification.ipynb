{
 "cells": [
  {
   "cell_type": "markdown",
   "metadata": {},
   "source": [
    "Author: Tyler Chase\n",
    "\n",
    "Date: 2017/05/18"
   ]
  },
  {
   "cell_type": "markdown",
   "metadata": {},
   "source": [
    "# Subreddit Multitask Classification\n",
    "\n",
    "This code uses a multitask AlexNet model to classify a subreddit origin of an image, as well as whether an image is safe for work (sfw) or not safe for work (nsfw). "
   ]
  },
  {
   "cell_type": "markdown",
   "metadata": {},
   "source": [
    "## Load Datasets"
   ]
  },
  {
   "cell_type": "code",
   "execution_count": 1,
   "metadata": {
    "collapsed": false
   },
   "outputs": [],
   "source": [
    "import tensorflow as tf\n",
    "import numpy as np\n",
    "import math\n",
    "import timeit\n",
    "import random\n",
    "import pickle\n",
    "import matplotlib.pyplot as plt\n",
    "import itertools\n",
    "import hyperopt as hpropt\n",
    "from sklearn.metrics import confusion_matrix\n",
    "from util import import_dataset, sample_data, plot_confusion_matrix\n",
    "from multiclass_model import MulticlassModel, lazy_property\n",
    "from config import ModelConfig, TrainConfig\n",
    "from data_stats import DataStats\n",
    "%matplotlib inline\n",
    "\n",
    "# Set default to auto import packages\n",
    "%load_ext autoreload\n",
    "%autoreload 2"
   ]
  },
  {
   "cell_type": "code",
   "execution_count": 2,
   "metadata": {
    "collapsed": false
   },
   "outputs": [
    {
     "name": "stdout",
     "output_type": "stream",
     "text": [
      "Train data shape:  (25450, 128, 128, 3)\n",
      "Train subreddit labels shape:  (25450,)\n",
      "Train nsfw labels shape:  (25450,)\n",
      "Validation data shape:  (3181, 128, 128, 3)\n",
      "Validation subreddit labels shape:  (3181,)\n",
      "Validation nsfw labels shape:  (3181,)\n",
      "Test data shape:  (3182, 128, 128, 3)\n",
      "Test subreddit labels shape:  (3182,)\n",
      "Test nsfw labels shape:  (3182,)\n"
     ]
    }
   ],
   "source": [
    "# Form training, developement, and testing data sets\n",
    "address = r'/home/tylerchase/CS-231N-Final-Project/data/fullData//'\n",
    "address = r'../../data/fullData//'\n",
    "file_names = {}\n",
    "file_names['images'] = 'full_data.npy'\n",
    "file_names['subs'] = 'full_subredditlabels'\n",
    "file_names['dict'] = 'full_subredditIndex'\n",
    "file_names['nsfw'] = 'full_nsfwlabels'\n",
    "data, dictionary = import_dataset(address, file_names)\n",
    "\n",
    "# Print the sizes as a sanity check\n",
    "print('Train data shape: ', data.X_train.shape)\n",
    "print('Train subreddit labels shape: ', data.y_train.shape)\n",
    "print('Train nsfw labels shape: ', data.y_train_2.shape)\n",
    "print('Validation data shape: ', data.X_val.shape)\n",
    "print('Validation subreddit labels shape: ', data.y_val.shape)\n",
    "print('Validation nsfw labels shape: ', data.y_val_2.shape)\n",
    "print('Test data shape: ', data.X_test.shape)\n",
    "print('Test subreddit labels shape: ', data.y_test.shape)\n",
    "print('Test nsfw labels shape: ', data.y_test_2.shape)"
   ]
  },
  {
   "cell_type": "markdown",
   "metadata": {},
   "source": [
    "## Optional Cell to take Particular Subreddits from Dataset"
   ]
  },
  {
   "cell_type": "code",
   "execution_count": null,
   "metadata": {
    "collapsed": true
   },
   "outputs": [],
   "source": [
    "subreddits = ['gonewild', 'ladybonersgw', 'PrettyGirls', 'LadyBoners']\n",
    "dictionary = sample_data(subreddits, data, dictionary)"
   ]
  },
  {
   "cell_type": "markdown",
   "metadata": {},
   "source": [
    "## Define AlexNet model \n",
    "\n",
    "* 11x11 convolutional layer with 96 filters and a stride of 4\n",
    "* ReLU activation\n",
    "* 3x3 max pooling with a stride of 2\n",
    "* batch normalization\n",
    "\n",
    "\n",
    "* 5x5 convolutional layer with 256 filters and a stride of 1\n",
    "* ReLU activation\n",
    "* 3x3 max pooling with a stride of 2\n",
    "* batch normalization\n",
    "\n",
    "\n",
    "* 3x3 convolutional layer with 384 filters and a stride of 1\n",
    "* ReLU activation\n",
    "* 3x3 convolutional layer with 384 filters and a stride of 1\n",
    "* ReLU activation \n",
    "* 3x3 convolutional layer with 256 filters and a stride of 1\n",
    "* ReLU activation\n",
    "* 3x3 max pooling with a stride of 2\n",
    "\n",
    "First path\n",
    "* affine layer from 4096 to 4096          \n",
    "* ReLU activation                          \n",
    "* affine layer from 4096 to 4096\n",
    "* ReLU activation\n",
    "* affine layer from 4096 to 20\n",
    "\n",
    "Second path\n",
    "* affine layer from 4096 to 4096          \n",
    "* ReLU activation                          \n",
    "* affine layer from 4096 to 4096\n",
    "* ReLU activation\n",
    "* affine layer from 4096 to 2"
   ]
  },
  {
   "cell_type": "code",
   "execution_count": 3,
   "metadata": {
    "collapsed": true
   },
   "outputs": [],
   "source": [
    "class AlexNet(MulticlassModel):\n",
    "    \n",
    "    def __init__(self, model_config):\n",
    "        MulticlassModel.__init__(self, model_config)\n",
    "  \n",
    "    @lazy_property\n",
    "    def prediction(self):\n",
    "        # define our graph (e.g. AlexNet)\n",
    "        \n",
    "        a1 = tf.layers.conv2d(self.X_placeholder, filters=96, kernel_size=(11,11), strides=(4,4), padding='SAME') \n",
    "        h1 = tf.nn.relu(a1)\n",
    "        mp1 = tf.layers.max_pooling2d(h1, pool_size=(3,3), strides=(2,2), padding='SAME')    \n",
    "        bn1 = tf.layers.batch_normalization(mp1, training=self.is_training_placeholder)\n",
    "        \n",
    "        a2 = tf.layers.conv2d(bn1, filters=256, kernel_size=(5,5), strides=(1,1), padding='SAME')     \n",
    "        h2 = tf.nn.relu(a2)\n",
    "        mp2 = tf.layers.max_pooling2d(h2, pool_size=(3,3), strides=(2,2), padding='SAME')    \n",
    "        bn2 = tf.layers.batch_normalization(mp2, training=self.is_training_placeholder)              \n",
    "    \n",
    "        a3 = tf.layers.conv2d(bn2, filters=384, kernel_size=(3,3), strides=(1,1), padding='SAME')    \n",
    "        h3 = tf.nn.relu(a3)\n",
    "        a4 = tf.layers.conv2d(h3, filters=384, kernel_size=(3,3), strides=(1,1), padding='SAME')   \n",
    "        h4 = tf.nn.relu(a4)\n",
    "        a5 = tf.layers.conv2d(h4, filters=256, kernel_size=(3,3), strides=(1,1), padding='SAME')    \n",
    "        h5 = tf.nn.relu(a5)\n",
    "        mp3 = tf.layers.max_pooling2d(h5, pool_size=(3,3), strides=(2,2), padding='SAME')  \n",
    "    \n",
    "        mp_flat = tf.reshape(mp3,[-1,4096])\n",
    "        \n",
    "        # First path for subreddit\n",
    "        aff1 = tf.layers.dense(mp_flat, 4096)\n",
    "        h6 = tf.nn.relu(aff1)\n",
    "        aff2 = tf.layers.dense(h6, 4096)\n",
    "        h7 = tf.nn.relu(aff2)\n",
    "        y_out = tf.layers.dense(h7, self.config.subreddit_class_size)\n",
    "        \n",
    "        # First path for nsfw\n",
    "        aff1_2 = tf.layers.dense(mp_flat, 4096)\n",
    "        h6_2 = tf.nn.relu(aff1_2)\n",
    "        aff2_2 = tf.layers.dense(h6_2, 4096)\n",
    "        h7_2 = tf.nn.relu(aff2_2)\n",
    "        y_out_2 = tf.layers.dense(h7_2, self.config.nsfw_class_size)\n",
    "    \n",
    "        return y_out, y_out_2"
   ]
  },
  {
   "cell_type": "markdown",
   "metadata": {},
   "source": [
    "## Train the Model"
   ]
  },
  {
   "cell_type": "code",
   "execution_count": null,
   "metadata": {
    "collapsed": false
   },
   "outputs": [],
   "source": [
    "# Create model instance\n",
    "tf.reset_default_graph()\n",
    "\n",
    "model_config = ModelConfig(learning_rate=0.003, sbrd_weight=0.85)\n",
    "train_config = TrainConfig(num_epochs=20, train_batch_size=100, print_every=100, lr_decay=0.98,\\\n",
    "    saver_address=r'../../subreddit_classification_parameters/', \\\n",
    "    save_file_name = 'AlexNet_multitask_classification_2')\n",
    "model = AlexNet(model_config)\n",
    "\n",
    "# Create session\n",
    "session = tf.Session()\n",
    "model.train(data, session, train_config)"
   ]
  },
  {
   "cell_type": "markdown",
   "metadata": {},
   "source": [
    "## Return Loss and Accuracy History"
   ]
  },
  {
   "cell_type": "code",
   "execution_count": null,
   "metadata": {
    "collapsed": false
   },
   "outputs": [],
   "source": [
    "# Plot Loss and Accuracy\n",
    "model.plot_loss_acc(data, save_address = '../../AlexNet_plots//', save_name = 'multitask_history', \\\n",
    "    title_font = 20, tick_font = 20, legend_font = 15, axis_font = 20)"
   ]
  },
  {
   "cell_type": "markdown",
   "metadata": {},
   "source": [
    "## Hyperparameter Search"
   ]
  },
  {
   "cell_type": "code",
   "execution_count": 4,
   "metadata": {
    "collapsed": true
   },
   "outputs": [],
   "source": [
    "model_config = ModelConfig(learning_rate=0.003, sbrd_weight=0.80)\n",
    "train_config = TrainConfig(num_epochs=8, \n",
    "                    train_batch_size=64, \n",
    "                    print_every=1000)\n",
    "modelHP = AlexNet(model_config)\n",
    "session = tf.Session()\n",
    "\n",
    "def objective(args):\n",
    "\n",
    "    tf.reset_default_graph()\n",
    "    modelHP = AlexNet(model_config)\n",
    "    session = tf.Session()\n",
    "    \n",
    "    #train_config.num_epochs = args['Nepochs']\n",
    "    train_config.lr_decay = args['decayRate']\n",
    "    modelHP.config.learning_rate = args['learningRate']\n",
    "    modelHP.config.sbrd_weight = args['costWeight']\n",
    "    \n",
    "    modelHP.train(data, session, train_config)\n",
    "    cost, accuracy_sbrd, accuracy_nsfw = modelHP.eval(data, session, \"val\")\n",
    "    \n",
    "    print('\\n\\n', 'lr_decay', 'learning_rate', 'sbrd_weight', 'cost', '\\n')\n",
    "    print(train_config.lr_decay, modelHP.config.learning_rate, modelHP.config.sbrd_weight, cost, '\\n')\n",
    "    \n",
    "    saveList = {\n",
    "        'accuracy_sbrd' : accuracy_sbrd,\n",
    "        'accuracy_nsfw' : accuracy_nsfw,\n",
    "        'cost' : cost,\n",
    "        #'Nepochs' : args['Nepochs'],\n",
    "        'learningRate' : args['learningRate'],\n",
    "        'decayRate' : args['decayRate'],\n",
    "        'costWeight' : args['costWeight']\n",
    "    }    \n",
    "    pickle.dump(saveList, open(\"../../hprOpt_AlexNetMultitask/hprPrmOpt_\" + str(accuracy_sbrd) + \"_\"  + str(accuracy_nsfw) + \"_\" + str(cost) + \".dat\", \"wb\"))\n",
    "    \n",
    "    return cost\n",
    "\n",
    "def optimize():\n",
    "    \n",
    "    space = {\n",
    "        #'Nepochs' : hpropt.hp.randint('Nepochs', 70),\n",
    "        'learningRate' : hpropt.hp.loguniform('learningRate', -3, -2),\n",
    "        'decayRate' : hpropt.hp.uniform('decayRate', 0.95, 1),\n",
    "        'costWeight' : hpropt.hp.uniform('costWeight', 0.75, 1)\n",
    "    }\n",
    "    \n",
    "    best = hpropt.fmin(objective, space, algo=hpropt.tpe.suggest, max_evals=100)\n",
    "    print(best)\n",
    "    \n",
    "    return best"
   ]
  },
  {
   "cell_type": "code",
   "execution_count": 5,
   "metadata": {
    "collapsed": false
   },
   "outputs": [
    {
     "name": "stdout",
     "output_type": "stream",
     "text": [
      "\n",
      "\n",
      " lr_decay learning_rate sbrd_weight \n",
      "\n",
      "0.9975436469020869 0.11428304560244082 0.7889261262848868 \n",
      "\n",
      "---------------------------------------------------------\n",
      "Epoch 1 training finished in 67.263228 seconds\n",
      "subreddit train accuracy:5.2%\n",
      "nsfw train accuracy:91.5%\n",
      "subreddit val accuracy:5.1%\n",
      "nsfw val accuracy:92.0%\n",
      "Epoch 1 evaluation finished in 30.622240 seconds\n",
      "---------------------------------------------------------\n",
      "Epoch 2 training finished in 62.707038 seconds\n",
      "subreddit train accuracy:5.2%\n",
      "nsfw train accuracy:91.5%\n",
      "subreddit val accuracy:5.1%\n",
      "nsfw val accuracy:92.0%\n",
      "Epoch 2 evaluation finished in 17.033044 seconds\n",
      "---------------------------------------------------------\n",
      "Epoch 3 training finished in 62.262172 seconds\n",
      "subreddit train accuracy:5.2%\n",
      "nsfw train accuracy:91.5%\n",
      "subreddit val accuracy:5.1%\n",
      "nsfw val accuracy:92.0%\n",
      "Epoch 3 evaluation finished in 16.991552 seconds\n",
      "---------------------------------------------------------\n",
      "Epoch 4 training finished in 62.381870 seconds\n",
      "subreddit train accuracy:5.2%\n",
      "nsfw train accuracy:91.5%\n",
      "subreddit val accuracy:5.1%\n",
      "nsfw val accuracy:92.0%\n",
      "Epoch 4 evaluation finished in 17.033904 seconds\n",
      "---------------------------------------------------------\n",
      "Epoch 5 training finished in 62.368056 seconds\n",
      "subreddit train accuracy:5.2%\n",
      "nsfw train accuracy:91.5%\n",
      "subreddit val accuracy:5.1%\n",
      "nsfw val accuracy:92.0%\n",
      "Epoch 5 evaluation finished in 16.937275 seconds\n",
      "---------------------------------------------------------\n",
      "Epoch 6 training finished in 62.427946 seconds\n",
      "subreddit train accuracy:5.2%\n",
      "nsfw train accuracy:91.5%\n",
      "subreddit val accuracy:5.1%\n",
      "nsfw val accuracy:92.0%\n",
      "Epoch 6 evaluation finished in 16.943289 seconds\n",
      "---------------------------------------------------------\n",
      "Epoch 7 training finished in 62.437496 seconds\n",
      "subreddit train accuracy:5.2%\n",
      "nsfw train accuracy:91.5%\n",
      "subreddit val accuracy:5.1%\n",
      "nsfw val accuracy:92.0%\n",
      "Epoch 7 evaluation finished in 16.862970 seconds\n",
      "---------------------------------------------------------\n",
      "Epoch 8 training finished in 62.457135 seconds\n",
      "subreddit train accuracy:5.2%\n",
      "nsfw train accuracy:91.5%\n",
      "subreddit val accuracy:5.1%\n",
      "nsfw val accuracy:92.0%\n",
      "Epoch 8 evaluation finished in 16.889783 seconds\n",
      "subreddit val accuracy:5.1%\n",
      "nsfw val accuracy:92.0%\n",
      "\n",
      "\n",
      " lr_decay learning_rate sbrd_weight \n",
      "\n",
      "0.9704628743745869 0.10042493941381679 0.7565551117290039 \n",
      "\n",
      "---------------------------------------------------------\n",
      "Epoch 1 training finished in 62.541936 seconds\n",
      "subreddit train accuracy:5.0%\n",
      "nsfw train accuracy:91.5%\n",
      "subreddit val accuracy:4.3%\n",
      "nsfw val accuracy:92.0%\n",
      "Epoch 1 evaluation finished in 16.934091 seconds\n",
      "---------------------------------------------------------\n",
      "Epoch 2 training finished in 62.505069 seconds\n",
      "subreddit train accuracy:5.0%\n",
      "nsfw train accuracy:91.5%\n",
      "subreddit val accuracy:4.3%\n",
      "nsfw val accuracy:92.0%\n",
      "Epoch 2 evaluation finished in 16.872230 seconds\n",
      "---------------------------------------------------------\n",
      "Epoch 3 training finished in 62.288119 seconds\n",
      "subreddit train accuracy:5.0%\n",
      "nsfw train accuracy:91.5%\n",
      "subreddit val accuracy:4.3%\n",
      "nsfw val accuracy:92.0%\n",
      "Epoch 3 evaluation finished in 16.929554 seconds\n",
      "---------------------------------------------------------\n",
      "Epoch 4 training finished in 62.282776 seconds\n",
      "subreddit train accuracy:5.0%\n",
      "nsfw train accuracy:91.5%\n",
      "subreddit val accuracy:4.3%\n",
      "nsfw val accuracy:92.0%\n",
      "Epoch 4 evaluation finished in 16.154365 seconds\n",
      "---------------------------------------------------------\n",
      "Epoch 5 training finished in 62.211039 seconds\n",
      "subreddit train accuracy:5.0%\n",
      "nsfw train accuracy:91.5%\n",
      "subreddit val accuracy:4.3%\n",
      "nsfw val accuracy:92.0%\n",
      "Epoch 5 evaluation finished in 16.700742 seconds\n",
      "---------------------------------------------------------\n",
      "Epoch 6 training finished in 62.221443 seconds\n",
      "subreddit train accuracy:5.0%\n",
      "nsfw train accuracy:91.5%\n",
      "subreddit val accuracy:4.3%\n",
      "nsfw val accuracy:92.0%\n",
      "Epoch 6 evaluation finished in 16.771623 seconds\n",
      "---------------------------------------------------------\n",
      "Epoch 7 training finished in 62.213302 seconds\n",
      "subreddit train accuracy:5.0%\n",
      "nsfw train accuracy:8.5%\n",
      "subreddit val accuracy:4.3%\n",
      "nsfw val accuracy:8.0%\n",
      "Epoch 7 evaluation finished in 16.844712 seconds\n",
      "---------------------------------------------------------\n",
      "Epoch 8 training finished in 62.139959 seconds\n",
      "subreddit train accuracy:5.0%\n",
      "nsfw train accuracy:91.5%\n",
      "subreddit val accuracy:4.3%\n",
      "nsfw val accuracy:92.0%\n",
      "Epoch 8 evaluation finished in 16.967892 seconds\n",
      "subreddit val accuracy:4.3%\n",
      "nsfw val accuracy:92.0%\n",
      "\n",
      "\n",
      " lr_decay learning_rate sbrd_weight \n",
      "\n",
      "0.9892731448941238 0.12330913686457749 0.7944533490788436 \n",
      "\n",
      "---------------------------------------------------------\n",
      "Epoch 1 training finished in 62.496319 seconds\n",
      "subreddit train accuracy:5.0%\n",
      "nsfw train accuracy:91.5%\n",
      "subreddit val accuracy:4.3%\n",
      "nsfw val accuracy:92.0%\n",
      "Epoch 1 evaluation finished in 16.955538 seconds\n",
      "---------------------------------------------------------\n",
      "Epoch 2 training finished in 62.547159 seconds\n",
      "subreddit train accuracy:5.0%\n",
      "nsfw train accuracy:91.5%\n",
      "subreddit val accuracy:4.3%\n",
      "nsfw val accuracy:92.0%\n",
      "Epoch 2 evaluation finished in 16.948893 seconds\n",
      "---------------------------------------------------------\n",
      "Epoch 3 training finished in 62.346478 seconds\n",
      "subreddit train accuracy:5.0%\n",
      "nsfw train accuracy:91.5%\n",
      "subreddit val accuracy:4.3%\n",
      "nsfw val accuracy:92.0%\n",
      "Epoch 3 evaluation finished in 16.796640 seconds\n",
      "---------------------------------------------------------\n",
      "Epoch 4 training finished in 62.410907 seconds\n",
      "subreddit train accuracy:5.0%\n",
      "nsfw train accuracy:91.5%\n",
      "subreddit val accuracy:4.3%\n",
      "nsfw val accuracy:92.0%\n",
      "Epoch 4 evaluation finished in 16.818512 seconds\n",
      "---------------------------------------------------------\n",
      "Epoch 5 training finished in 62.272031 seconds\n",
      "subreddit train accuracy:5.0%\n",
      "nsfw train accuracy:91.5%\n",
      "subreddit val accuracy:4.3%\n",
      "nsfw val accuracy:92.0%\n",
      "Epoch 5 evaluation finished in 16.816975 seconds\n",
      "---------------------------------------------------------\n",
      "Epoch 6 training finished in 62.349977 seconds\n",
      "subreddit train accuracy:5.0%\n",
      "nsfw train accuracy:91.5%\n",
      "subreddit val accuracy:4.3%\n",
      "nsfw val accuracy:92.0%\n",
      "Epoch 6 evaluation finished in 16.956929 seconds\n",
      "---------------------------------------------------------\n"
     ]
    },
    {
     "ename": "KeyboardInterrupt",
     "evalue": "",
     "output_type": "error",
     "traceback": [
      "\u001b[1;31m---------------------------------------------------------------------------\u001b[0m",
      "\u001b[1;31mKeyboardInterrupt\u001b[0m                         Traceback (most recent call last)",
      "\u001b[1;32m<ipython-input-5-4f576df864ee>\u001b[0m in \u001b[0;36m<module>\u001b[1;34m()\u001b[0m\n\u001b[1;32m----> 1\u001b[1;33m \u001b[0moptimize\u001b[0m\u001b[1;33m(\u001b[0m\u001b[1;33m)\u001b[0m\u001b[1;33m\u001b[0m\u001b[0m\n\u001b[0m",
      "\u001b[1;32m<ipython-input-4-b226956dc36c>\u001b[0m in \u001b[0;36moptimize\u001b[1;34m()\u001b[0m\n\u001b[0;32m     45\u001b[0m     }\n\u001b[0;32m     46\u001b[0m \u001b[1;33m\u001b[0m\u001b[0m\n\u001b[1;32m---> 47\u001b[1;33m     \u001b[0mbest\u001b[0m \u001b[1;33m=\u001b[0m \u001b[0mhpropt\u001b[0m\u001b[1;33m.\u001b[0m\u001b[0mfmin\u001b[0m\u001b[1;33m(\u001b[0m\u001b[0mobjective\u001b[0m\u001b[1;33m,\u001b[0m \u001b[0mspace\u001b[0m\u001b[1;33m,\u001b[0m \u001b[0malgo\u001b[0m\u001b[1;33m=\u001b[0m\u001b[0mhpropt\u001b[0m\u001b[1;33m.\u001b[0m\u001b[0mtpe\u001b[0m\u001b[1;33m.\u001b[0m\u001b[0msuggest\u001b[0m\u001b[1;33m,\u001b[0m \u001b[0mmax_evals\u001b[0m\u001b[1;33m=\u001b[0m\u001b[1;36m100\u001b[0m\u001b[1;33m)\u001b[0m\u001b[1;33m\u001b[0m\u001b[0m\n\u001b[0m\u001b[0;32m     48\u001b[0m     \u001b[0mprint\u001b[0m\u001b[1;33m(\u001b[0m\u001b[0mbest\u001b[0m\u001b[1;33m)\u001b[0m\u001b[1;33m\u001b[0m\u001b[0m\n\u001b[0;32m     49\u001b[0m \u001b[1;33m\u001b[0m\u001b[0m\n",
      "\u001b[1;32m/home/cs231n/myVE35/lib/python3.5/site-packages/hyperopt/fmin.py\u001b[0m in \u001b[0;36mfmin\u001b[1;34m(fn, space, algo, max_evals, trials, rstate, allow_trials_fmin, pass_expr_memo_ctrl, catch_eval_exceptions, verbose, return_argmin)\u001b[0m\n\u001b[0;32m    318\u001b[0m                     verbose=verbose)\n\u001b[0;32m    319\u001b[0m     \u001b[0mrval\u001b[0m\u001b[1;33m.\u001b[0m\u001b[0mcatch_eval_exceptions\u001b[0m \u001b[1;33m=\u001b[0m \u001b[0mcatch_eval_exceptions\u001b[0m\u001b[1;33m\u001b[0m\u001b[0m\n\u001b[1;32m--> 320\u001b[1;33m     \u001b[0mrval\u001b[0m\u001b[1;33m.\u001b[0m\u001b[0mexhaust\u001b[0m\u001b[1;33m(\u001b[0m\u001b[1;33m)\u001b[0m\u001b[1;33m\u001b[0m\u001b[0m\n\u001b[0m\u001b[0;32m    321\u001b[0m     \u001b[1;32mif\u001b[0m \u001b[0mreturn_argmin\u001b[0m\u001b[1;33m:\u001b[0m\u001b[1;33m\u001b[0m\u001b[0m\n\u001b[0;32m    322\u001b[0m         \u001b[1;32mreturn\u001b[0m \u001b[0mtrials\u001b[0m\u001b[1;33m.\u001b[0m\u001b[0margmin\u001b[0m\u001b[1;33m\u001b[0m\u001b[0m\n",
      "\u001b[1;32m/home/cs231n/myVE35/lib/python3.5/site-packages/hyperopt/fmin.py\u001b[0m in \u001b[0;36mexhaust\u001b[1;34m(self)\u001b[0m\n\u001b[0;32m    197\u001b[0m     \u001b[1;32mdef\u001b[0m \u001b[0mexhaust\u001b[0m\u001b[1;33m(\u001b[0m\u001b[0mself\u001b[0m\u001b[1;33m)\u001b[0m\u001b[1;33m:\u001b[0m\u001b[1;33m\u001b[0m\u001b[0m\n\u001b[0;32m    198\u001b[0m         \u001b[0mn_done\u001b[0m \u001b[1;33m=\u001b[0m \u001b[0mlen\u001b[0m\u001b[1;33m(\u001b[0m\u001b[0mself\u001b[0m\u001b[1;33m.\u001b[0m\u001b[0mtrials\u001b[0m\u001b[1;33m)\u001b[0m\u001b[1;33m\u001b[0m\u001b[0m\n\u001b[1;32m--> 199\u001b[1;33m         \u001b[0mself\u001b[0m\u001b[1;33m.\u001b[0m\u001b[0mrun\u001b[0m\u001b[1;33m(\u001b[0m\u001b[0mself\u001b[0m\u001b[1;33m.\u001b[0m\u001b[0mmax_evals\u001b[0m \u001b[1;33m-\u001b[0m \u001b[0mn_done\u001b[0m\u001b[1;33m,\u001b[0m \u001b[0mblock_until_done\u001b[0m\u001b[1;33m=\u001b[0m\u001b[0mself\u001b[0m\u001b[1;33m.\u001b[0m\u001b[0masync\u001b[0m\u001b[1;33m)\u001b[0m\u001b[1;33m\u001b[0m\u001b[0m\n\u001b[0m\u001b[0;32m    200\u001b[0m         \u001b[0mself\u001b[0m\u001b[1;33m.\u001b[0m\u001b[0mtrials\u001b[0m\u001b[1;33m.\u001b[0m\u001b[0mrefresh\u001b[0m\u001b[1;33m(\u001b[0m\u001b[1;33m)\u001b[0m\u001b[1;33m\u001b[0m\u001b[0m\n\u001b[0;32m    201\u001b[0m         \u001b[1;32mreturn\u001b[0m \u001b[0mself\u001b[0m\u001b[1;33m\u001b[0m\u001b[0m\n",
      "\u001b[1;32m/home/cs231n/myVE35/lib/python3.5/site-packages/hyperopt/fmin.py\u001b[0m in \u001b[0;36mrun\u001b[1;34m(self, N, block_until_done)\u001b[0m\n\u001b[0;32m    171\u001b[0m             \u001b[1;32melse\u001b[0m\u001b[1;33m:\u001b[0m\u001b[1;33m\u001b[0m\u001b[0m\n\u001b[0;32m    172\u001b[0m                 \u001b[1;31m# -- loop over trials and do the jobs directly\u001b[0m\u001b[1;33m\u001b[0m\u001b[1;33m\u001b[0m\u001b[0m\n\u001b[1;32m--> 173\u001b[1;33m                 \u001b[0mself\u001b[0m\u001b[1;33m.\u001b[0m\u001b[0mserial_evaluate\u001b[0m\u001b[1;33m(\u001b[0m\u001b[1;33m)\u001b[0m\u001b[1;33m\u001b[0m\u001b[0m\n\u001b[0m\u001b[0;32m    174\u001b[0m \u001b[1;33m\u001b[0m\u001b[0m\n\u001b[0;32m    175\u001b[0m             \u001b[1;32mif\u001b[0m \u001b[0mstopped\u001b[0m\u001b[1;33m:\u001b[0m\u001b[1;33m\u001b[0m\u001b[0m\n",
      "\u001b[1;32m/home/cs231n/myVE35/lib/python3.5/site-packages/hyperopt/fmin.py\u001b[0m in \u001b[0;36mserial_evaluate\u001b[1;34m(self, N)\u001b[0m\n\u001b[0;32m     90\u001b[0m                 \u001b[0mctrl\u001b[0m \u001b[1;33m=\u001b[0m \u001b[0mbase\u001b[0m\u001b[1;33m.\u001b[0m\u001b[0mCtrl\u001b[0m\u001b[1;33m(\u001b[0m\u001b[0mself\u001b[0m\u001b[1;33m.\u001b[0m\u001b[0mtrials\u001b[0m\u001b[1;33m,\u001b[0m \u001b[0mcurrent_trial\u001b[0m\u001b[1;33m=\u001b[0m\u001b[0mtrial\u001b[0m\u001b[1;33m)\u001b[0m\u001b[1;33m\u001b[0m\u001b[0m\n\u001b[0;32m     91\u001b[0m                 \u001b[1;32mtry\u001b[0m\u001b[1;33m:\u001b[0m\u001b[1;33m\u001b[0m\u001b[0m\n\u001b[1;32m---> 92\u001b[1;33m                     \u001b[0mresult\u001b[0m \u001b[1;33m=\u001b[0m \u001b[0mself\u001b[0m\u001b[1;33m.\u001b[0m\u001b[0mdomain\u001b[0m\u001b[1;33m.\u001b[0m\u001b[0mevaluate\u001b[0m\u001b[1;33m(\u001b[0m\u001b[0mspec\u001b[0m\u001b[1;33m,\u001b[0m \u001b[0mctrl\u001b[0m\u001b[1;33m)\u001b[0m\u001b[1;33m\u001b[0m\u001b[0m\n\u001b[0m\u001b[0;32m     93\u001b[0m                 \u001b[1;32mexcept\u001b[0m \u001b[0mException\u001b[0m \u001b[1;32mas\u001b[0m \u001b[0me\u001b[0m\u001b[1;33m:\u001b[0m\u001b[1;33m\u001b[0m\u001b[0m\n\u001b[0;32m     94\u001b[0m                     \u001b[0mlogger\u001b[0m\u001b[1;33m.\u001b[0m\u001b[0minfo\u001b[0m\u001b[1;33m(\u001b[0m\u001b[1;34m'job exception: %s'\u001b[0m \u001b[1;33m%\u001b[0m \u001b[0mstr\u001b[0m\u001b[1;33m(\u001b[0m\u001b[0me\u001b[0m\u001b[1;33m)\u001b[0m\u001b[1;33m)\u001b[0m\u001b[1;33m\u001b[0m\u001b[0m\n",
      "\u001b[1;32m/home/cs231n/myVE35/lib/python3.5/site-packages/hyperopt/base.py\u001b[0m in \u001b[0;36mevaluate\u001b[1;34m(self, config, ctrl, attach_attachments)\u001b[0m\n\u001b[0;32m    838\u001b[0m                 \u001b[0mmemo\u001b[0m\u001b[1;33m=\u001b[0m\u001b[0mmemo\u001b[0m\u001b[1;33m,\u001b[0m\u001b[1;33m\u001b[0m\u001b[0m\n\u001b[0;32m    839\u001b[0m                 print_node_on_error=self.rec_eval_print_node_on_error)\n\u001b[1;32m--> 840\u001b[1;33m             \u001b[0mrval\u001b[0m \u001b[1;33m=\u001b[0m \u001b[0mself\u001b[0m\u001b[1;33m.\u001b[0m\u001b[0mfn\u001b[0m\u001b[1;33m(\u001b[0m\u001b[0mpyll_rval\u001b[0m\u001b[1;33m)\u001b[0m\u001b[1;33m\u001b[0m\u001b[0m\n\u001b[0m\u001b[0;32m    841\u001b[0m \u001b[1;33m\u001b[0m\u001b[0m\n\u001b[0;32m    842\u001b[0m         \u001b[1;32mif\u001b[0m \u001b[0misinstance\u001b[0m\u001b[1;33m(\u001b[0m\u001b[0mrval\u001b[0m\u001b[1;33m,\u001b[0m \u001b[1;33m(\u001b[0m\u001b[0mfloat\u001b[0m\u001b[1;33m,\u001b[0m \u001b[0mint\u001b[0m\u001b[1;33m,\u001b[0m \u001b[0mnp\u001b[0m\u001b[1;33m.\u001b[0m\u001b[0mnumber\u001b[0m\u001b[1;33m)\u001b[0m\u001b[1;33m)\u001b[0m\u001b[1;33m:\u001b[0m\u001b[1;33m\u001b[0m\u001b[0m\n",
      "\u001b[1;32m<ipython-input-4-b226956dc36c>\u001b[0m in \u001b[0;36mobjective\u001b[1;34m(args)\u001b[0m\n\u001b[0;32m     20\u001b[0m \u001b[1;33m\u001b[0m\u001b[0m\n\u001b[0;32m     21\u001b[0m \u001b[1;33m\u001b[0m\u001b[0m\n\u001b[1;32m---> 22\u001b[1;33m     \u001b[0mmodelHP\u001b[0m\u001b[1;33m.\u001b[0m\u001b[0mtrain\u001b[0m\u001b[1;33m(\u001b[0m\u001b[0mdata\u001b[0m\u001b[1;33m,\u001b[0m \u001b[0msession\u001b[0m\u001b[1;33m,\u001b[0m \u001b[0mtrain_config\u001b[0m\u001b[1;33m)\u001b[0m\u001b[1;33m\u001b[0m\u001b[0m\n\u001b[0m\u001b[0;32m     23\u001b[0m     \u001b[0mcost\u001b[0m\u001b[1;33m,\u001b[0m \u001b[0maccuracy_sbrd\u001b[0m\u001b[1;33m,\u001b[0m \u001b[0maccuracy_nsfw\u001b[0m \u001b[1;33m=\u001b[0m \u001b[0mmodelHP\u001b[0m\u001b[1;33m.\u001b[0m\u001b[0meval\u001b[0m\u001b[1;33m(\u001b[0m\u001b[0mdata\u001b[0m\u001b[1;33m,\u001b[0m \u001b[0msession\u001b[0m\u001b[1;33m,\u001b[0m \u001b[1;34m\"val\"\u001b[0m\u001b[1;33m)\u001b[0m\u001b[1;33m\u001b[0m\u001b[0m\n\u001b[0;32m     24\u001b[0m \u001b[1;33m\u001b[0m\u001b[0m\n",
      "\u001b[1;32m/home/tylerchase/CS-231N-Final-Project/src/models/multiclass_model.py\u001b[0m in \u001b[0;36mtrain\u001b[1;34m(self, data, session, train_config)\u001b[0m\n\u001b[0;32m    123\u001b[0m                                             \u001b[0mself\u001b[0m\u001b[1;33m.\u001b[0m\u001b[0my_sbrd_placeholder\u001b[0m\u001b[1;33m:\u001b[0m\u001b[0mbatch_y_1\u001b[0m\u001b[1;33m,\u001b[0m\u001b[0;31m \u001b[0m\u001b[0;31m\\\u001b[0m\u001b[1;33m\u001b[0m\u001b[0m\n\u001b[0;32m    124\u001b[0m                                             \u001b[0mself\u001b[0m\u001b[1;33m.\u001b[0m\u001b[0my_nsfw_placeholder\u001b[0m\u001b[1;33m:\u001b[0m\u001b[0mbatch_y_2\u001b[0m\u001b[1;33m,\u001b[0m\u001b[0;31m \u001b[0m\u001b[0;31m\\\u001b[0m\u001b[1;33m\u001b[0m\u001b[0m\n\u001b[1;32m--> 125\u001b[1;33m                                             self.is_training_placeholder:True})\n\u001b[0m\u001b[0;32m    126\u001b[0m \u001b[1;33m\u001b[0m\u001b[0m\n\u001b[0;32m    127\u001b[0m                 \u001b[1;31m# print run time, current batch, and current epoch\u001b[0m\u001b[1;33m\u001b[0m\u001b[1;33m\u001b[0m\u001b[0m\n",
      "\u001b[1;32m/home/cs231n/myVE35/lib/python3.5/site-packages/tensorflow/python/client/session.py\u001b[0m in \u001b[0;36mrun\u001b[1;34m(self, fetches, feed_dict, options, run_metadata)\u001b[0m\n\u001b[0;32m    765\u001b[0m     \u001b[1;32mtry\u001b[0m\u001b[1;33m:\u001b[0m\u001b[1;33m\u001b[0m\u001b[0m\n\u001b[0;32m    766\u001b[0m       result = self._run(None, fetches, feed_dict, options_ptr,\n\u001b[1;32m--> 767\u001b[1;33m                          run_metadata_ptr)\n\u001b[0m\u001b[0;32m    768\u001b[0m       \u001b[1;32mif\u001b[0m \u001b[0mrun_metadata\u001b[0m\u001b[1;33m:\u001b[0m\u001b[1;33m\u001b[0m\u001b[0m\n\u001b[0;32m    769\u001b[0m         \u001b[0mproto_data\u001b[0m \u001b[1;33m=\u001b[0m \u001b[0mtf_session\u001b[0m\u001b[1;33m.\u001b[0m\u001b[0mTF_GetBuffer\u001b[0m\u001b[1;33m(\u001b[0m\u001b[0mrun_metadata_ptr\u001b[0m\u001b[1;33m)\u001b[0m\u001b[1;33m\u001b[0m\u001b[0m\n",
      "\u001b[1;32m/home/cs231n/myVE35/lib/python3.5/site-packages/tensorflow/python/client/session.py\u001b[0m in \u001b[0;36m_run\u001b[1;34m(self, handle, fetches, feed_dict, options, run_metadata)\u001b[0m\n\u001b[0;32m    963\u001b[0m     \u001b[1;32mif\u001b[0m \u001b[0mfinal_fetches\u001b[0m \u001b[1;32mor\u001b[0m \u001b[0mfinal_targets\u001b[0m\u001b[1;33m:\u001b[0m\u001b[1;33m\u001b[0m\u001b[0m\n\u001b[0;32m    964\u001b[0m       results = self._do_run(handle, final_targets, final_fetches,\n\u001b[1;32m--> 965\u001b[1;33m                              feed_dict_string, options, run_metadata)\n\u001b[0m\u001b[0;32m    966\u001b[0m     \u001b[1;32melse\u001b[0m\u001b[1;33m:\u001b[0m\u001b[1;33m\u001b[0m\u001b[0m\n\u001b[0;32m    967\u001b[0m       \u001b[0mresults\u001b[0m \u001b[1;33m=\u001b[0m \u001b[1;33m[\u001b[0m\u001b[1;33m]\u001b[0m\u001b[1;33m\u001b[0m\u001b[0m\n",
      "\u001b[1;32m/home/cs231n/myVE35/lib/python3.5/site-packages/tensorflow/python/client/session.py\u001b[0m in \u001b[0;36m_do_run\u001b[1;34m(self, handle, target_list, fetch_list, feed_dict, options, run_metadata)\u001b[0m\n\u001b[0;32m   1013\u001b[0m     \u001b[1;32mif\u001b[0m \u001b[0mhandle\u001b[0m \u001b[1;32mis\u001b[0m \u001b[1;32mNone\u001b[0m\u001b[1;33m:\u001b[0m\u001b[1;33m\u001b[0m\u001b[0m\n\u001b[0;32m   1014\u001b[0m       return self._do_call(_run_fn, self._session, feed_dict, fetch_list,\n\u001b[1;32m-> 1015\u001b[1;33m                            target_list, options, run_metadata)\n\u001b[0m\u001b[0;32m   1016\u001b[0m     \u001b[1;32melse\u001b[0m\u001b[1;33m:\u001b[0m\u001b[1;33m\u001b[0m\u001b[0m\n\u001b[0;32m   1017\u001b[0m       return self._do_call(_prun_fn, self._session, handle, feed_dict,\n",
      "\u001b[1;32m/home/cs231n/myVE35/lib/python3.5/site-packages/tensorflow/python/client/session.py\u001b[0m in \u001b[0;36m_do_call\u001b[1;34m(self, fn, *args)\u001b[0m\n\u001b[0;32m   1020\u001b[0m   \u001b[1;32mdef\u001b[0m \u001b[0m_do_call\u001b[0m\u001b[1;33m(\u001b[0m\u001b[0mself\u001b[0m\u001b[1;33m,\u001b[0m \u001b[0mfn\u001b[0m\u001b[1;33m,\u001b[0m \u001b[1;33m*\u001b[0m\u001b[0margs\u001b[0m\u001b[1;33m)\u001b[0m\u001b[1;33m:\u001b[0m\u001b[1;33m\u001b[0m\u001b[0m\n\u001b[0;32m   1021\u001b[0m     \u001b[1;32mtry\u001b[0m\u001b[1;33m:\u001b[0m\u001b[1;33m\u001b[0m\u001b[0m\n\u001b[1;32m-> 1022\u001b[1;33m       \u001b[1;32mreturn\u001b[0m \u001b[0mfn\u001b[0m\u001b[1;33m(\u001b[0m\u001b[1;33m*\u001b[0m\u001b[0margs\u001b[0m\u001b[1;33m)\u001b[0m\u001b[1;33m\u001b[0m\u001b[0m\n\u001b[0m\u001b[0;32m   1023\u001b[0m     \u001b[1;32mexcept\u001b[0m \u001b[0merrors\u001b[0m\u001b[1;33m.\u001b[0m\u001b[0mOpError\u001b[0m \u001b[1;32mas\u001b[0m \u001b[0me\u001b[0m\u001b[1;33m:\u001b[0m\u001b[1;33m\u001b[0m\u001b[0m\n\u001b[0;32m   1024\u001b[0m       \u001b[0mmessage\u001b[0m \u001b[1;33m=\u001b[0m \u001b[0mcompat\u001b[0m\u001b[1;33m.\u001b[0m\u001b[0mas_text\u001b[0m\u001b[1;33m(\u001b[0m\u001b[0me\u001b[0m\u001b[1;33m.\u001b[0m\u001b[0mmessage\u001b[0m\u001b[1;33m)\u001b[0m\u001b[1;33m\u001b[0m\u001b[0m\n",
      "\u001b[1;32m/home/cs231n/myVE35/lib/python3.5/site-packages/tensorflow/python/client/session.py\u001b[0m in \u001b[0;36m_run_fn\u001b[1;34m(session, feed_dict, fetch_list, target_list, options, run_metadata)\u001b[0m\n\u001b[0;32m   1002\u001b[0m         return tf_session.TF_Run(session, options,\n\u001b[0;32m   1003\u001b[0m                                  \u001b[0mfeed_dict\u001b[0m\u001b[1;33m,\u001b[0m \u001b[0mfetch_list\u001b[0m\u001b[1;33m,\u001b[0m \u001b[0mtarget_list\u001b[0m\u001b[1;33m,\u001b[0m\u001b[1;33m\u001b[0m\u001b[0m\n\u001b[1;32m-> 1004\u001b[1;33m                                  status, run_metadata)\n\u001b[0m\u001b[0;32m   1005\u001b[0m \u001b[1;33m\u001b[0m\u001b[0m\n\u001b[0;32m   1006\u001b[0m     \u001b[1;32mdef\u001b[0m \u001b[0m_prun_fn\u001b[0m\u001b[1;33m(\u001b[0m\u001b[0msession\u001b[0m\u001b[1;33m,\u001b[0m \u001b[0mhandle\u001b[0m\u001b[1;33m,\u001b[0m \u001b[0mfeed_dict\u001b[0m\u001b[1;33m,\u001b[0m \u001b[0mfetch_list\u001b[0m\u001b[1;33m)\u001b[0m\u001b[1;33m:\u001b[0m\u001b[1;33m\u001b[0m\u001b[0m\n",
      "\u001b[1;31mKeyboardInterrupt\u001b[0m: "
     ]
    }
   ],
   "source": [
    "optimize()"
   ]
  },
  {
   "cell_type": "markdown",
   "metadata": {},
   "source": [
    "## Test Loading the Model"
   ]
  },
  {
   "cell_type": "code",
   "execution_count": null,
   "metadata": {
    "collapsed": false
   },
   "outputs": [],
   "source": [
    "# Reset Graph\n",
    "tf.reset_default_graph()\n",
    "\n",
    "# Create model instance\n",
    "model_config = ModelConfig(learning_rate=0.003, sbrd_weight=0.85)\n",
    "train_config = TrainConfig(num_epochs=20, train_batch_size=100, print_every=100, lr_decay=0.98,\\\n",
    "    saver_address=r'../../subreddit_classification_parameters/', \\\n",
    "    save_file_name = 'AlexNet_multitask_classification_2')\n",
    "model = AlexNet(model_config)\n",
    "\n",
    "# Load Saved Model\n",
    "session = tf.Session()\n",
    "saver = tf.train.Saver()\n",
    "saver.restore(session, train_config.saver_address + train_config.save_file_name) \n",
    "\n",
    "# Test Model Accuracy\n",
    "loss_train, acc_train_sub, acc_train_nsfw = model.eval(data, session, split='train')\n",
    "loss_val, acc_val_sub, acc_val_nsfw = model.eval(data, session, split = 'val')"
   ]
  },
  {
   "cell_type": "markdown",
   "metadata": {},
   "source": [
    "## Output Predictions for Validation "
   ]
  },
  {
   "cell_type": "code",
   "execution_count": null,
   "metadata": {
    "collapsed": true
   },
   "outputs": [],
   "source": [
    "y_val_pred_sub, y_val_pred_nsfw = session.run(model.prediction, {model.X_placeholder: data.X_val, \\\n",
    "    model.y_sbrd_placeholder: data.y_val, model.y_nsfw_placeholder: data.y_val_2, \\\n",
    "    model.is_training_placeholder:False})\n",
    "\n",
    "y_val_pred_sub = np.argmax(y_val_pred_sub, axis = 1)\n",
    "y_val_pred_nsfw = np.argmax(y_val_pred_nsfw, axis = 1)"
   ]
  },
  {
   "cell_type": "markdown",
   "metadata": {
    "collapsed": true
   },
   "source": [
    "## Plot Confusion Matrix for Subreddit Classification"
   ]
  },
  {
   "cell_type": "code",
   "execution_count": null,
   "metadata": {
    "collapsed": false
   },
   "outputs": [],
   "source": [
    "classes = [\"\"] * len(dictionary)\n",
    "for sub, ind in dictionary.items():\n",
    "    classes[ind] = sub\n",
    "\n",
    "conf = confusion_matrix(data.y_val, y_val_pred_sub)\n",
    "plot_confusion_matrix(conf, classes=classes, normalize = True, tick_font = 12, box_font = 10, \\\n",
    "    axis_font = 40, title_font = 50, colorbar_font = 20,\\\n",
    "    left_space = 0.2, right_space = 1, top_space = 0.97, bottom_space = 0.05, \\\n",
    "    save_address = '../../AlexNet_plots//', save_name = 'multitask_confusion_subreddit')"
   ]
  },
  {
   "cell_type": "markdown",
   "metadata": {},
   "source": [
    "## Plot Confusion Matrix for NSFW Classification"
   ]
  },
  {
   "cell_type": "code",
   "execution_count": null,
   "metadata": {
    "collapsed": false
   },
   "outputs": [],
   "source": [
    "classes = ['sfw', 'nsfw']\n",
    "\n",
    "conf = confusion_matrix(data.y_val_2, y_val_pred_nsfw)\n",
    "plot_confusion_matrix(conf, classes=classes, normalize = True, figure_size = 11, tick_font = 50, box_font = 60, \\\n",
    "    axis_font = 55, title_font = 58, colorbar_font = 40,\\\n",
    "    left_space = 0.25, right_space = 0.95, top_space = 0.97, bottom_space = 0.05, \\\n",
    "    save_address = '../../AlexNet_plots//', save_name = 'multitask_confusion_nsfw')"
   ]
  },
  {
   "cell_type": "code",
   "execution_count": null,
   "metadata": {
    "collapsed": false
   },
   "outputs": [],
   "source": [
    "data_stats = DataStats(data, dictionary)\n",
    "data_stats.nsfw_stats(dataSet = 'val')"
   ]
  },
  {
   "cell_type": "markdown",
   "metadata": {
    "collapsed": true
   },
   "source": [
    "## Output Prediction Test"
   ]
  },
  {
   "cell_type": "code",
   "execution_count": null,
   "metadata": {
    "collapsed": false
   },
   "outputs": [],
   "source": [
    "test_cost, test_acc_sub, test_acc_nsfw = model.eval(data, session, \"test\")\n",
    "\n",
    "y_test_pred_sub, y_test_pred_nsfw = session.run(model.prediction, {model.X_placeholder: data.X_test, \\\n",
    "    model.y_sbrd_placeholder: data.y_test, model.y_nsfw_placeholder: data.y_test_2, \\\n",
    "    model.is_training_placeholder:False})\n",
    "\n",
    "y_test_pred_sub = np.argmax(y_test_pred_sub, axis = 1)\n",
    "y_test_pred_nsfw = np.argmax(y_test_pred_nsfw, axis = 1)"
   ]
  },
  {
   "cell_type": "markdown",
   "metadata": {},
   "source": [
    "## Plot Confusion Matrix Subreddit Test"
   ]
  },
  {
   "cell_type": "code",
   "execution_count": null,
   "metadata": {
    "collapsed": false
   },
   "outputs": [],
   "source": [
    "classes = [\"\"] * len(dictionary)\n",
    "for sub, ind in dictionary.items():\n",
    "    classes[ind] = sub\n",
    "\n",
    "conf = confusion_matrix(data.y_test, y_test_pred_sub)\n",
    "plot_confusion_matrix(conf, classes=classes, normalize = True, tick_font = 12, box_font = 10, \\\n",
    "    axis_font = 40, title_font = 50, colorbar_font = 20,\\\n",
    "    left_space = 0.2, right_space = 1, top_space = 0.97, bottom_space = 0.05, \\\n",
    "    save_address = '../../AlexNet_plots//', save_name = 'multitask_confusion_subreddit_test')"
   ]
  },
  {
   "cell_type": "markdown",
   "metadata": {},
   "source": [
    "## Plot Confusion Matrix NSFW Test"
   ]
  },
  {
   "cell_type": "code",
   "execution_count": null,
   "metadata": {
    "collapsed": false
   },
   "outputs": [],
   "source": [
    "classes = ['sfw', 'nsfw']\n",
    "\n",
    "conf = confusion_matrix(data.y_test_2, y_test_pred_nsfw)\n",
    "plot_confusion_matrix(conf, classes=classes, normalize = True, figure_size = 11, tick_font = 50, box_font = 60, \\\n",
    "    axis_font = 55, title_font = 58, colorbar_font = 40,\\\n",
    "    left_space = 0.25, right_space = 0.95, top_space = 0.97, bottom_space = 0.05, \\\n",
    "    save_address = '../../AlexNet_plots//', save_name = 'multitask_confusion_nsfw_test')"
   ]
  },
  {
   "cell_type": "code",
   "execution_count": null,
   "metadata": {
    "collapsed": true
   },
   "outputs": [],
   "source": []
  }
 ],
 "metadata": {
  "kernelspec": {
   "display_name": "Python 3",
   "language": "python",
   "name": "python3"
  },
  "language_info": {
   "codemirror_mode": {
    "name": "ipython",
    "version": 3
   },
   "file_extension": ".py",
   "mimetype": "text/x-python",
   "name": "python",
   "nbconvert_exporter": "python",
   "pygments_lexer": "ipython3",
   "version": "3.5.2"
  }
 },
 "nbformat": 4,
 "nbformat_minor": 2
}
