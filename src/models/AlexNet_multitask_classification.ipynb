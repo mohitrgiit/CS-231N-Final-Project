{
 "cells": [
  {
   "cell_type": "markdown",
   "metadata": {},
   "source": [
    "Author: Tyler Chase\n",
    "\n",
    "Date: 2017/05/18"
   ]
  },
  {
   "cell_type": "markdown",
   "metadata": {},
   "source": [
    "# Subreddit Multitask Classification\n",
    "\n",
    "This code uses a multitask AlexNet model to classify a subreddit origin of an image, as well as whether an image is safe for work (sfw) or not safe for work (nsfw). "
   ]
  },
  {
   "cell_type": "markdown",
   "metadata": {},
   "source": [
    "## Load Datasets"
   ]
  },
  {
   "cell_type": "code",
   "execution_count": 1,
   "metadata": {
    "collapsed": false
   },
   "outputs": [],
   "source": [
    "import tensorflow as tf\n",
    "import numpy as np\n",
    "import math\n",
    "import timeit\n",
    "import random\n",
    "import pickle\n",
    "import matplotlib.pyplot as plt\n",
    "import itertools\n",
    "import hyperopt as hpropt\n",
    "from sklearn.metrics import confusion_matrix\n",
    "from util import import_dataset, sample_data, plot_confusion_matrix\n",
    "from multiclass_model import MulticlassModel, lazy_property\n",
    "from config import ModelConfig, TrainConfig\n",
    "from data_stats import DataStats\n",
    "%matplotlib inline\n",
    "\n",
    "# Set default to auto import packages\n",
    "%load_ext autoreload\n",
    "%autoreload 2"
   ]
  },
  {
   "cell_type": "code",
   "execution_count": 2,
   "metadata": {
    "collapsed": false
   },
   "outputs": [
    {
     "name": "stdout",
     "output_type": "stream",
     "text": [
      "Train data shape:  (25450, 128, 128, 3)\n",
      "Train subreddit labels shape:  (25450,)\n",
      "Train nsfw labels shape:  (25450,)\n",
      "Validation data shape:  (3181, 128, 128, 3)\n",
      "Validation subreddit labels shape:  (3181,)\n",
      "Validation nsfw labels shape:  (3181,)\n",
      "Test data shape:  (3182, 128, 128, 3)\n",
      "Test subreddit labels shape:  (3182,)\n",
      "Test nsfw labels shape:  (3182,)\n"
     ]
    }
   ],
   "source": [
    "# Form training, developement, and testing data sets\n",
    "address = r'/home/tylerchase/CS-231N-Final-Project/data/fullData//'\n",
    "address = r'../../data/fullData//'\n",
    "file_names = {}\n",
    "file_names['images'] = 'full_data.npy'\n",
    "file_names['subs'] = 'full_subredditlabels'\n",
    "file_names['dict'] = 'full_subredditIndex'\n",
    "file_names['nsfw'] = 'full_nsfwlabels'\n",
    "data, dictionary = import_dataset(address, file_names)\n",
    "\n",
    "# Print the sizes as a sanity check\n",
    "print('Train data shape: ', data.X_train.shape)\n",
    "print('Train subreddit labels shape: ', data.y_train.shape)\n",
    "print('Train nsfw labels shape: ', data.y_train_2.shape)\n",
    "print('Validation data shape: ', data.X_val.shape)\n",
    "print('Validation subreddit labels shape: ', data.y_val.shape)\n",
    "print('Validation nsfw labels shape: ', data.y_val_2.shape)\n",
    "print('Test data shape: ', data.X_test.shape)\n",
    "print('Test subreddit labels shape: ', data.y_test.shape)\n",
    "print('Test nsfw labels shape: ', data.y_test_2.shape)"
   ]
  },
  {
   "cell_type": "markdown",
   "metadata": {},
   "source": [
    "## Optional Cell to take Particular Subreddits from Dataset"
   ]
  },
  {
   "cell_type": "code",
   "execution_count": null,
   "metadata": {
    "collapsed": true
   },
   "outputs": [],
   "source": [
    "subreddits = ['gonewild', 'ladybonersgw', 'PrettyGirls', 'LadyBoners']\n",
    "dictionary = sample_data(subreddits, data, dictionary)"
   ]
  },
  {
   "cell_type": "markdown",
   "metadata": {},
   "source": [
    "## Define AlexNet model \n",
    "\n",
    "* 11x11 convolutional layer with 96 filters and a stride of 4\n",
    "* ReLU activation\n",
    "* 3x3 max pooling with a stride of 2\n",
    "* batch normalization\n",
    "\n",
    "\n",
    "* 5x5 convolutional layer with 256 filters and a stride of 1\n",
    "* ReLU activation\n",
    "* 3x3 max pooling with a stride of 2\n",
    "* batch normalization\n",
    "\n",
    "\n",
    "* 3x3 convolutional layer with 384 filters and a stride of 1\n",
    "* ReLU activation\n",
    "* 3x3 convolutional layer with 384 filters and a stride of 1\n",
    "* ReLU activation \n",
    "* 3x3 convolutional layer with 256 filters and a stride of 1\n",
    "* ReLU activation\n",
    "* 3x3 max pooling with a stride of 2\n",
    "\n",
    "First path\n",
    "* affine layer from 4096 to 4096          \n",
    "* ReLU activation                          \n",
    "* affine layer from 4096 to 4096\n",
    "* ReLU activation\n",
    "* affine layer from 4096 to 20\n",
    "\n",
    "Second path\n",
    "* affine layer from 4096 to 4096          \n",
    "* ReLU activation                          \n",
    "* affine layer from 4096 to 4096\n",
    "* ReLU activation\n",
    "* affine layer from 4096 to 2"
   ]
  },
  {
   "cell_type": "code",
   "execution_count": 3,
   "metadata": {
    "collapsed": true
   },
   "outputs": [],
   "source": [
    "class AlexNet(MulticlassModel):\n",
    "    \n",
    "    def __init__(self, model_config):\n",
    "        MulticlassModel.__init__(self, model_config)\n",
    "  \n",
    "    @lazy_property\n",
    "    def prediction(self):\n",
    "        # define our graph (e.g. AlexNet)\n",
    "        \n",
    "        a1 = tf.layers.conv2d(self.X_placeholder, filters=96, kernel_size=(11,11), strides=(4,4), padding='SAME') \n",
    "        h1 = tf.nn.relu(a1)\n",
    "        mp1 = tf.layers.max_pooling2d(h1, pool_size=(3,3), strides=(2,2), padding='SAME')    \n",
    "        bn1 = tf.layers.batch_normalization(mp1, training=self.is_training_placeholder)\n",
    "        \n",
    "        a2 = tf.layers.conv2d(bn1, filters=256, kernel_size=(5,5), strides=(1,1), padding='SAME')     \n",
    "        h2 = tf.nn.relu(a2)\n",
    "        mp2 = tf.layers.max_pooling2d(h2, pool_size=(3,3), strides=(2,2), padding='SAME')    \n",
    "        bn2 = tf.layers.batch_normalization(mp2, training=self.is_training_placeholder)              \n",
    "    \n",
    "        a3 = tf.layers.conv2d(bn2, filters=384, kernel_size=(3,3), strides=(1,1), padding='SAME')    \n",
    "        h3 = tf.nn.relu(a3)\n",
    "        a4 = tf.layers.conv2d(h3, filters=384, kernel_size=(3,3), strides=(1,1), padding='SAME')   \n",
    "        h4 = tf.nn.relu(a4)\n",
    "        a5 = tf.layers.conv2d(h4, filters=256, kernel_size=(3,3), strides=(1,1), padding='SAME')    \n",
    "        h5 = tf.nn.relu(a5)\n",
    "        mp3 = tf.layers.max_pooling2d(h5, pool_size=(3,3), strides=(2,2), padding='SAME')  \n",
    "    \n",
    "        mp_flat = tf.reshape(mp3,[-1,4096])\n",
    "        \n",
    "        # First path for subreddit\n",
    "        aff1 = tf.layers.dense(mp_flat, 2048)\n",
    "        h6 = tf.nn.relu(aff1)\n",
    "        aff2 = tf.layers.dense(h6, 2048)\n",
    "        h7 = tf.nn.relu(aff2)\n",
    "        y_out = tf.layers.dense(h7, self.config.subreddit_class_size)\n",
    "        \n",
    "        # First path for nsfw\n",
    "        aff1_2 = tf.layers.dense(mp_flat, 2048)\n",
    "        h6_2 = tf.nn.relu(aff1_2)\n",
    "        aff2_2 = tf.layers.dense(h6_2, 2048)\n",
    "        h7_2 = tf.nn.relu(aff2_2)\n",
    "        y_out_2 = tf.layers.dense(h7_2, self.config.nsfw_class_size)\n",
    "    \n",
    "        return y_out, y_out_2"
   ]
  },
  {
   "cell_type": "markdown",
   "metadata": {},
   "source": [
    "## Optional Cell Train the Model Choosing Specific Hyperparameters"
   ]
  },
  {
   "cell_type": "code",
   "execution_count": 4,
   "metadata": {
    "collapsed": false
   },
   "outputs": [
    {
     "name": "stdout",
     "output_type": "stream",
     "text": [
      "---------------------------------------------------------\n",
      "Batch 100/255 of epoch 1 finished in 23.842890 seconds\n",
      "Batch 200/255 of epoch 1 finished in 19.750808 seconds\n",
      "Epoch 1 training finished in 56.139970 seconds\n",
      "subreddit train accuracy:26.2%\n",
      "nsfw train accuracy:91.7%\n",
      "subreddit val accuracy:25.8%\n",
      "nsfw val accuracy:92.1%\n",
      "Epoch 1 evaluation finished in 29.835880 seconds\n",
      "---------------------------------------------------------\n",
      "Batch 100/255 of epoch 2 finished in 19.626958 seconds\n",
      "Batch 200/255 of epoch 2 finished in 19.692122 seconds\n",
      "Epoch 2 training finished in 50.055947 seconds\n",
      "subreddit train accuracy:37.8%\n",
      "nsfw train accuracy:92.5%\n",
      "subreddit val accuracy:36.7%\n",
      "nsfw val accuracy:92.7%\n",
      "Epoch 2 evaluation finished in 16.162446 seconds\n",
      "---------------------------------------------------------\n",
      "Batch 100/255 of epoch 3 finished in 19.768284 seconds\n",
      "Batch 200/255 of epoch 3 finished in 19.740602 seconds\n",
      "Epoch 3 training finished in 50.265889 seconds\n",
      "subreddit train accuracy:35.2%\n",
      "nsfw train accuracy:91.0%\n",
      "subreddit val accuracy:32.7%\n",
      "nsfw val accuracy:91.1%\n",
      "Epoch 3 evaluation finished in 16.195764 seconds\n",
      "---------------------------------------------------------\n",
      "Batch 100/255 of epoch 4 finished in 19.820495 seconds\n",
      "Batch 200/255 of epoch 4 finished in 19.699863 seconds\n",
      "Epoch 4 training finished in 50.282457 seconds\n",
      "subreddit train accuracy:43.3%\n",
      "nsfw train accuracy:94.0%\n",
      "subreddit val accuracy:40.7%\n",
      "nsfw val accuracy:93.5%\n",
      "Epoch 4 evaluation finished in 16.143929 seconds\n",
      "---------------------------------------------------------\n",
      "Batch 100/255 of epoch 5 finished in 19.871112 seconds\n",
      "Batch 200/255 of epoch 5 finished in 19.618549 seconds\n",
      "Epoch 5 training finished in 50.175540 seconds\n",
      "subreddit train accuracy:47.0%\n",
      "nsfw train accuracy:94.1%\n",
      "subreddit val accuracy:42.3%\n",
      "nsfw val accuracy:93.9%\n",
      "Epoch 5 evaluation finished in 16.152298 seconds\n",
      "---------------------------------------------------------\n",
      "Batch 100/255 of epoch 6 finished in 19.817068 seconds\n",
      "Batch 200/255 of epoch 6 finished in 19.698338 seconds\n",
      "Epoch 6 training finished in 50.252020 seconds\n",
      "subreddit train accuracy:46.3%\n",
      "nsfw train accuracy:94.2%\n",
      "subreddit val accuracy:41.2%\n",
      "nsfw val accuracy:93.4%\n",
      "Epoch 6 evaluation finished in 16.053535 seconds\n",
      "---------------------------------------------------------\n",
      "Batch 100/255 of epoch 7 finished in 19.678933 seconds\n",
      "Batch 200/255 of epoch 7 finished in 19.664815 seconds\n",
      "Epoch 7 training finished in 50.087729 seconds\n",
      "subreddit train accuracy:51.9%\n",
      "nsfw train accuracy:94.4%\n",
      "subreddit val accuracy:45.4%\n",
      "nsfw val accuracy:93.6%\n",
      "Epoch 7 evaluation finished in 15.816580 seconds\n",
      "---------------------------------------------------------\n",
      "Batch 100/255 of epoch 8 finished in 19.752118 seconds\n",
      "Batch 200/255 of epoch 8 finished in 19.717827 seconds\n",
      "Epoch 8 training finished in 50.202937 seconds\n",
      "subreddit train accuracy:54.6%\n",
      "nsfw train accuracy:94.8%\n",
      "subreddit val accuracy:47.9%\n",
      "nsfw val accuracy:94.3%\n",
      "Epoch 8 evaluation finished in 15.944932 seconds\n",
      "---------------------------------------------------------\n",
      "Batch 100/255 of epoch 9 finished in 19.733902 seconds\n",
      "Batch 200/255 of epoch 9 finished in 19.519717 seconds\n",
      "Epoch 9 training finished in 49.972316 seconds\n",
      "subreddit train accuracy:52.6%\n",
      "nsfw train accuracy:93.7%\n",
      "subreddit val accuracy:44.9%\n",
      "nsfw val accuracy:93.2%\n",
      "Epoch 9 evaluation finished in 15.841322 seconds\n",
      "---------------------------------------------------------\n",
      "Batch 100/255 of epoch 10 finished in 19.685827 seconds\n",
      "Batch 200/255 of epoch 10 finished in 19.616467 seconds\n",
      "Epoch 10 training finished in 50.010041 seconds\n",
      "subreddit train accuracy:52.1%\n",
      "nsfw train accuracy:94.7%\n",
      "subreddit val accuracy:43.8%\n",
      "nsfw val accuracy:93.7%\n",
      "Epoch 10 evaluation finished in 15.874646 seconds\n",
      "---------------------------------------------------------\n",
      "Batch 100/255 of epoch 11 finished in 19.690113 seconds\n",
      "Batch 200/255 of epoch 11 finished in 19.597703 seconds\n",
      "Epoch 11 training finished in 49.981708 seconds\n",
      "subreddit train accuracy:54.6%\n",
      "nsfw train accuracy:95.3%\n",
      "subreddit val accuracy:44.5%\n",
      "nsfw val accuracy:94.6%\n",
      "Epoch 11 evaluation finished in 15.732977 seconds\n",
      "---------------------------------------------------------\n",
      "Batch 100/255 of epoch 12 finished in 19.705856 seconds\n",
      "Batch 200/255 of epoch 12 finished in 19.656068 seconds\n",
      "Epoch 12 training finished in 50.111448 seconds\n",
      "subreddit train accuracy:57.2%\n",
      "nsfw train accuracy:95.4%\n",
      "subreddit val accuracy:46.7%\n",
      "nsfw val accuracy:94.4%\n",
      "Epoch 12 evaluation finished in 15.975416 seconds\n",
      "---------------------------------------------------------\n",
      "Batch 100/255 of epoch 13 finished in 19.705133 seconds\n",
      "Batch 200/255 of epoch 13 finished in 19.555204 seconds\n",
      "Epoch 13 training finished in 49.963380 seconds\n",
      "subreddit train accuracy:58.5%\n",
      "nsfw train accuracy:95.4%\n",
      "subreddit val accuracy:46.4%\n",
      "nsfw val accuracy:94.7%\n",
      "Epoch 13 evaluation finished in 16.016560 seconds\n",
      "---------------------------------------------------------\n"
     ]
    },
    {
     "ename": "KeyboardInterrupt",
     "evalue": "",
     "output_type": "error",
     "traceback": [
      "\u001b[1;31m---------------------------------------------------------------------------\u001b[0m",
      "\u001b[1;31mKeyboardInterrupt\u001b[0m                         Traceback (most recent call last)",
      "\u001b[1;32m<ipython-input-4-80ce38c76c67>\u001b[0m in \u001b[0;36m<module>\u001b[1;34m()\u001b[0m\n\u001b[0;32m      8\u001b[0m \u001b[1;31m# Create session\u001b[0m\u001b[1;33m\u001b[0m\u001b[1;33m\u001b[0m\u001b[0m\n\u001b[0;32m      9\u001b[0m \u001b[0msession\u001b[0m \u001b[1;33m=\u001b[0m \u001b[0mtf\u001b[0m\u001b[1;33m.\u001b[0m\u001b[0mSession\u001b[0m\u001b[1;33m(\u001b[0m\u001b[1;33m)\u001b[0m\u001b[1;33m\u001b[0m\u001b[0m\n\u001b[1;32m---> 10\u001b[1;33m \u001b[0mmodel\u001b[0m\u001b[1;33m.\u001b[0m\u001b[0mtrain\u001b[0m\u001b[1;33m(\u001b[0m\u001b[0mdata\u001b[0m\u001b[1;33m,\u001b[0m \u001b[0msession\u001b[0m\u001b[1;33m,\u001b[0m \u001b[0mtrain_config\u001b[0m\u001b[1;33m)\u001b[0m\u001b[1;33m\u001b[0m\u001b[0m\n\u001b[0m",
      "\u001b[1;32m/home/tylerchase/CS-231N-Final-Project/src/models/multiclass_model.py\u001b[0m in \u001b[0;36mtrain\u001b[1;34m(self, data, session, train_config, resume)\u001b[0m\n\u001b[0;32m    126\u001b[0m                                             \u001b[0mself\u001b[0m\u001b[1;33m.\u001b[0m\u001b[0my_sbrd_placeholder\u001b[0m\u001b[1;33m:\u001b[0m\u001b[0mbatch_y_1\u001b[0m\u001b[1;33m,\u001b[0m\u001b[0;31m \u001b[0m\u001b[0;31m\\\u001b[0m\u001b[1;33m\u001b[0m\u001b[0m\n\u001b[0;32m    127\u001b[0m                                             \u001b[0mself\u001b[0m\u001b[1;33m.\u001b[0m\u001b[0my_nsfw_placeholder\u001b[0m\u001b[1;33m:\u001b[0m\u001b[0mbatch_y_2\u001b[0m\u001b[1;33m,\u001b[0m\u001b[0;31m \u001b[0m\u001b[0;31m\\\u001b[0m\u001b[1;33m\u001b[0m\u001b[0m\n\u001b[1;32m--> 128\u001b[1;33m                                             self.is_training_placeholder:True})\n\u001b[0m\u001b[0;32m    129\u001b[0m \u001b[1;33m\u001b[0m\u001b[0m\n\u001b[0;32m    130\u001b[0m                 \u001b[1;31m# print run time, current batch, and current epoch\u001b[0m\u001b[1;33m\u001b[0m\u001b[1;33m\u001b[0m\u001b[0m\n",
      "\u001b[1;32m/home/cs231n/myVE35/lib/python3.5/site-packages/tensorflow/python/client/session.py\u001b[0m in \u001b[0;36mrun\u001b[1;34m(self, fetches, feed_dict, options, run_metadata)\u001b[0m\n\u001b[0;32m    765\u001b[0m     \u001b[1;32mtry\u001b[0m\u001b[1;33m:\u001b[0m\u001b[1;33m\u001b[0m\u001b[0m\n\u001b[0;32m    766\u001b[0m       result = self._run(None, fetches, feed_dict, options_ptr,\n\u001b[1;32m--> 767\u001b[1;33m                          run_metadata_ptr)\n\u001b[0m\u001b[0;32m    768\u001b[0m       \u001b[1;32mif\u001b[0m \u001b[0mrun_metadata\u001b[0m\u001b[1;33m:\u001b[0m\u001b[1;33m\u001b[0m\u001b[0m\n\u001b[0;32m    769\u001b[0m         \u001b[0mproto_data\u001b[0m \u001b[1;33m=\u001b[0m \u001b[0mtf_session\u001b[0m\u001b[1;33m.\u001b[0m\u001b[0mTF_GetBuffer\u001b[0m\u001b[1;33m(\u001b[0m\u001b[0mrun_metadata_ptr\u001b[0m\u001b[1;33m)\u001b[0m\u001b[1;33m\u001b[0m\u001b[0m\n",
      "\u001b[1;32m/home/cs231n/myVE35/lib/python3.5/site-packages/tensorflow/python/client/session.py\u001b[0m in \u001b[0;36m_run\u001b[1;34m(self, handle, fetches, feed_dict, options, run_metadata)\u001b[0m\n\u001b[0;32m    963\u001b[0m     \u001b[1;32mif\u001b[0m \u001b[0mfinal_fetches\u001b[0m \u001b[1;32mor\u001b[0m \u001b[0mfinal_targets\u001b[0m\u001b[1;33m:\u001b[0m\u001b[1;33m\u001b[0m\u001b[0m\n\u001b[0;32m    964\u001b[0m       results = self._do_run(handle, final_targets, final_fetches,\n\u001b[1;32m--> 965\u001b[1;33m                              feed_dict_string, options, run_metadata)\n\u001b[0m\u001b[0;32m    966\u001b[0m     \u001b[1;32melse\u001b[0m\u001b[1;33m:\u001b[0m\u001b[1;33m\u001b[0m\u001b[0m\n\u001b[0;32m    967\u001b[0m       \u001b[0mresults\u001b[0m \u001b[1;33m=\u001b[0m \u001b[1;33m[\u001b[0m\u001b[1;33m]\u001b[0m\u001b[1;33m\u001b[0m\u001b[0m\n",
      "\u001b[1;32m/home/cs231n/myVE35/lib/python3.5/site-packages/tensorflow/python/client/session.py\u001b[0m in \u001b[0;36m_do_run\u001b[1;34m(self, handle, target_list, fetch_list, feed_dict, options, run_metadata)\u001b[0m\n\u001b[0;32m   1013\u001b[0m     \u001b[1;32mif\u001b[0m \u001b[0mhandle\u001b[0m \u001b[1;32mis\u001b[0m \u001b[1;32mNone\u001b[0m\u001b[1;33m:\u001b[0m\u001b[1;33m\u001b[0m\u001b[0m\n\u001b[0;32m   1014\u001b[0m       return self._do_call(_run_fn, self._session, feed_dict, fetch_list,\n\u001b[1;32m-> 1015\u001b[1;33m                            target_list, options, run_metadata)\n\u001b[0m\u001b[0;32m   1016\u001b[0m     \u001b[1;32melse\u001b[0m\u001b[1;33m:\u001b[0m\u001b[1;33m\u001b[0m\u001b[0m\n\u001b[0;32m   1017\u001b[0m       return self._do_call(_prun_fn, self._session, handle, feed_dict,\n",
      "\u001b[1;32m/home/cs231n/myVE35/lib/python3.5/site-packages/tensorflow/python/client/session.py\u001b[0m in \u001b[0;36m_do_call\u001b[1;34m(self, fn, *args)\u001b[0m\n\u001b[0;32m   1020\u001b[0m   \u001b[1;32mdef\u001b[0m \u001b[0m_do_call\u001b[0m\u001b[1;33m(\u001b[0m\u001b[0mself\u001b[0m\u001b[1;33m,\u001b[0m \u001b[0mfn\u001b[0m\u001b[1;33m,\u001b[0m \u001b[1;33m*\u001b[0m\u001b[0margs\u001b[0m\u001b[1;33m)\u001b[0m\u001b[1;33m:\u001b[0m\u001b[1;33m\u001b[0m\u001b[0m\n\u001b[0;32m   1021\u001b[0m     \u001b[1;32mtry\u001b[0m\u001b[1;33m:\u001b[0m\u001b[1;33m\u001b[0m\u001b[0m\n\u001b[1;32m-> 1022\u001b[1;33m       \u001b[1;32mreturn\u001b[0m \u001b[0mfn\u001b[0m\u001b[1;33m(\u001b[0m\u001b[1;33m*\u001b[0m\u001b[0margs\u001b[0m\u001b[1;33m)\u001b[0m\u001b[1;33m\u001b[0m\u001b[0m\n\u001b[0m\u001b[0;32m   1023\u001b[0m     \u001b[1;32mexcept\u001b[0m \u001b[0merrors\u001b[0m\u001b[1;33m.\u001b[0m\u001b[0mOpError\u001b[0m \u001b[1;32mas\u001b[0m \u001b[0me\u001b[0m\u001b[1;33m:\u001b[0m\u001b[1;33m\u001b[0m\u001b[0m\n\u001b[0;32m   1024\u001b[0m       \u001b[0mmessage\u001b[0m \u001b[1;33m=\u001b[0m \u001b[0mcompat\u001b[0m\u001b[1;33m.\u001b[0m\u001b[0mas_text\u001b[0m\u001b[1;33m(\u001b[0m\u001b[0me\u001b[0m\u001b[1;33m.\u001b[0m\u001b[0mmessage\u001b[0m\u001b[1;33m)\u001b[0m\u001b[1;33m\u001b[0m\u001b[0m\n",
      "\u001b[1;32m/home/cs231n/myVE35/lib/python3.5/site-packages/tensorflow/python/client/session.py\u001b[0m in \u001b[0;36m_run_fn\u001b[1;34m(session, feed_dict, fetch_list, target_list, options, run_metadata)\u001b[0m\n\u001b[0;32m   1002\u001b[0m         return tf_session.TF_Run(session, options,\n\u001b[0;32m   1003\u001b[0m                                  \u001b[0mfeed_dict\u001b[0m\u001b[1;33m,\u001b[0m \u001b[0mfetch_list\u001b[0m\u001b[1;33m,\u001b[0m \u001b[0mtarget_list\u001b[0m\u001b[1;33m,\u001b[0m\u001b[1;33m\u001b[0m\u001b[0m\n\u001b[1;32m-> 1004\u001b[1;33m                                  status, run_metadata)\n\u001b[0m\u001b[0;32m   1005\u001b[0m \u001b[1;33m\u001b[0m\u001b[0m\n\u001b[0;32m   1006\u001b[0m     \u001b[1;32mdef\u001b[0m \u001b[0m_prun_fn\u001b[0m\u001b[1;33m(\u001b[0m\u001b[0msession\u001b[0m\u001b[1;33m,\u001b[0m \u001b[0mhandle\u001b[0m\u001b[1;33m,\u001b[0m \u001b[0mfeed_dict\u001b[0m\u001b[1;33m,\u001b[0m \u001b[0mfetch_list\u001b[0m\u001b[1;33m)\u001b[0m\u001b[1;33m:\u001b[0m\u001b[1;33m\u001b[0m\u001b[0m\n",
      "\u001b[1;31mKeyboardInterrupt\u001b[0m: "
     ]
    }
   ],
   "source": [
    "# Create model instance\n",
    "tf.reset_default_graph()\n",
    "\n",
    "model_config = ModelConfig(learning_rate=0.00183710486364237, sbrd_weight=0.9250782708195799)\n",
    "train_config = TrainConfig(num_epochs=20, train_batch_size=100, print_every=100, lr_decay=0.9711897799629676,\\\n",
    "    saver_address=r'../../subreddit_classification_parameters/', \\\n",
    "    save_file_name = 'AlexNet_multitask_classification_postParamSearch')\n",
    "model = AlexNet(model_config)\n",
    "\n",
    "# Create session\n",
    "session = tf.Session()\n",
    "model.train(data, session, train_config)"
   ]
  },
  {
   "cell_type": "markdown",
   "metadata": {},
   "source": [
    "## Return Loss and Accuracy History From Cell Above"
   ]
  },
  {
   "cell_type": "code",
   "execution_count": null,
   "metadata": {
    "collapsed": false
   },
   "outputs": [],
   "source": [
    "# Plot Loss and Accuracy\n",
    "model.plot_loss_acc(data, save_address = '../../AlexNet_plots//', save_name = 'multitask_history', \\\n",
    "    title_font = 20, tick_font = 20, legend_font = 15, axis_font = 20)"
   ]
  },
  {
   "cell_type": "markdown",
   "metadata": {},
   "source": [
    "## Optional Cell Hyperparameter Search Over Range of Hyperparameters"
   ]
  },
  {
   "cell_type": "code",
   "execution_count": null,
   "metadata": {
    "collapsed": true
   },
   "outputs": [],
   "source": [
    "model_config = ModelConfig(learning_rate=0.003, sbrd_weight=0.80)\n",
    "train_config = TrainConfig(num_epochs=8, \n",
    "                    train_batch_size=100, \n",
    "                    print_every=1000)\n",
    "modelHP = AlexNet(model_config)\n",
    "session = tf.Session()\n",
    "\n",
    "def objective(args):\n",
    "\n",
    "    tf.reset_default_graph()\n",
    "    modelHP = AlexNet(model_config)\n",
    "    session = tf.Session()\n",
    "    \n",
    "    #train_config.num_epochs = args['Nepochs']\n",
    "    train_config.lr_decay = args['decayRate']\n",
    "    modelHP.config.learning_rate = args['learningRate']\n",
    "    modelHP.config.sbrd_weight = args['costWeight']\n",
    "    \n",
    "    modelHP.train(data, session, train_config)\n",
    "    cost, accuracy_sbrd, accuracy_nsfw = modelHP.eval(data, session, \"val\")\n",
    "    \n",
    "    print('\\n\\n', 'lr_decay', 'learning_rate', 'sbrd_weight', 'cost', '\\n')\n",
    "    print(train_config.lr_decay, modelHP.config.learning_rate, modelHP.config.sbrd_weight, cost, '\\n')\n",
    "    \n",
    "    saveList = {\n",
    "        'accuracy_sbrd' : accuracy_sbrd,\n",
    "        'accuracy_nsfw' : accuracy_nsfw,\n",
    "        'cost' : cost,\n",
    "        #'Nepochs' : args['Nepochs'],\n",
    "        'learningRate' : args['learningRate'],\n",
    "        'decayRate' : args['decayRate'],\n",
    "        'costWeight' : args['costWeight']\n",
    "    }    \n",
    "    pickle.dump(saveList, open(\"../../hprOpt_AlexNetMultitask/hprPrmOpt_\" + str(accuracy_sbrd) + \"_\"  + str(accuracy_nsfw) + \"_\" + str(cost) + \".dat\", \"wb\"))\n",
    "    \n",
    "    return cost\n",
    "\n",
    "def optimize():\n",
    "    \n",
    "    space = {\n",
    "        #'Nepochs' : hpropt.hp.randint('Nepochs', 70),\n",
    "        'learningRate' : hpropt.hp.loguniform('learningRate', -8.1, -3.5),\n",
    "        'decayRate' : hpropt.hp.uniform('decayRate', 0.95, 1),\n",
    "        'costWeight' : hpropt.hp.uniform('costWeight', 0.80, 1)\n",
    "    }\n",
    "    \n",
    "    best = hpropt.fmin(objective, space, algo=hpropt.tpe.suggest, max_evals=100)\n",
    "    print(best)\n",
    "    \n",
    "    return best"
   ]
  },
  {
   "cell_type": "code",
   "execution_count": null,
   "metadata": {
    "collapsed": false
   },
   "outputs": [],
   "source": [
    "optimize()"
   ]
  },
  {
   "cell_type": "markdown",
   "metadata": {},
   "source": [
    "## Test Loading the Model"
   ]
  },
  {
   "cell_type": "code",
   "execution_count": null,
   "metadata": {
    "collapsed": false
   },
   "outputs": [],
   "source": [
    "# Reset Graph\n",
    "tf.reset_default_graph()\n",
    "\n",
    "# Create model instance\n",
    "model_config = ModelConfig(learning_rate=0.003, sbrd_weight=0.85)\n",
    "train_config = TrainConfig(num_epochs=20, train_batch_size=100, print_every=100, lr_decay=0.98,\\\n",
    "    saver_address=r'../../subreddit_classification_parameters/', \\\n",
    "    save_file_name = 'AlexNet_multitask_classification_2')\n",
    "model = AlexNet(model_config)\n",
    "\n",
    "# Load Saved Model\n",
    "session = tf.Session()\n",
    "saver = tf.train.Saver()\n",
    "saver.restore(session, train_config.saver_address + train_config.save_file_name) \n",
    "\n",
    "# Test Model Accuracy\n",
    "loss_train, acc_train_sub, acc_train_nsfw = model.eval(data, session, split='train')\n",
    "loss_val, acc_val_sub, acc_val_nsfw = model.eval(data, session, split = 'val')"
   ]
  },
  {
   "cell_type": "markdown",
   "metadata": {},
   "source": [
    "## Output Predictions for Validation "
   ]
  },
  {
   "cell_type": "code",
   "execution_count": null,
   "metadata": {
    "collapsed": true
   },
   "outputs": [],
   "source": [
    "y_val_pred_sub, y_val_pred_nsfw = session.run(model.prediction, {model.X_placeholder: data.X_val, \\\n",
    "    model.y_sbrd_placeholder: data.y_val, model.y_nsfw_placeholder: data.y_val_2, \\\n",
    "    model.is_training_placeholder:False})\n",
    "\n",
    "y_val_pred_sub = np.argmax(y_val_pred_sub, axis = 1)\n",
    "y_val_pred_nsfw = np.argmax(y_val_pred_nsfw, axis = 1)"
   ]
  },
  {
   "cell_type": "markdown",
   "metadata": {
    "collapsed": true
   },
   "source": [
    "## Plot Confusion Matrix for Subreddit Classification"
   ]
  },
  {
   "cell_type": "code",
   "execution_count": null,
   "metadata": {
    "collapsed": false
   },
   "outputs": [],
   "source": [
    "classes = [\"\"] * len(dictionary)\n",
    "for sub, ind in dictionary.items():\n",
    "    classes[ind] = sub\n",
    "\n",
    "conf = confusion_matrix(data.y_val, y_val_pred_sub)\n",
    "plot_confusion_matrix(conf, classes=classes, normalize = True, tick_font = 12, box_font = 10, \\\n",
    "    axis_font = 40, title_font = 50, colorbar_font = 20,\\\n",
    "    left_space = 0.2, right_space = 1, top_space = 0.97, bottom_space = 0.05, \\\n",
    "    save_address = '../../AlexNet_plots//', save_name = 'multitask_confusion_subreddit')"
   ]
  },
  {
   "cell_type": "markdown",
   "metadata": {},
   "source": [
    "## Plot Confusion Matrix for NSFW Classification"
   ]
  },
  {
   "cell_type": "code",
   "execution_count": null,
   "metadata": {
    "collapsed": false
   },
   "outputs": [],
   "source": [
    "classes = ['sfw', 'nsfw']\n",
    "\n",
    "conf = confusion_matrix(data.y_val_2, y_val_pred_nsfw)\n",
    "plot_confusion_matrix(conf, classes=classes, normalize = True, figure_size = 11, tick_font = 50, box_font = 60, \\\n",
    "    axis_font = 55, title_font = 58, colorbar_font = 40,\\\n",
    "    left_space = 0.25, right_space = 0.95, top_space = 0.97, bottom_space = 0.05, \\\n",
    "    save_address = '../../AlexNet_plots//', save_name = 'multitask_confusion_nsfw')"
   ]
  },
  {
   "cell_type": "markdown",
   "metadata": {
    "collapsed": true
   },
   "source": [
    "## Output Prediction Test"
   ]
  },
  {
   "cell_type": "code",
   "execution_count": null,
   "metadata": {
    "collapsed": false
   },
   "outputs": [],
   "source": [
    "test_cost, test_acc_sub, test_acc_nsfw = model.eval(data, session, \"test\")\n",
    "\n",
    "y_test_pred_sub, y_test_pred_nsfw = session.run(model.prediction, {model.X_placeholder: data.X_test, \\\n",
    "    model.y_sbrd_placeholder: data.y_test, model.y_nsfw_placeholder: data.y_test_2, \\\n",
    "    model.is_training_placeholder:False})\n",
    "\n",
    "y_test_pred_sub = np.argmax(y_test_pred_sub, axis = 1)\n",
    "y_test_pred_nsfw = np.argmax(y_test_pred_nsfw, axis = 1)"
   ]
  },
  {
   "cell_type": "markdown",
   "metadata": {},
   "source": [
    "## Plot Confusion Matrix Subreddit Test"
   ]
  },
  {
   "cell_type": "code",
   "execution_count": null,
   "metadata": {
    "collapsed": false
   },
   "outputs": [],
   "source": [
    "classes = [\"\"] * len(dictionary)\n",
    "for sub, ind in dictionary.items():\n",
    "    classes[ind] = sub\n",
    "\n",
    "conf = confusion_matrix(data.y_test, y_test_pred_sub)\n",
    "plot_confusion_matrix(conf, classes=classes, normalize = True, tick_font = 12, box_font = 10, \\\n",
    "    axis_font = 40, title_font = 50, colorbar_font = 20,\\\n",
    "    left_space = 0.2, right_space = 1, top_space = 0.97, bottom_space = 0.05, \\\n",
    "    save_address = '../../AlexNet_plots//', save_name = 'multitask_confusion_subreddit_test')"
   ]
  },
  {
   "cell_type": "markdown",
   "metadata": {},
   "source": [
    "## Plot Confusion Matrix NSFW Test"
   ]
  },
  {
   "cell_type": "code",
   "execution_count": null,
   "metadata": {
    "collapsed": false
   },
   "outputs": [],
   "source": [
    "classes = ['sfw', 'nsfw']\n",
    "\n",
    "conf = confusion_matrix(data.y_test_2, y_test_pred_nsfw)\n",
    "plot_confusion_matrix(conf, classes=classes, normalize = True, figure_size = 11, tick_font = 50, box_font = 60, \\\n",
    "    axis_font = 55, title_font = 58, colorbar_font = 40,\\\n",
    "    left_space = 0.25, right_space = 0.95, top_space = 0.97, bottom_space = 0.05, \\\n",
    "    save_address = '../../AlexNet_plots//', save_name = 'multitask_confusion_nsfw_test')"
   ]
  },
  {
   "cell_type": "code",
   "execution_count": null,
   "metadata": {
    "collapsed": true
   },
   "outputs": [],
   "source": []
  }
 ],
 "metadata": {
  "kernelspec": {
   "display_name": "Python 3",
   "language": "python",
   "name": "python3"
  },
  "language_info": {
   "codemirror_mode": {
    "name": "ipython",
    "version": 3
   },
   "file_extension": ".py",
   "mimetype": "text/x-python",
   "name": "python",
   "nbconvert_exporter": "python",
   "pygments_lexer": "ipython3",
   "version": "3.5.2"
  }
 },
 "nbformat": 4,
 "nbformat_minor": 2
}
