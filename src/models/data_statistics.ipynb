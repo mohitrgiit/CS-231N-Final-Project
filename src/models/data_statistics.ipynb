{
 "cells": [
  {
   "cell_type": "markdown",
   "metadata": {},
   "source": [
    "Author: Tyler Chase\n",
    "\n",
    "Date: 2017/05/23"
   ]
  },
  {
   "cell_type": "markdown",
   "metadata": {},
   "source": [
    "# Determine Dataset Statistics\n",
    "\n",
    "Due to reading errors and different numbers of posts per month in various subreddits it is important to consider the label statistics of our dataset. "
   ]
  },
  {
   "cell_type": "markdown",
   "metadata": {},
   "source": [
    "## Key Statistics to Consider\n",
    "\n",
    "* Total number of pictures\n",
    "* Total number of pictures in each sub\n",
    "* Total number of nsfw images vs sfw images\n",
    "* In each sub how many images are nsfw vs sfw"
   ]
  },
  {
   "cell_type": "markdown",
   "metadata": {},
   "source": [
    "## Load Data"
   ]
  },
  {
   "cell_type": "code",
   "execution_count": 1,
   "metadata": {
    "collapsed": true
   },
   "outputs": [],
   "source": [
    "import tensorflow as tf\n",
    "import numpy as np\n",
    "import math\n",
    "import timeit\n",
    "import random\n",
    "import pickle\n",
    "import matplotlib.pyplot as plt\n",
    "import itertools\n",
    "from sklearn.metrics import confusion_matrix\n",
    "%matplotlib inline"
   ]
  },
  {
   "cell_type": "code",
   "execution_count": 2,
   "metadata": {},
   "outputs": [
    {
     "name": "stdout",
     "output_type": "stream",
     "text": [
      "Subreddit Labels Shape:  (31813,)\n",
      "NSFW Labels shape:  (31813,)\n"
     ]
    }
   ],
   "source": [
    "# Form training, developement, and testing data sets\n",
    "address = r'/Users/tylerchase/Documents/Stanford_Classes/CS231n_CNN_for_Visual_Recognition/final_project/CS-231N-Final-Project/data/fullData//'\n",
    "file_names = {}\n",
    "file_names['nsfw'] = 'full_nsfwlabels'\n",
    "file_names['subs'] = 'full_subredditlabels'\n",
    "file_names['dict'] = 'full_subredditIndex'\n",
    "\n",
    "# Open Label Files\n",
    "with open(address + file_names['subs'], 'rb') as file_1:\n",
    "    subs = pickle.load(file_1)\n",
    "    subs = np.array(subs)\n",
    "with open(address + file_names['dict'], 'rb') as file_2:\n",
    "    dictionary = pickle.load(file_2)\n",
    "with open(address + file_names['nsfw'], 'rb') as file_3:\n",
    "    nsfw = pickle.load(file_3)\n",
    "    nsfw = np.array(nsfw)\n",
    "\n",
    "# Print the sizes as a sanity check\n",
    "print('Subreddit Labels Shape: ', subs.shape)\n",
    "print('NSFW Labels shape: ', nsfw.shape)"
   ]
  },
  {
   "cell_type": "markdown",
   "metadata": {},
   "source": [
    "## Determine Subreddit Statistics"
   ]
  },
  {
   "cell_type": "code",
   "execution_count": 3,
   "metadata": {},
   "outputs": [
    {
     "name": "stdout",
     "output_type": "stream",
     "text": [
      "EarthPorn Submissions:  1707\n",
      "SkyPorn Submissions:  1702\n",
      "spaceporn Submissions:  1642\n",
      "MilitaryPorn Submissions:  1677\n",
      "GunPorn Submissions:  1639\n",
      "carporn Submissions:  1669\n",
      "CityPorn Submissions:  1667\n",
      "ruralporn Submissions:  1217\n",
      "ArchitecturePorn Submissions:  1593\n",
      "FoodPorn Submissions:  1684\n",
      "MoviePosterPorn Submissions:  1701\n",
      "ArtPorn Submissions:  1696\n",
      "RoomPorn Submissions:  1702\n",
      "creepy Submissions:  1594\n",
      "gonewild Submissions:  1225\n",
      "PrettyGirls Submissions:  1648\n",
      "ladybonersgw Submissions:  1147\n",
      "LadyBoners Submissions:  1505\n",
      "cats Submissions:  1683\n",
      "dogpictures Submissions:  1715\n",
      "Sanity Check Sum:  31813\n",
      "\n",
      "Total Submissions:  31813\n"
     ]
    }
   ],
   "source": [
    "# Print and store subreddits and subreddit totals\n",
    "num_subs = len(dictionary)\n",
    "classes = [\"\"] * num_subs\n",
    "stats = [0] * num_subs\n",
    "\n",
    "# Form Array of Subreddits\n",
    "for sub, ind in dictionary.items():\n",
    "    classes[ind] = sub\n",
    "\n",
    "# Form array of Subreddit statistics and print\n",
    "for i, j in enumerate(classes):\n",
    "    temp = np.sum(i == subs)\n",
    "    stats[i] = temp\n",
    "    print(j + ' Submissions: ', temp)\n",
    "print('Sanity Check Sum: ', np.sum(stats))\n",
    "\n",
    "# Print total submissions\n",
    "total = np.shape(subs)[0]\n",
    "print('\\nTotal Submissions: ', total)"
   ]
  },
  {
   "cell_type": "markdown",
   "metadata": {},
   "source": [
    "## Determine NSFW Statistics"
   ]
  },
  {
   "cell_type": "code",
   "execution_count": 4,
   "metadata": {},
   "outputs": [
    {
     "name": "stdout",
     "output_type": "stream",
     "text": [
      "NSFW Submissions:  2708\n",
      "SFW Submissions:  29105\n",
      "Sanity Check Sum:  31813\n",
      "\n",
      "Total Submissions:  31813\n"
     ]
    }
   ],
   "source": [
    "dict_nsfw = {}\n",
    "dict_nsfw['NSFW'] = 1\n",
    "dict_nsfw['SFW'] = 0\n",
    "\n",
    "# Print and store NSFW and NSFW totals\n",
    "num_out = len(dict_nsfw)\n",
    "classes_nsfw = [\"\"] * num_out\n",
    "stats_nsfw = [0] * num_out\n",
    "for category, ind in dict_nsfw.items():\n",
    "    classes_nsfw[ind] = category\n",
    "    temp = np.sum(ind == nsfw)\n",
    "    stats_nsfw[ind] = temp\n",
    "    print(category + ' Submissions: ', temp)\n",
    "print('Sanity Check Sum: ', np.sum(stats_nsfw))\n",
    "\n",
    "total_nsfw = np.shape(nsfw)[0]\n",
    "print('\\nTotal Submissions: ', total_nsfw)"
   ]
  },
  {
   "cell_type": "markdown",
   "metadata": {},
   "source": [
    "## Determine NSFW Breakdown of Subreddits"
   ]
  },
  {
   "cell_type": "code",
   "execution_count": 5,
   "metadata": {},
   "outputs": [
    {
     "name": "stdout",
     "output_type": "stream",
     "text": [
      "EarthPorn :  1707\n",
      "NSFW:  0\n",
      "SFW:  1707\n",
      "\n",
      "SkyPorn :  1702\n",
      "NSFW:  0\n",
      "SFW:  1702\n",
      "\n",
      "spaceporn :  1642\n",
      "NSFW:  0\n",
      "SFW:  1642\n",
      "\n",
      "MilitaryPorn :  1677\n",
      "NSFW:  6\n",
      "SFW:  1671\n",
      "\n",
      "GunPorn :  1639\n",
      "NSFW:  1\n",
      "SFW:  1638\n",
      "\n",
      "carporn :  1669\n",
      "NSFW:  1\n",
      "SFW:  1668\n",
      "\n",
      "CityPorn :  1667\n",
      "NSFW:  0\n",
      "SFW:  1667\n",
      "\n",
      "ruralporn :  1217\n",
      "NSFW:  0\n",
      "SFW:  1217\n",
      "\n",
      "ArchitecturePorn :  1593\n",
      "NSFW:  0\n",
      "SFW:  1593\n",
      "\n",
      "FoodPorn :  1684\n",
      "NSFW:  0\n",
      "SFW:  1684\n",
      "\n",
      "MoviePosterPorn :  1701\n",
      "NSFW:  14\n",
      "SFW:  1687\n",
      "\n",
      "ArtPorn :  1696\n",
      "NSFW:  140\n",
      "SFW:  1556\n",
      "\n",
      "RoomPorn :  1702\n",
      "NSFW:  0\n",
      "SFW:  1702\n",
      "\n",
      "creepy :  1594\n",
      "NSFW:  120\n",
      "SFW:  1474\n",
      "\n",
      "gonewild :  1225\n",
      "NSFW:  1225\n",
      "SFW:  0\n",
      "\n",
      "PrettyGirls :  1648\n",
      "NSFW:  0\n",
      "SFW:  1648\n",
      "\n",
      "ladybonersgw :  1147\n",
      "NSFW:  1147\n",
      "SFW:  0\n",
      "\n",
      "LadyBoners :  1505\n",
      "NSFW:  52\n",
      "SFW:  1453\n",
      "\n",
      "cats :  1683\n",
      "NSFW:  1\n",
      "SFW:  1682\n",
      "\n",
      "dogpictures :  1715\n",
      "NSFW:  1\n",
      "SFW:  1714\n",
      "\n"
     ]
    }
   ],
   "source": [
    "nsfw_breakdown = {}\n",
    "\n",
    "# Store and print NSFW breakdown of each Subreddit\n",
    "for i,j in enumerate(classes):\n",
    "    nsfw_sub = {}\n",
    "    class_indices = np.argwhere(subs == i)\n",
    "    nsfw_subset = nsfw[class_indices]\n",
    "    nsfw_sub['nsfw'] = np.sum(nsfw_subset == 1)\n",
    "    nsfw_sub['sfw'] = np.sum(nsfw_subset == 0)\n",
    "    nsfw_breakdown[j] = nsfw_sub\n",
    "    print(j, ': ', nsfw_sub['nsfw'] + nsfw_sub['sfw'])\n",
    "    print('NSFW: ', nsfw_sub['nsfw'])\n",
    "    print('SFW: ', nsfw_sub['sfw'])\n",
    "    print()\n"
   ]
  },
  {
   "cell_type": "code",
   "execution_count": null,
   "metadata": {
    "collapsed": true
   },
   "outputs": [],
   "source": []
  }
 ],
 "metadata": {
  "kernelspec": {
   "display_name": "Python 3",
   "language": "python",
   "name": "python3"
  },
  "language_info": {
   "codemirror_mode": {
    "name": "ipython",
    "version": 3
   },
   "file_extension": ".py",
   "mimetype": "text/x-python",
   "name": "python",
   "nbconvert_exporter": "python",
   "pygments_lexer": "ipython3",
   "version": "3.6.1"
  }
 },
 "nbformat": 4,
 "nbformat_minor": 2
}
