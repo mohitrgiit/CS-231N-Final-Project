{
 "cells": [
  {
   "cell_type": "markdown",
   "metadata": {},
   "source": [
    "Author: Tyler Chase\n",
    "Date: 2017/06/11"
   ]
  },
  {
   "cell_type": "markdown",
   "metadata": {},
   "source": [
    "# Load Hyperparameter Search Values\n",
    "\n",
    "Open files from hyperparameter search to see hyperparameter values and their respective accuracies. "
   ]
  },
  {
   "cell_type": "code",
   "execution_count": 1,
   "metadata": {
    "collapsed": false
   },
   "outputs": [
    {
     "name": "stdout",
     "output_type": "stream",
     "text": [
      "{'costWeight': 0.8308383186143671, 'learningRate': 0.004709401648117081, 'accuracy_nsfw': 0.92580955804649745, 'cost': 5705.423828125, 'decayRate': 0.9693725307447727, 'accuracy_sbrd': 0.4640050136098619} \n",
      "\n",
      "{'costWeight': 0.9250782708195799, 'learningRate': 0.00183710486364237, 'accuracy_nsfw': 0.94121344520100558, 'cost': 7222.572998046875, 'decayRate': 0.9711897799629676, 'accuracy_sbrd': 0.46243320108959041} \n",
      "\n",
      "{'costWeight': 0.964315904935453, 'learningRate': 0.0020132283127513003, 'accuracy_nsfw': 0.93586927067742565, 'cost': 5436.8516845703125, 'decayRate': 0.9802260575858602, 'accuracy_sbrd': 0.46023265257154533} \n",
      "\n",
      "{'costWeight': 0.9524034726728347, 'learningRate': 0.0015958777369739542, 'accuracy_nsfw': 0.94027042137830752, 'cost': 5459.2353515625, 'decayRate': 0.9865668095159005, 'accuracy_sbrd': 0.44357120552290841} \n",
      "\n",
      "{'costWeight': 0.9359484660114248, 'learningRate': 0.02080826548107807, 'accuracy_nsfw': 0.93712667986418008, 'cost': 5934.471435546875, 'decayRate': 0.9851815508940306, 'accuracy_sbrd': 0.41402072454540656} \n",
      "\n",
      "{'costWeight': 0.9001855840905684, 'learningRate': 0.10844820085656987, 'accuracy_nsfw': 0.92643827773309739, 'cost': 5164.2454833984375, 'decayRate': 0.9549569849540565, 'accuracy_sbrd': 0.37535369879642549} \n",
      "\n"
     ]
    }
   ],
   "source": [
    "load_address = r'../../hprOpt_AlexNetMultitask'\n",
    "\n",
    "import os\n",
    "import pickle \n",
    "\n",
    "def sort(dict_list, num_posts):\n",
    "    key = lambda x: x['accuracy_sbrd']\n",
    "    temp = sorted(dict_list, key = key, reverse = True)\n",
    "    return(temp[:num_posts])\n",
    "\n",
    "data_name = []\n",
    "for root, dirs, files in os.walk(load_address):\n",
    "    for file in files:\n",
    "        if file.endswith('.dat'):\n",
    "            data_name.append(file)\n",
    "\n",
    "data = []\n",
    "for i in data_name:\n",
    "    f = open(load_address + '/' + i, 'rb')\n",
    "    temp = pickle.load(f)\n",
    "    data.append(temp)\n",
    "\n",
    "data_sort = sort(data, 6)\n",
    "\n",
    "for i in data_sort:\n",
    "    print(i, '\\n')\n"
   ]
  },
  {
   "cell_type": "code",
   "execution_count": null,
   "metadata": {
    "collapsed": true
   },
   "outputs": [],
   "source": []
  }
 ],
 "metadata": {
  "kernelspec": {
   "display_name": "Python 3",
   "language": "python",
   "name": "python3"
  },
  "language_info": {
   "codemirror_mode": {
    "name": "ipython",
    "version": 3
   },
   "file_extension": ".py",
   "mimetype": "text/x-python",
   "name": "python",
   "nbconvert_exporter": "python",
   "pygments_lexer": "ipython3",
   "version": "3.5.2"
  }
 },
 "nbformat": 4,
 "nbformat_minor": 0
}
