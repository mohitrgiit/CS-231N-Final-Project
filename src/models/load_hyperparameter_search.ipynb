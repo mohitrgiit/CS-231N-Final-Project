{
 "cells": [
  {
   "cell_type": "markdown",
   "metadata": {},
   "source": [
    "Author: Tyler Chase\n",
    "Date: 2017/06/11"
   ]
  },
  {
   "cell_type": "markdown",
   "metadata": {},
   "source": [
    "# Load Hyperparameter Search Values\n",
    "\n",
    "Open files from hyperparameter search to see hyperparameter values and their respective accuracies. "
   ]
  },
  {
   "cell_type": "code",
   "execution_count": 4,
   "metadata": {
    "collapsed": false
   },
   "outputs": [
    {
     "name": "stdout",
     "output_type": "stream",
     "text": [
      "{'cost': 722.0064697265625, 'decayRate': 0.9753729462678791, 'learningRate': 0.003355491450962772, 'accuracy_nsfw': 0.92549511453933742} \n",
      "\n",
      "{'cost': 889.9390869140625, 'decayRate': 0.9685468375813087, 'learningRate': 0.0004751530657456248, 'accuracy_nsfw': 0.9198366083539683} \n",
      "\n",
      "{'cost': 902.30535888671875, 'decayRate': 0.9983557894637847, 'learningRate': 0.004919235388441663, 'accuracy_nsfw': 0.91983656409550518} \n",
      "\n",
      "{'cost': 890.66986083984375, 'decayRate': 0.998740016033957, 'learningRate': 0.0009494082513100418, 'accuracy_nsfw': 0.91983656409550518} \n",
      "\n",
      "{'cost': 890.67462158203125, 'decayRate': 0.9843119149403465, 'learningRate': 0.008614080582985689, 'accuracy_nsfw': 0.91983656409550518} \n",
      "\n",
      "{'cost': 890.73019409179688, 'decayRate': 0.9829334624092027, 'learningRate': 0.006897237622758895, 'accuracy_nsfw': 0.91983656409550518} \n",
      "\n"
     ]
    }
   ],
   "source": [
    "load_address = r'../../hprOpt_AlexNetNSFW'\n",
    "\n",
    "import os\n",
    "import pickle \n",
    "\n",
    "def sort(dict_list, num_posts):\n",
    "    key = lambda x: x['accuracy_nsfw']\n",
    "    temp = sorted(dict_list, key = key, reverse = True)\n",
    "    return(temp[:num_posts])\n",
    "\n",
    "data_name = []\n",
    "for root, dirs, files in os.walk(load_address):\n",
    "    for file in files:\n",
    "        if file.endswith('.dat'):\n",
    "            data_name.append(file)\n",
    "\n",
    "data = []\n",
    "for i in data_name:\n",
    "    f = open(load_address + '/' + i, 'rb')\n",
    "    temp = pickle.load(f)\n",
    "    data.append(temp)\n",
    "\n",
    "data_sort = sort(data, 6)\n",
    "\n",
    "for i in data_sort:\n",
    "    print(i, '\\n')\n"
   ]
  },
  {
   "cell_type": "code",
   "execution_count": null,
   "metadata": {
    "collapsed": true
   },
   "outputs": [],
   "source": []
  }
 ],
 "metadata": {
  "kernelspec": {
   "display_name": "Python 3",
   "language": "python",
   "name": "python3"
  },
  "language_info": {
   "codemirror_mode": {
    "name": "ipython",
    "version": 3
   },
   "file_extension": ".py",
   "mimetype": "text/x-python",
   "name": "python",
   "nbconvert_exporter": "python",
   "pygments_lexer": "ipython3",
   "version": "3.5.2"
  }
 },
 "nbformat": 4,
 "nbformat_minor": 0
}
