{
 "cells": [
  {
   "cell_type": "markdown",
   "metadata": {},
   "source": [
    "## Setup"
   ]
  },
  {
   "cell_type": "code",
   "execution_count": 1,
   "metadata": {
    "collapsed": true
   },
   "outputs": [],
   "source": [
    "import tensorflow as tf\n",
    "import numpy as np\n",
    "import math\n",
    "\n",
    "%matplotlib inline\n",
    "%load_ext autoreload\n",
    "%autoreload 2"
   ]
  },
  {
   "cell_type": "code",
   "execution_count": 2,
   "metadata": {
    "collapsed": false
   },
   "outputs": [],
   "source": [
    "from util import import_dataset\n",
    "\n",
    "address = '../../data/'\n",
    "file_names = {}\n",
    "file_names['images'] = 'full_data.npy'\n",
    "file_names['subs'] = 'full_subredditlabels'\n",
    "file_names['dict'] = 'full_subredditIndex'\n",
    "file_names['nsfw'] = 'full_nsfwlabels'\n",
    "data, dictionary = import_dataset(address, file_names)"
   ]
  },
  {
   "cell_type": "code",
   "execution_count": 3,
   "metadata": {
    "collapsed": false
   },
   "outputs": [
    {
     "name": "stdout",
     "output_type": "stream",
     "text": [
      "(25450, 128, 128, 3)\n",
      "(3181, 128, 128, 3)\n",
      "(3182, 128, 128, 3)\n",
      "(25450,)\n",
      "(3181,)\n",
      "(3182,)\n"
     ]
    }
   ],
   "source": [
    "print(data.X_train.shape)\n",
    "print(data.X_val.shape)\n",
    "print(data.X_test.shape)\n",
    "print(data.y_train.shape)\n",
    "print(data.y_val.shape)\n",
    "print(data.y_test.shape)"
   ]
  },
  {
   "cell_type": "markdown",
   "metadata": {},
   "source": [
    "## Run the Model"
   ]
  },
  {
   "cell_type": "code",
   "execution_count": 4,
   "metadata": {
    "collapsed": false
   },
   "outputs": [
    {
     "name": "stdout",
     "output_type": "stream",
     "text": [
      "---------------------------------------------------------\n",
      "Batch 100/398 of epoch 1 finished in 19.061676 seconds\n",
      "Batch 200/398 of epoch 1 finished in 17.240197 seconds\n",
      "Batch 300/398 of epoch 1 finished in 17.329172 seconds\n",
      "Epoch 1 training finished in 71.152685 seconds\n",
      "train accuracy:90.8%\n",
      "val accuracy:90.8%\n",
      "Epoch 1 evaluation finished in 22.294206 seconds\n",
      "---------------------------------------------------------\n",
      "Batch 100/398 of epoch 2 finished in 17.322613 seconds\n",
      "Batch 200/398 of epoch 2 finished in 17.314285 seconds\n",
      "Batch 300/398 of epoch 2 finished in 17.310078 seconds\n",
      "Epoch 2 training finished in 68.873140 seconds\n",
      "train accuracy:91.7%\n",
      "val accuracy:91.7%\n",
      "Epoch 2 evaluation finished in 11.025997 seconds\n",
      "---------------------------------------------------------\n",
      "Batch 100/398 of epoch 3 finished in 17.299052 seconds\n",
      "Batch 200/398 of epoch 3 finished in 17.322278 seconds\n",
      "Batch 300/398 of epoch 3 finished in 17.284617 seconds\n",
      "Epoch 3 training finished in 68.764338 seconds\n",
      "train accuracy:95.0%\n",
      "val accuracy:95.3%\n",
      "Epoch 3 evaluation finished in 11.237714 seconds\n",
      "---------------------------------------------------------\n",
      "Batch 100/398 of epoch 4 finished in 17.318825 seconds\n",
      "Batch 200/398 of epoch 4 finished in 17.343920 seconds\n",
      "Batch 300/398 of epoch 4 finished in 17.346396 seconds\n",
      "Epoch 4 training finished in 68.877995 seconds\n",
      "train accuracy:95.2%\n",
      "val accuracy:95.3%\n",
      "Epoch 4 evaluation finished in 11.040581 seconds\n",
      "---------------------------------------------------------\n",
      "Batch 100/398 of epoch 5 finished in 17.295606 seconds\n",
      "Batch 200/398 of epoch 5 finished in 17.293815 seconds\n",
      "Batch 300/398 of epoch 5 finished in 17.277975 seconds\n",
      "Epoch 5 training finished in 68.721246 seconds\n",
      "train accuracy:95.7%\n",
      "val accuracy:95.4%\n",
      "Epoch 5 evaluation finished in 11.004882 seconds\n",
      "---------------------------------------------------------\n",
      "Batch 100/398 of epoch 6 finished in 17.312151 seconds\n",
      "Batch 200/398 of epoch 6 finished in 17.295422 seconds\n",
      "Batch 300/398 of epoch 6 finished in 17.322789 seconds\n",
      "Epoch 6 training finished in 68.796261 seconds\n",
      "train accuracy:95.7%\n",
      "val accuracy:95.3%\n",
      "Epoch 6 evaluation finished in 11.136468 seconds\n",
      "---------------------------------------------------------\n",
      "Batch 100/398 of epoch 7 finished in 17.294810 seconds\n",
      "Batch 200/398 of epoch 7 finished in 17.282927 seconds\n",
      "Batch 300/398 of epoch 7 finished in 17.356759 seconds\n",
      "Epoch 7 training finished in 68.860777 seconds\n",
      "train accuracy:96.1%\n",
      "val accuracy:95.2%\n",
      "Epoch 7 evaluation finished in 11.119747 seconds\n",
      "---------------------------------------------------------\n",
      "Batch 100/398 of epoch 8 finished in 17.338478 seconds\n",
      "Batch 200/398 of epoch 8 finished in 17.302406 seconds\n",
      "Batch 300/398 of epoch 8 finished in 17.316281 seconds\n",
      "Epoch 8 training finished in 68.852913 seconds\n",
      "train accuracy:93.9%\n",
      "val accuracy:92.7%\n",
      "Epoch 8 evaluation finished in 11.173715 seconds\n",
      "---------------------------------------------------------\n",
      "Batch 100/398 of epoch 9 finished in 17.276485 seconds\n",
      "Batch 200/398 of epoch 9 finished in 17.267352 seconds\n",
      "Batch 300/398 of epoch 9 finished in 17.255872 seconds\n",
      "Epoch 9 training finished in 68.672816 seconds\n",
      "train accuracy:96.5%\n",
      "val accuracy:95.1%\n",
      "Epoch 9 evaluation finished in 11.130352 seconds\n",
      "---------------------------------------------------------\n",
      "Batch 100/398 of epoch 10 finished in 17.358560 seconds\n",
      "Batch 200/398 of epoch 10 finished in 17.318541 seconds\n",
      "Batch 300/398 of epoch 10 finished in 17.312877 seconds\n",
      "Epoch 10 training finished in 68.833807 seconds\n",
      "train accuracy:96.9%\n",
      "val accuracy:94.7%\n",
      "Epoch 10 evaluation finished in 11.065359 seconds\n",
      "---------------------------------------------------------\n",
      "Batch 100/398 of epoch 11 finished in 17.400502 seconds\n",
      "Batch 200/398 of epoch 11 finished in 17.303194 seconds\n",
      "Batch 300/398 of epoch 11 finished in 17.320844 seconds\n",
      "Epoch 11 training finished in 68.924638 seconds\n",
      "train accuracy:96.4%\n",
      "val accuracy:94.4%\n",
      "Epoch 11 evaluation finished in 11.081289 seconds\n",
      "---------------------------------------------------------\n",
      "Batch 100/398 of epoch 12 finished in 17.296232 seconds\n",
      "Batch 200/398 of epoch 12 finished in 17.303823 seconds\n",
      "Batch 300/398 of epoch 12 finished in 17.304991 seconds\n",
      "Epoch 12 training finished in 68.793996 seconds\n",
      "train accuracy:97.0%\n",
      "val accuracy:95.3%\n",
      "Epoch 12 evaluation finished in 11.160927 seconds\n",
      "---------------------------------------------------------\n",
      "Batch 100/398 of epoch 13 finished in 17.321967 seconds\n",
      "Batch 200/398 of epoch 13 finished in 17.378606 seconds\n",
      "Batch 300/398 of epoch 13 finished in 17.400944 seconds\n",
      "Epoch 13 training finished in 68.984230 seconds\n",
      "train accuracy:98.1%\n",
      "val accuracy:95.5%\n",
      "Epoch 13 evaluation finished in 10.982094 seconds\n",
      "---------------------------------------------------------\n",
      "Batch 100/398 of epoch 14 finished in 17.309178 seconds\n",
      "Batch 200/398 of epoch 14 finished in 17.286788 seconds\n",
      "Batch 300/398 of epoch 14 finished in 17.278278 seconds\n",
      "Epoch 14 training finished in 68.788763 seconds\n",
      "train accuracy:98.1%\n",
      "val accuracy:95.3%\n",
      "Epoch 14 evaluation finished in 11.119326 seconds\n",
      "---------------------------------------------------------\n",
      "Batch 100/398 of epoch 15 finished in 17.292306 seconds\n",
      "Batch 200/398 of epoch 15 finished in 17.280199 seconds\n",
      "Batch 300/398 of epoch 15 finished in 17.302008 seconds\n",
      "Epoch 15 training finished in 68.804649 seconds\n",
      "train accuracy:98.7%\n",
      "val accuracy:95.0%\n",
      "Epoch 15 evaluation finished in 11.161131 seconds\n",
      "---------------------------------------------------------\n",
      "Batch 100/398 of epoch 16 finished in 17.305667 seconds\n",
      "Batch 200/398 of epoch 16 finished in 17.310742 seconds\n",
      "Batch 300/398 of epoch 16 finished in 17.274215 seconds\n",
      "Epoch 16 training finished in 68.766551 seconds\n",
      "train accuracy:98.4%\n",
      "val accuracy:94.6%\n",
      "Epoch 16 evaluation finished in 11.093961 seconds\n",
      "---------------------------------------------------------\n",
      "Batch 100/398 of epoch 17 finished in 17.277784 seconds\n",
      "Batch 200/398 of epoch 17 finished in 17.290555 seconds\n",
      "Batch 300/398 of epoch 17 finished in 17.264997 seconds\n",
      "Epoch 17 training finished in 68.732967 seconds\n",
      "train accuracy:98.7%\n",
      "val accuracy:95.5%\n",
      "Epoch 17 evaluation finished in 10.985597 seconds\n",
      "---------------------------------------------------------\n",
      "Batch 100/398 of epoch 18 finished in 17.225451 seconds\n",
      "Batch 200/398 of epoch 18 finished in 17.307209 seconds\n",
      "Batch 300/398 of epoch 18 finished in 17.357508 seconds\n",
      "Epoch 18 training finished in 68.756993 seconds\n",
      "train accuracy:97.5%\n",
      "val accuracy:94.9%\n",
      "Epoch 18 evaluation finished in 11.059864 seconds\n",
      "---------------------------------------------------------\n",
      "Batch 100/398 of epoch 19 finished in 17.262166 seconds\n",
      "Batch 200/398 of epoch 19 finished in 17.297639 seconds\n",
      "Batch 300/398 of epoch 19 finished in 17.346397 seconds\n",
      "Epoch 19 training finished in 68.785197 seconds\n",
      "train accuracy:97.3%\n",
      "val accuracy:94.1%\n",
      "Epoch 19 evaluation finished in 11.240356 seconds\n",
      "---------------------------------------------------------\n",
      "Batch 100/398 of epoch 20 finished in 17.247467 seconds\n",
      "Batch 200/398 of epoch 20 finished in 17.242006 seconds\n",
      "Batch 300/398 of epoch 20 finished in 17.282778 seconds\n",
      "Epoch 20 training finished in 68.626933 seconds\n",
      "train accuracy:98.8%\n",
      "val accuracy:95.1%\n",
      "Epoch 20 evaluation finished in 11.029853 seconds\n",
      "---------------------------------------------------------\n",
      "Batch 100/398 of epoch 21 finished in 17.294389 seconds\n",
      "Batch 200/398 of epoch 21 finished in 17.346283 seconds\n",
      "Batch 300/398 of epoch 21 finished in 17.248229 seconds\n",
      "Epoch 21 training finished in 68.710659 seconds\n",
      "train accuracy:98.4%\n",
      "val accuracy:95.4%\n",
      "Epoch 21 evaluation finished in 11.003172 seconds\n",
      "---------------------------------------------------------\n",
      "Batch 100/398 of epoch 22 finished in 17.252153 seconds\n",
      "Batch 200/398 of epoch 22 finished in 17.261587 seconds\n",
      "Batch 300/398 of epoch 22 finished in 17.279878 seconds\n",
      "Epoch 22 training finished in 68.678802 seconds\n",
      "train accuracy:98.6%\n",
      "val accuracy:94.8%\n",
      "Epoch 22 evaluation finished in 11.154460 seconds\n",
      "---------------------------------------------------------\n",
      "Batch 100/398 of epoch 23 finished in 17.256875 seconds\n",
      "Batch 200/398 of epoch 23 finished in 17.309453 seconds\n",
      "Batch 300/398 of epoch 23 finished in 17.312229 seconds\n",
      "Epoch 23 training finished in 68.843395 seconds\n",
      "train accuracy:96.6%\n",
      "val accuracy:92.7%\n",
      "Epoch 23 evaluation finished in 11.003461 seconds\n",
      "---------------------------------------------------------\n",
      "Batch 100/398 of epoch 24 finished in 17.240379 seconds\n",
      "Batch 200/398 of epoch 24 finished in 17.278896 seconds\n",
      "Batch 300/398 of epoch 24 finished in 17.257657 seconds\n",
      "Epoch 24 training finished in 68.663182 seconds\n",
      "train accuracy:99.1%\n",
      "val accuracy:95.4%\n",
      "Epoch 24 evaluation finished in 11.160549 seconds\n",
      "---------------------------------------------------------\n",
      "Batch 100/398 of epoch 25 finished in 17.294022 seconds\n",
      "Batch 200/398 of epoch 25 finished in 17.249152 seconds\n",
      "Batch 300/398 of epoch 25 finished in 17.309389 seconds\n",
      "Epoch 25 training finished in 68.749863 seconds\n",
      "train accuracy:98.6%\n",
      "val accuracy:95.4%\n",
      "Epoch 25 evaluation finished in 11.088680 seconds\n",
      "---------------------------------------------------------\n",
      "Batch 100/398 of epoch 26 finished in 17.267656 seconds\n",
      "Batch 200/398 of epoch 26 finished in 17.317184 seconds\n",
      "Batch 300/398 of epoch 26 finished in 17.287501 seconds\n",
      "Epoch 26 training finished in 68.793311 seconds\n",
      "train accuracy:98.2%\n",
      "val accuracy:94.8%\n",
      "Epoch 26 evaluation finished in 11.204370 seconds\n",
      "---------------------------------------------------------\n",
      "Batch 100/398 of epoch 27 finished in 17.239659 seconds\n",
      "Batch 200/398 of epoch 27 finished in 17.376338 seconds\n",
      "Batch 300/398 of epoch 27 finished in 17.399584 seconds\n",
      "Epoch 27 training finished in 68.864008 seconds\n",
      "train accuracy:99.0%\n",
      "val accuracy:95.0%\n",
      "Epoch 27 evaluation finished in 10.341880 seconds\n",
      "---------------------------------------------------------\n",
      "Batch 100/398 of epoch 28 finished in 17.264746 seconds\n",
      "Batch 200/398 of epoch 28 finished in 17.238655 seconds\n",
      "Batch 300/398 of epoch 28 finished in 17.254439 seconds\n",
      "Epoch 28 training finished in 68.606012 seconds\n",
      "train accuracy:98.9%\n",
      "val accuracy:95.7%\n",
      "Epoch 28 evaluation finished in 10.251866 seconds\n",
      "---------------------------------------------------------\n",
      "Batch 100/398 of epoch 29 finished in 17.228719 seconds\n",
      "Batch 200/398 of epoch 29 finished in 17.322634 seconds\n",
      "Batch 300/398 of epoch 29 finished in 17.303204 seconds\n",
      "Epoch 29 training finished in 68.708627 seconds\n",
      "train accuracy:99.3%\n",
      "val accuracy:95.3%\n",
      "Epoch 29 evaluation finished in 10.278088 seconds\n",
      "---------------------------------------------------------\n",
      "Batch 100/398 of epoch 30 finished in 17.222810 seconds\n",
      "Batch 200/398 of epoch 30 finished in 17.287181 seconds\n",
      "Batch 300/398 of epoch 30 finished in 17.309617 seconds\n",
      "Epoch 30 training finished in 68.711426 seconds\n",
      "train accuracy:99.3%\n",
      "val accuracy:95.5%\n",
      "Epoch 30 evaluation finished in 10.265225 seconds\n"
     ]
    }
   ],
   "source": [
    "from googlenet import GoogleNet\n",
    "from config import ModelConfig, TrainConfig\n",
    "\n",
    "tf.reset_default_graph()\n",
    "\n",
    "model_config = ModelConfig(eval_batch_size=3000, learning_rate=3.133e-4, output=\"nsfw\", keep_prob=0.649)\n",
    "train_config = TrainConfig(print_every=100, num_epochs=30, saver_address=r'../../saved_params/', \\\n",
    "    save_file_name = 'GoogleNet_nsfw_classification_3e-4_97', lr_decay=0.972)\n",
    "model = GoogleNet(model_config)\n",
    "sess = tf.Session()\n",
    "model.train(data, sess, train_config)"
   ]
  },
  {
   "cell_type": "markdown",
   "metadata": {},
   "source": [
    "## Load the Model"
   ]
  },
  {
   "cell_type": "code",
   "execution_count": 7,
   "metadata": {
    "collapsed": false
   },
   "outputs": [
    {
     "name": "stdout",
     "output_type": "stream",
     "text": [
      "train accuracy:98.9%\n",
      "val accuracy:95.8%\n"
     ]
    }
   ],
   "source": [
    "from googlenet import GoogleNet\n",
    "from config import ModelConfig, TrainConfig\n",
    "import pickle\n",
    "\n",
    "# Reset Graph\n",
    "tf.reset_default_graph()\n",
    "\n",
    "# Create model instance\n",
    "model_config = ModelConfig(output=\"nsfw\")\n",
    "model = GoogleNet(model_config)\n",
    "\n",
    "# Load Saved Model\n",
    "sess = tf.Session()\n",
    "saver = tf.train.Saver()\n",
    "save_file = \"../../saved_params/GoogleNet_nsfw_classification_3e-4_97\"\n",
    "saver.restore(sess, save_file) \n",
    "saved_history = pickle.load(open(save_file + \"_modelhist\", 'rb'))\n",
    "model.model_history = saved_history\n",
    "\n",
    "# Test Model Accuracy\n",
    "loss_train, acc_train = model.eval(data, sess, split='train')\n",
    "loss_val, acc_val = model.eval(data, sess, split = 'val')"
   ]
  },
  {
   "cell_type": "markdown",
   "metadata": {},
   "source": [
    "## Plot Graphs"
   ]
  },
  {
   "cell_type": "code",
   "execution_count": 8,
   "metadata": {
    "collapsed": false
   },
   "outputs": [
    {
     "data": {
      "image/png": "[encoded data removed]",
      "text/plain": [
       "<matplotlib.figure.Figure at 0x7fb0e62f7c18>"
      ]
     },
     "metadata": {},
     "output_type": "display_data"
    }
   ],
   "source": [
    "model.plot_loss_acc(data)"
   ]
  },
  {
   "cell_type": "markdown",
   "metadata": {},
   "source": [
    "## Hyperparameter Optimization"
   ]
  },
  {
   "cell_type": "code",
   "execution_count": 10,
   "metadata": {
    "collapsed": false
   },
   "outputs": [],
   "source": [
    "from googlenet import GoogleNet\n",
    "from config import ModelConfig, TrainConfig\n",
    "import pickle\n",
    "import hyperopt as hpropt\n",
    "\n",
    "def objective(args):\n",
    "    model_config = ModelConfig(learning_rate=args['learning_rate'], keep_prob=args['keep_prob'], \\\n",
    "                               eval_batch_size=3000, output=\"nsfw\")\n",
    "    train_config = TrainConfig(num_epochs=args['num_epochs'], lr_decay=args['lr_decay'])\n",
    "    \n",
    "    tf.reset_default_graph()\n",
    "    model = GoogleNet(model_config)\n",
    "    \n",
    "    sess = tf.Session()\n",
    "    model.train(data, sess, train_config)\n",
    "    cost, accuracy = model.eval(data, sess, \"val\")\n",
    "    \n",
    "    saveList = {\n",
    "        'accuracy' : accuracy,\n",
    "        'cost' : cost,\n",
    "        'num_epochs' : args['num_epochs'],\n",
    "        'learning_rate' : args['learning_rate'],\n",
    "        'lr_decay' : args['lr_decay'],\n",
    "        'keep_prob' : args['keep_prob']\n",
    "    }\n",
    "    print(saveList)\n",
    "    pickle.dump(saveList, open(\"../../hprOpt/nsfw_\" + str(accuracy) + \".dat\", \"wb\"))\n",
    "    model.plot_loss_acc(data)\n",
    "    return cost\n",
    "\n",
    "def optimize(space, max_evals=50):\n",
    "    best = hpropt.fmin(objective, space, algo=hpropt.tpe.suggest, max_evals=max_evals)\n",
    "    print(best)\n",
    "    \n",
    "    return best"
   ]
  },
  {
   "cell_type": "code",
   "execution_count": null,
   "metadata": {
    "collapsed": false,
    "scrolled": true
   },
   "outputs": [
    {
     "name": "stdout",
     "output_type": "stream",
     "text": [
      "---------------------------------------------------------\n",
      "Batch 100/398 of epoch 1 finished in 18.164331 seconds\n",
      "Batch 200/398 of epoch 1 finished in 17.632418 seconds\n",
      "Batch 300/398 of epoch 1 finished in 17.634186 seconds\n",
      "Epoch 1 training finished in 70.583467 seconds\n",
      "train accuracy:92.5%\n",
      "val accuracy:93.0%\n",
      "Epoch 1 evaluation finished in 11.311978 seconds\n",
      "---------------------------------------------------------\n",
      "Batch 100/398 of epoch 2 finished in 17.559952 seconds\n",
      "Batch 200/398 of epoch 2 finished in 17.696228 seconds\n",
      "Batch 300/398 of epoch 2 finished in 17.729908 seconds\n",
      "Epoch 2 training finished in 70.193845 seconds\n",
      "train accuracy:93.4%\n",
      "val accuracy:93.7%\n",
      "Epoch 2 evaluation finished in 10.895666 seconds\n",
      "---------------------------------------------------------\n",
      "Batch 100/398 of epoch 3 finished in 17.591631 seconds\n",
      "Batch 200/398 of epoch 3 finished in 17.563115 seconds\n",
      "Batch 300/398 of epoch 3 finished in 17.568737 seconds\n",
      "Epoch 3 training finished in 69.927465 seconds\n",
      "train accuracy:94.3%\n",
      "val accuracy:94.6%\n",
      "Epoch 3 evaluation finished in 10.871137 seconds\n",
      "---------------------------------------------------------\n",
      "Batch 100/398 of epoch 4 finished in 17.581899 seconds\n",
      "Batch 200/398 of epoch 4 finished in 17.575976 seconds\n",
      "Batch 300/398 of epoch 4 finished in 17.631047 seconds\n",
      "Epoch 4 training finished in 69.972202 seconds\n",
      "train accuracy:94.6%\n",
      "val accuracy:94.6%\n",
      "Epoch 4 evaluation finished in 11.017680 seconds\n",
      "---------------------------------------------------------\n",
      "Batch 100/398 of epoch 5 finished in 17.578115 seconds\n",
      "Batch 200/398 of epoch 5 finished in 17.605474 seconds\n",
      "Batch 300/398 of epoch 5 finished in 17.588201 seconds\n",
      "Epoch 5 training finished in 69.941840 seconds\n",
      "train accuracy:95.1%\n",
      "val accuracy:94.8%\n",
      "Epoch 5 evaluation finished in 11.037503 seconds\n",
      "---------------------------------------------------------\n",
      "Batch 100/398 of epoch 6 finished in 17.578960 seconds\n",
      "Batch 200/398 of epoch 6 finished in 17.598044 seconds\n",
      "Batch 300/398 of epoch 6 finished in 17.588146 seconds\n",
      "Epoch 6 training finished in 69.961919 seconds\n",
      "train accuracy:95.4%\n",
      "val accuracy:94.8%\n",
      "Epoch 6 evaluation finished in 10.961187 seconds\n",
      "val accuracy:95.1%\n",
      "---------------------------------------------------------\n",
      "Batch 100/398 of epoch 1 finished in 18.065508 seconds\n",
      "Batch 200/398 of epoch 1 finished in 17.459539 seconds\n",
      "Batch 300/398 of epoch 1 finished in 17.548462 seconds\n",
      "Epoch 1 training finished in 70.138500 seconds\n",
      "train accuracy:32.4%\n",
      "val accuracy:32.5%\n",
      "Epoch 1 evaluation finished in 11.110319 seconds\n",
      "---------------------------------------------------------\n",
      "Batch 100/398 of epoch 2 finished in 17.513116 seconds\n",
      "Batch 200/398 of epoch 2 finished in 17.466163 seconds\n",
      "Batch 300/398 of epoch 2 finished in 17.500068 seconds\n",
      "Epoch 2 training finished in 69.543622 seconds\n",
      "train accuracy:90.3%\n",
      "val accuracy:90.3%\n",
      "Epoch 2 evaluation finished in 11.065033 seconds\n",
      "---------------------------------------------------------\n",
      "Batch 100/398 of epoch 3 finished in 17.469345 seconds"
     ]
    }
   ],
   "source": [
    "import math\n",
    "\n",
    "def get_learning_rate_range(base_10_min, base_10_max):\n",
    "    scale_factor = 1 / math.log10(math.e)\n",
    "    return hpropt.hp.loguniform('learning_rate', scale_factor * base_10_min, scale_factor * base_10_max)\n",
    "\n",
    "space = {\n",
    "        'num_epochs' : 6,\n",
    "        'learning_rate' : get_learning_rate_range(-6, -1.5),\n",
    "        'lr_decay' : hpropt.hp.uniform('lr_decay', 0.9, 1.0),\n",
    "        'keep_prob' : hpropt.hp.uniform('keep_prob', 0.6, 1.0)\n",
    "}\n",
    "\n",
    "best_opt = optimize(space, 30)"
   ]
  },
  {
   "cell_type": "markdown",
   "metadata": {},
   "source": [
    "## Evaluate on Test Set"
   ]
  },
  {
   "cell_type": "code",
   "execution_count": 13,
   "metadata": {
    "collapsed": true
   },
   "outputs": [],
   "source": [
    "# Get model predictions\n",
    "y_test_pred = sess.run(model.prediction, {model.X_placeholder: data.X_test, model.y_placeholder: data.y_test_2, \n",
    "                                            model.is_training_placeholder:False})\n",
    "\n",
    "y_test_pred = np.argmax(y_test_pred, axis = 1)"
   ]
  },
  {
   "cell_type": "code",
   "execution_count": 14,
   "metadata": {
    "collapsed": false
   },
   "outputs": [
    {
     "name": "stdout",
     "output_type": "stream",
     "text": [
      "Normalized confusion matrix\n"
     ]
    },
    {
     "data": {
      "image/png": "[encoded data removed]",
      "text/plain": [
       "<matplotlib.figure.Figure at 0x7fb0944405c0>"
      ]
     },
     "metadata": {},
     "output_type": "display_data"
    }
   ],
   "source": [
    "from util import plot_confusion_matrix\n",
    "from sklearn.metrics import confusion_matrix\n",
    "\n",
    "classes = [\"sfw\", \"nsfw\"]\n",
    "cm = confusion_matrix(data.y_test_2, y_test_pred)\n",
    "plot_confusion_matrix(cm, classes, normalize=True, task=\"nsfw\")"
   ]
  },
  {
   "cell_type": "code",
   "execution_count": 15,
   "metadata": {
    "collapsed": false
   },
   "outputs": [
    {
     "name": "stdout",
     "output_type": "stream",
     "text": [
      "0.836801134535\n"
     ]
    }
   ],
   "source": [
    "from util import get_f1_score\n",
    "\n",
    "f1_score = get_f1_score(data.y_test_2, y_test_pred)\n",
    "print(f1_score)"
   ]
  },
  {
   "cell_type": "code",
   "execution_count": 16,
   "metadata": {
    "collapsed": false
   },
   "outputs": [
    {
     "name": "stdout",
     "output_type": "stream",
     "text": [
      "test accuracy:95.3%\n"
     ]
    }
   ],
   "source": [
    "_ = model.eval(data, sess, split=\"test\")"
   ]
  }
 ],
 "metadata": {
  "kernelspec": {
   "display_name": "Python 3",
   "language": "python",
   "name": "python3"
  },
  "language_info": {
   "codemirror_mode": {
    "name": "ipython",
    "version": 3
   },
   "file_extension": ".py",
   "mimetype": "text/x-python",
   "name": "python",
   "nbconvert_exporter": "python",
   "pygments_lexer": "ipython3",
   "version": "3.5.2"
  }
 },
 "nbformat": 4,
 "nbformat_minor": 0
}
