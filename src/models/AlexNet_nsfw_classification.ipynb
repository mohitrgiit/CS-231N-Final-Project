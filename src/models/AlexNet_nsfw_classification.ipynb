{
 "cells": [
  {
   "cell_type": "markdown",
   "metadata": {},
   "source": [
    "Author: Tyler Chase\n",
    "\n",
    "Date: 2017/05/18"
   ]
  },
  {
   "cell_type": "markdown",
   "metadata": {},
   "source": [
    "# Model NSFW Classification\n",
    "\n",
    "This code uses an AlexNet model to classify an image as not safe for work (nsfw) or safe for work (sfw). "
   ]
  },
  {
   "cell_type": "markdown",
   "metadata": {},
   "source": [
    "## Load Datasets"
   ]
  },
  {
   "cell_type": "code",
   "execution_count": 9,
   "metadata": {},
   "outputs": [
    {
     "name": "stdout",
     "output_type": "stream",
     "text": [
      "The autoreload extension is already loaded. To reload it, use:\n",
      "  %reload_ext autoreload\n"
     ]
    }
   ],
   "source": [
    "import tensorflow as tf\n",
    "import numpy as np\n",
    "import math\n",
    "import timeit\n",
    "import random\n",
    "import pickle\n",
    "import matplotlib.pyplot as plt\n",
    "import itertools\n",
    "from sklearn.metrics import confusion_matrix\n",
    "from util import import_dataset, sample_data, plot_confusion_matrix\n",
    "from model import Model, lazy_property\n",
    "from config import ModelConfig, TrainConfig\n",
    "from data_stats import DataStats\n",
    "%matplotlib inline\n",
    "\n",
    "# Set default to auto import packages\n",
    "%load_ext autoreload\n",
    "%autoreload 2"
   ]
  },
  {
   "cell_type": "code",
   "execution_count": 10,
   "metadata": {},
   "outputs": [
    {
     "name": "stdout",
     "output_type": "stream",
     "text": [
      "Train data shape:  (25450, 128, 128, 3)\n",
      "Train subreddit labels shape:  (25450,)\n",
      "Train nsfw labels shape:  (25450,)\n",
      "Validation data shape:  (3181, 128, 128, 3)\n",
      "Validation subreddit labels shape:  (3181,)\n",
      "Validation nsfw labels shape:  (3181,)\n",
      "Test data shape:  (3182, 128, 128, 3)\n",
      "Test subreddit labels shape:  (3182,)\n",
      "Test nsfw labels shape:  (3182,)\n"
     ]
    }
   ],
   "source": [
    "# Form training, developement, and testing data sets\n",
    "address = r'/home/tylerchase/CS-231N-Final-Project/data/fullData//'\n",
    "address = r'../../data/fullData//'\n",
    "file_names = {}\n",
    "file_names['images'] = 'full_data.npy'\n",
    "file_names['subs'] = 'full_subredditlabels'\n",
    "file_names['dict'] = 'full_subredditIndex'\n",
    "file_names['nsfw'] = 'full_nsfwlabels'\n",
    "data, dictionary = import_dataset(address, file_names)\n",
    "\n",
    "# Print the sizes as a sanity check\n",
    "print('Train data shape: ', data.X_train.shape)\n",
    "print('Train subreddit labels shape: ', data.y_train.shape)\n",
    "print('Train nsfw labels shape: ', data.y_train_2.shape)\n",
    "print('Validation data shape: ', data.X_val.shape)\n",
    "print('Validation subreddit labels shape: ', data.y_val.shape)\n",
    "print('Validation nsfw labels shape: ', data.y_val_2.shape)\n",
    "print('Test data shape: ', data.X_test.shape)\n",
    "print('Test subreddit labels shape: ', data.y_test.shape)\n",
    "print('Test nsfw labels shape: ', data.y_test_2.shape)"
   ]
  },
  {
   "cell_type": "markdown",
   "metadata": {},
   "source": [
    "## Determine Subreddit Statistics of Data"
   ]
  },
  {
   "cell_type": "code",
   "execution_count": 12,
   "metadata": {},
   "outputs": [
    {
     "name": "stdout",
     "output_type": "stream",
     "text": [
      "EarthPorn Submissions:  1362\n",
      "SkyPorn Submissions:  1359\n",
      "spaceporn Submissions:  1307\n",
      "MilitaryPorn Submissions:  1331\n",
      "GunPorn Submissions:  1324\n",
      "carporn Submissions:  1320\n",
      "CityPorn Submissions:  1336\n",
      "ruralporn Submissions:  969\n",
      "ArchitecturePorn Submissions:  1278\n",
      "FoodPorn Submissions:  1364\n",
      "MoviePosterPorn Submissions:  1354\n",
      "ArtPorn Submissions:  1349\n",
      "RoomPorn Submissions:  1357\n",
      "creepy Submissions:  1306\n",
      "gonewild Submissions:  982\n",
      "PrettyGirls Submissions:  1329\n",
      "ladybonersgw Submissions:  917\n",
      "LadyBoners Submissions:  1191\n",
      "cats Submissions:  1356\n",
      "dogpictures Submissions:  1359\n",
      "Sanity Check Sum:  25450\n",
      "\n",
      "Total Submissions:  25450\n"
     ]
    }
   ],
   "source": [
    "data_stats = DataStats(data, dictionary)\n",
    "data_stats.sub_stats(dataSet = 'train')"
   ]
  },
  {
   "cell_type": "code",
   "execution_count": 13,
   "metadata": {},
   "outputs": [
    {
     "name": "stdout",
     "output_type": "stream",
     "text": [
      "EarthPorn Submissions:  171\n",
      "SkyPorn Submissions:  175\n",
      "spaceporn Submissions:  151\n",
      "MilitaryPorn Submissions:  163\n",
      "GunPorn Submissions:  152\n",
      "carporn Submissions:  188\n",
      "CityPorn Submissions:  172\n",
      "ruralporn Submissions:  135\n",
      "ArchitecturePorn Submissions:  138\n",
      "FoodPorn Submissions:  162\n",
      "MoviePosterPorn Submissions:  186\n",
      "ArtPorn Submissions:  173\n",
      "RoomPorn Submissions:  177\n",
      "creepy Submissions:  139\n",
      "gonewild Submissions:  103\n",
      "PrettyGirls Submissions:  159\n",
      "ladybonersgw Submissions:  122\n",
      "LadyBoners Submissions:  165\n",
      "cats Submissions:  159\n",
      "dogpictures Submissions:  191\n",
      "Sanity Check Sum:  3181\n",
      "\n",
      "Total Submissions:  3181\n"
     ]
    }
   ],
   "source": [
    "data_stats.sub_stats(dataSet = 'val')"
   ]
  },
  {
   "cell_type": "markdown",
   "metadata": {},
   "source": [
    "## Determine NSFW Statistics of Data"
   ]
  },
  {
   "cell_type": "code",
   "execution_count": 14,
   "metadata": {},
   "outputs": [
    {
     "name": "stdout",
     "output_type": "stream",
     "text": [
      "SFW Submissions:  23286\n",
      "NSFW Submissions:  2164\n",
      "Sanity Check Sum:  25450\n",
      "\n",
      "Total Submissions:  25450\n"
     ]
    }
   ],
   "source": [
    "data_stats.nsfw_stats(dataSet = 'train')"
   ]
  },
  {
   "cell_type": "code",
   "execution_count": 15,
   "metadata": {},
   "outputs": [
    {
     "name": "stdout",
     "output_type": "stream",
     "text": [
      "SFW Submissions:  2926\n",
      "NSFW Submissions:  255\n",
      "Sanity Check Sum:  3181\n",
      "\n",
      "Total Submissions:  3181\n"
     ]
    }
   ],
   "source": [
    "data_stats.nsfw_stats(dataSet = 'val')"
   ]
  },
  {
   "cell_type": "markdown",
   "metadata": {},
   "source": [
    "## Determine NSFW Images Per Subreddit"
   ]
  },
  {
   "cell_type": "code",
   "execution_count": 16,
   "metadata": {},
   "outputs": [
    {
     "name": "stdout",
     "output_type": "stream",
     "text": [
      "EarthPorn :  1362\n",
      "NSFW:  0\n",
      "SFW:  1362\n",
      "\n",
      "SkyPorn :  1359\n",
      "NSFW:  0\n",
      "SFW:  1359\n",
      "\n",
      "spaceporn :  1307\n",
      "NSFW:  0\n",
      "SFW:  1307\n",
      "\n",
      "MilitaryPorn :  1331\n",
      "NSFW:  4\n",
      "SFW:  1327\n",
      "\n",
      "GunPorn :  1324\n",
      "NSFW:  1\n",
      "SFW:  1323\n",
      "\n",
      "carporn :  1320\n",
      "NSFW:  1\n",
      "SFW:  1319\n",
      "\n",
      "CityPorn :  1336\n",
      "NSFW:  0\n",
      "SFW:  1336\n",
      "\n",
      "ruralporn :  969\n",
      "NSFW:  0\n",
      "SFW:  969\n",
      "\n",
      "ArchitecturePorn :  1278\n",
      "NSFW:  0\n",
      "SFW:  1278\n",
      "\n",
      "FoodPorn :  1364\n",
      "NSFW:  0\n",
      "SFW:  1364\n",
      "\n",
      "MoviePosterPorn :  1354\n",
      "NSFW:  10\n",
      "SFW:  1344\n",
      "\n",
      "ArtPorn :  1349\n",
      "NSFW:  110\n",
      "SFW:  1239\n",
      "\n",
      "RoomPorn :  1357\n",
      "NSFW:  0\n",
      "SFW:  1357\n",
      "\n",
      "creepy :  1306\n",
      "NSFW:  98\n",
      "SFW:  1208\n",
      "\n",
      "gonewild :  982\n",
      "NSFW:  982\n",
      "SFW:  0\n",
      "\n",
      "PrettyGirls :  1329\n",
      "NSFW:  0\n",
      "SFW:  1329\n",
      "\n",
      "ladybonersgw :  917\n",
      "NSFW:  917\n",
      "SFW:  0\n",
      "\n",
      "LadyBoners :  1191\n",
      "NSFW:  39\n",
      "SFW:  1152\n",
      "\n",
      "cats :  1356\n",
      "NSFW:  1\n",
      "SFW:  1355\n",
      "\n",
      "dogpictures :  1359\n",
      "NSFW:  1\n",
      "SFW:  1358\n",
      "\n"
     ]
    }
   ],
   "source": [
    "data_stats.subreddit_nsfw_stats(dataSet = 'train')"
   ]
  },
  {
   "cell_type": "code",
   "execution_count": 17,
   "metadata": {},
   "outputs": [
    {
     "name": "stdout",
     "output_type": "stream",
     "text": [
      "EarthPorn :  171\n",
      "NSFW:  0\n",
      "SFW:  171\n",
      "\n",
      "SkyPorn :  175\n",
      "NSFW:  0\n",
      "SFW:  175\n",
      "\n",
      "spaceporn :  151\n",
      "NSFW:  0\n",
      "SFW:  151\n",
      "\n",
      "MilitaryPorn :  163\n",
      "NSFW:  0\n",
      "SFW:  163\n",
      "\n",
      "GunPorn :  152\n",
      "NSFW:  0\n",
      "SFW:  152\n",
      "\n",
      "carporn :  188\n",
      "NSFW:  0\n",
      "SFW:  188\n",
      "\n",
      "CityPorn :  172\n",
      "NSFW:  0\n",
      "SFW:  172\n",
      "\n",
      "ruralporn :  135\n",
      "NSFW:  0\n",
      "SFW:  135\n",
      "\n",
      "ArchitecturePorn :  138\n",
      "NSFW:  0\n",
      "SFW:  138\n",
      "\n",
      "FoodPorn :  162\n",
      "NSFW:  0\n",
      "SFW:  162\n",
      "\n",
      "MoviePosterPorn :  186\n",
      "NSFW:  1\n",
      "SFW:  185\n",
      "\n",
      "ArtPorn :  173\n",
      "NSFW:  18\n",
      "SFW:  155\n",
      "\n",
      "RoomPorn :  177\n",
      "NSFW:  0\n",
      "SFW:  177\n",
      "\n",
      "creepy :  139\n",
      "NSFW:  8\n",
      "SFW:  131\n",
      "\n",
      "gonewild :  103\n",
      "NSFW:  103\n",
      "SFW:  0\n",
      "\n",
      "PrettyGirls :  159\n",
      "NSFW:  0\n",
      "SFW:  159\n",
      "\n",
      "ladybonersgw :  122\n",
      "NSFW:  122\n",
      "SFW:  0\n",
      "\n",
      "LadyBoners :  165\n",
      "NSFW:  3\n",
      "SFW:  162\n",
      "\n",
      "cats :  159\n",
      "NSFW:  0\n",
      "SFW:  159\n",
      "\n",
      "dogpictures :  191\n",
      "NSFW:  0\n",
      "SFW:  191\n",
      "\n"
     ]
    }
   ],
   "source": [
    "data_stats.subreddit_nsfw_stats(dataSet = 'val')"
   ]
  },
  {
   "cell_type": "markdown",
   "metadata": {},
   "source": [
    "## Optional Cell to take particular Subreddits from Dataset\n",
    "\n",
    "Since safe for work SFW content takes up approximately 90% of the data here we balance the data by only considering 4 subreddits that are pictures of people. r/gonewild and r/ladybonersgw both contain mostly nsfw content and are women and men respectively. r/prettygirls and r/ladyboners both contain mostly sfw content and are women and men respectively.   "
   ]
  },
  {
   "cell_type": "code",
   "execution_count": 18,
   "metadata": {},
   "outputs": [
    {
     "name": "stdout",
     "output_type": "stream",
     "text": [
      "gonewild\n",
      "posts found:  1225\n",
      "\n",
      "ladybonersgw\n",
      "posts found:  1147\n",
      "\n",
      "PrettyGirls\n",
      "posts found:  1648\n",
      "\n",
      "LadyBoners\n",
      "posts found:  1505\n",
      "\n",
      "sanity check\n",
      "posts found:  5525\n",
      "length training:  4419\n"
     ]
    }
   ],
   "source": [
    "subreddits = ['gonewild', 'ladybonersgw', 'PrettyGirls', 'LadyBoners']\n",
    "dictionary_2 = sample_data(subreddits, data, dictionary)"
   ]
  },
  {
   "cell_type": "markdown",
   "metadata": {},
   "source": [
    "## Check the Subreddit Statistics of the Data Subset"
   ]
  },
  {
   "cell_type": "code",
   "execution_count": 19,
   "metadata": {},
   "outputs": [
    {
     "name": "stdout",
     "output_type": "stream",
     "text": [
      "gonewild Submissions:  982\n",
      "ladybonersgw Submissions:  917\n",
      "PrettyGirls Submissions:  1329\n",
      "LadyBoners Submissions:  1191\n",
      "Sanity Check Sum:  4419\n",
      "\n",
      "Total Submissions:  4419\n"
     ]
    }
   ],
   "source": [
    "data_stats = DataStats(data, dictionary_2)\n",
    "data_stats.sub_stats(dataSet = 'train')"
   ]
  },
  {
   "cell_type": "code",
   "execution_count": 20,
   "metadata": {},
   "outputs": [
    {
     "name": "stdout",
     "output_type": "stream",
     "text": [
      "gonewild Submissions:  103\n",
      "ladybonersgw Submissions:  122\n",
      "PrettyGirls Submissions:  159\n",
      "LadyBoners Submissions:  165\n",
      "Sanity Check Sum:  549\n",
      "\n",
      "Total Submissions:  549\n"
     ]
    }
   ],
   "source": [
    "data_stats.sub_stats(dataSet = 'val')"
   ]
  },
  {
   "cell_type": "markdown",
   "metadata": {},
   "source": [
    "## Check the NSF Statistics"
   ]
  },
  {
   "cell_type": "code",
   "execution_count": 21,
   "metadata": {},
   "outputs": [
    {
     "name": "stdout",
     "output_type": "stream",
     "text": [
      "SFW Submissions:  2481\n",
      "NSFW Submissions:  1938\n",
      "Sanity Check Sum:  4419\n",
      "\n",
      "Total Submissions:  4419\n"
     ]
    }
   ],
   "source": [
    "data_stats.nsfw_stats(dataSet = 'train')"
   ]
  },
  {
   "cell_type": "code",
   "execution_count": 22,
   "metadata": {},
   "outputs": [
    {
     "name": "stdout",
     "output_type": "stream",
     "text": [
      "SFW Submissions:  321\n",
      "NSFW Submissions:  228\n",
      "Sanity Check Sum:  549\n",
      "\n",
      "Total Submissions:  549\n"
     ]
    }
   ],
   "source": [
    "data_stats.nsfw_stats(dataSet = 'val')"
   ]
  },
  {
   "cell_type": "markdown",
   "metadata": {},
   "source": [
    "## Determine NSFW Images Per Subreddit"
   ]
  },
  {
   "cell_type": "code",
   "execution_count": 23,
   "metadata": {},
   "outputs": [
    {
     "name": "stdout",
     "output_type": "stream",
     "text": [
      "gonewild :  982\n",
      "NSFW:  982\n",
      "SFW:  0\n",
      "\n",
      "ladybonersgw :  917\n",
      "NSFW:  917\n",
      "SFW:  0\n",
      "\n",
      "PrettyGirls :  1329\n",
      "NSFW:  0\n",
      "SFW:  1329\n",
      "\n",
      "LadyBoners :  1191\n",
      "NSFW:  39\n",
      "SFW:  1152\n",
      "\n"
     ]
    }
   ],
   "source": [
    "data_stats.subreddit_nsfw_stats(dataSet = 'train')"
   ]
  },
  {
   "cell_type": "code",
   "execution_count": 24,
   "metadata": {},
   "outputs": [
    {
     "name": "stdout",
     "output_type": "stream",
     "text": [
      "gonewild :  103\n",
      "NSFW:  103\n",
      "SFW:  0\n",
      "\n",
      "ladybonersgw :  122\n",
      "NSFW:  122\n",
      "SFW:  0\n",
      "\n",
      "PrettyGirls :  159\n",
      "NSFW:  0\n",
      "SFW:  159\n",
      "\n",
      "LadyBoners :  165\n",
      "NSFW:  3\n",
      "SFW:  162\n",
      "\n"
     ]
    }
   ],
   "source": [
    "data_stats.subreddit_nsfw_stats(dataSet = 'val')"
   ]
  },
  {
   "cell_type": "markdown",
   "metadata": {},
   "source": [
    "## Define AlexNet model \n",
    "\n",
    "* 11x11 convolutional layer with 96 filters and a stride of 4\n",
    "* ReLU activation\n",
    "* 3x3 max pooling with a stride of 2\n",
    "* batch normalization\n",
    "\n",
    "\n",
    "* 5x5 convolutional layer with 256 filters and a stride of 1\n",
    "* ReLU activation\n",
    "* 3x3 max pooling with a stride of 2\n",
    "* batch normalization\n",
    "\n",
    "\n",
    "* 3x3 convolutional layer with 384 filters and a stride of 1\n",
    "* ReLU activation\n",
    "* 3x3 convolutional layer with 384 filters and a stride of 1\n",
    "* ReLU activation \n",
    "* 3x3 convolutional layer with 256 filters and a stride of 1\n",
    "* ReLU activation\n",
    "* 3x3 max pooling with a stride of 2\n",
    "\n",
    "\n",
    "* affine layer from 4096 to 4096\n",
    "* ReLU activation\n",
    "* affine layer from 4096 to 4096\n",
    "* ReLU activation\n",
    "* affine layer from 4096 to 2"
   ]
  },
  {
   "cell_type": "code",
   "execution_count": 28,
   "metadata": {
    "collapsed": true
   },
   "outputs": [],
   "source": [
    "class AlexNet(Model):\n",
    "    \n",
    "    def __init__(self, model_config):\n",
    "        Model.__init__(self, model_config)\n",
    "  \n",
    "    @lazy_property\n",
    "    def prediction(self):\n",
    "        # define our graph (e.g. AlexNet)\n",
    "        \n",
    "        a1 = tf.layers.conv2d(self.X_placeholder, filters=96, kernel_size=(11,11), strides=(4,4), padding='SAME') \n",
    "        h1 = tf.nn.relu(a1)\n",
    "        mp1 = tf.layers.max_pooling2d(h1, pool_size=(3,3), strides=(2,2), padding='SAME')    \n",
    "        bn1 = tf.layers.batch_normalization(mp1, training=self.is_training_placeholder)\n",
    "        \n",
    "        a2 = tf.layers.conv2d(bn1, filters=256, kernel_size=(5,5), strides=(1,1), padding='SAME')     \n",
    "        h2 = tf.nn.relu(a2)\n",
    "        mp2 = tf.layers.max_pooling2d(h2, pool_size=(3,3), strides=(2,2), padding='SAME')    \n",
    "        bn2 = tf.layers.batch_normalization(mp2, training=self.is_training_placeholder)              \n",
    "    \n",
    "        a3 = tf.layers.conv2d(bn2, filters=384, kernel_size=(3,3), strides=(1,1), padding='SAME')    \n",
    "        h3 = tf.nn.relu(a3)\n",
    "        a4 = tf.layers.conv2d(h3, filters=384, kernel_size=(3,3), strides=(1,1), padding='SAME')   \n",
    "        h4 = tf.nn.relu(a4)\n",
    "        a5 = tf.layers.conv2d(h4, filters=256, kernel_size=(3,3), strides=(1,1), padding='SAME')    \n",
    "        h5 = tf.nn.relu(a5)\n",
    "        mp3 = tf.layers.max_pooling2d(h5, pool_size=(3,3), strides=(2,2), padding='SAME')  \n",
    "    \n",
    "        mp_flat = tf.reshape(mp3,[-1,4096])\n",
    "        aff1 = tf.layers.dense(mp_flat, 4096)\n",
    "        h6 = tf.nn.relu(aff1)\n",
    "        aff2 = tf.layers.dense(h6, 4096)\n",
    "        h7 = tf.nn.relu(aff2)\n",
    "        y_out = tf.layers.dense(h7, self.config.nsfw_class_size)\n",
    "    \n",
    "        return y_out     "
   ]
  },
  {
   "cell_type": "markdown",
   "metadata": {},
   "source": [
    "## Train the Model"
   ]
  },
  {
   "cell_type": "code",
   "execution_count": 34,
   "metadata": {},
   "outputs": [
    {
     "name": "stdout",
     "output_type": "stream",
     "text": [
      "---------------------------------------------------------\n",
      "Batch 100/442 of epoch 1 finished in 4.756376 seconds\n",
      "Batch 200/442 of epoch 1 finished in 4.562951 seconds\n",
      "Batch 300/442 of epoch 1 finished in 4.502097 seconds\n",
      "Batch 400/442 of epoch 1 finished in 4.553596 seconds\n",
      "Epoch 1 training finished in 20.293913 seconds\n",
      "train accuracy:56.1%\n",
      "val accuracy:58.5%\n",
      "Epoch 1 evaluation finished in 2.882213 seconds\n",
      "---------------------------------------------------------\n",
      "Batch 100/442 of epoch 2 finished in 4.587162 seconds\n",
      "Batch 200/442 of epoch 2 finished in 4.599970 seconds\n",
      "Batch 300/442 of epoch 2 finished in 4.564174 seconds\n",
      "Batch 400/442 of epoch 2 finished in 4.568843 seconds\n",
      "Epoch 2 training finished in 20.230668 seconds\n",
      "train accuracy:56.1%\n",
      "val accuracy:58.5%\n",
      "Epoch 2 evaluation finished in 2.761580 seconds\n",
      "---------------------------------------------------------\n",
      "Batch 100/442 of epoch 3 finished in 4.598084 seconds\n",
      "Batch 200/442 of epoch 3 finished in 4.514052 seconds\n",
      "Batch 300/442 of epoch 3 finished in 4.546418 seconds\n",
      "Batch 400/442 of epoch 3 finished in 4.562361 seconds\n",
      "Epoch 3 training finished in 20.130178 seconds\n",
      "train accuracy:56.1%\n",
      "val accuracy:58.5%\n",
      "Epoch 3 evaluation finished in 2.715476 seconds\n",
      "---------------------------------------------------------\n",
      "Batch 100/442 of epoch 4 finished in 4.416953 seconds\n",
      "Batch 200/442 of epoch 4 finished in 4.401939 seconds\n",
      "Batch 300/442 of epoch 4 finished in 4.380252 seconds\n",
      "Batch 400/442 of epoch 4 finished in 4.396185 seconds\n",
      "Epoch 4 training finished in 19.445948 seconds\n",
      "train accuracy:56.1%\n",
      "val accuracy:58.5%\n",
      "Epoch 4 evaluation finished in 2.638787 seconds\n",
      "---------------------------------------------------------\n",
      "Batch 100/442 of epoch 5 finished in 4.430535 seconds\n",
      "Batch 200/442 of epoch 5 finished in 4.472499 seconds\n",
      "Batch 300/442 of epoch 5 finished in 4.486029 seconds\n",
      "Batch 400/442 of epoch 5 finished in 4.542121 seconds\n",
      "Epoch 5 training finished in 19.847025 seconds\n",
      "train accuracy:56.1%\n",
      "val accuracy:58.5%\n",
      "Epoch 5 evaluation finished in 2.657028 seconds\n"
     ]
    }
   ],
   "source": [
    "# Create model instance\n",
    "tf.reset_default_graph()\n",
    "\n",
    "model_config = ModelConfig(learning_rate=0.003, output = 'nsfw')\n",
    "train_config = TrainConfig(num_epochs=5, train_batch_size=100, print_every=10, \\\n",
    "    saver_address=r'../../subreddit_classification_parameters/', \\\n",
    "    save_file_name = 'AlexNet_nsfw_classification')\n",
    "model = AlexNet(model_config)\n",
    "\n",
    "# Create session\n",
    "session = tf.Session()\n",
    "model.train(data, session, train_config)"
   ]
  },
  {
   "cell_type": "markdown",
   "metadata": {},
   "source": [
    "## Return Loss and Accuracy History"
   ]
  },
  {
   "cell_type": "code",
   "execution_count": 35,
   "metadata": {},
   "outputs": [
    {
     "data": {
      "image/png": "[encoded data removed]",
      "text/plain": [
       "<matplotlib.figure.Figure at 0x7fc3f2c56978>"
      ]
     },
     "metadata": {},
     "output_type": "display_data"
    }
   ],
   "source": [
    "# Plot Loss and Accuracy\n",
    "model.plot_loss_acc(data)"
   ]
  },
  {
   "cell_type": "markdown",
   "metadata": {},
   "source": [
    "## Test Loading the Model"
   ]
  },
  {
   "cell_type": "code",
   "execution_count": null,
   "metadata": {
    "collapsed": true
   },
   "outputs": [],
   "source": [
    "# Reset Graph\n",
    "tf.reset_default_graph()\n",
    "\n",
    "# Create model instance\n",
    "model_config = ModelConfig(learning_rate=0.003, output = 'nsfw')\n",
    "train_config = TrainConfig(num_epochs=2, minibatch_size=100, print_every=100, \\\n",
    "    saver_address=r'../../subreddit_classification_parameters/', \\\n",
    "    save_file_name = 'AlexNet_nsfw_classification')\n",
    "model = AlexNet(model_config)\n",
    "\n",
    "# Load Saved Model\n",
    "session = tf.Session()\n",
    "saver = tf.train.Saver()\n",
    "saver.restore(session, train_config.saver_address + train_config.save_file_name) \n",
    "\n",
    "# Test Model Accuracy\n",
    "loss_train, acc_train = model.eval(data, session, split='train')\n",
    "loss_val, acc_val = model.eval(data, session, split = 'val')\n",
    "\n",
    "print('Training Accuracy {:3.1f}%, Vallidation Accuracy:{:3.1f}%'.format((100*acc_train), (100*acc_val)))"
   ]
  },
  {
   "cell_type": "markdown",
   "metadata": {},
   "source": [
    "## Output Predictions for Vallidation"
   ]
  },
  {
   "cell_type": "code",
   "execution_count": 36,
   "metadata": {
    "collapsed": true
   },
   "outputs": [],
   "source": [
    "y_val_pred = session.run(model.prediction, {model.X_placeholder: data.X_val, model.y_placeholder: data.y_val_2, \n",
    "                                            model.is_training_placeholder:False})\n",
    "\n",
    "y_val_pred = np.argmax(y_val_pred, axis = 1)"
   ]
  },
  {
   "cell_type": "markdown",
   "metadata": {},
   "source": [
    "## Plot Confusion Matrix for nsfw Classification"
   ]
  },
  {
   "cell_type": "code",
   "execution_count": 37,
   "metadata": {},
   "outputs": [
    {
     "name": "stdout",
     "output_type": "stream",
     "text": [
      "Normalized confusion matrix\n"
     ]
    },
    {
     "data": {
      "image/png": "[encoded data removed]",
      "text/plain": [
       "<matplotlib.figure.Figure at 0x7fc40711fd68>"
      ]
     },
     "metadata": {},
     "output_type": "display_data"
    }
   ],
   "source": [
    "classes = ['sfw', 'nsfw']\n",
    "\n",
    "conf = confusion_matrix(data.y_val_2, y_val_pred)\n",
    "plot_confusion_matrix(conf, classes=classes, normalize = True)"
   ]
  },
  {
   "cell_type": "code",
   "execution_count": null,
   "metadata": {
    "collapsed": true
   },
   "outputs": [],
   "source": []
  }
 ],
 "metadata": {
  "kernelspec": {
   "display_name": "Python 3",
   "language": "python",
   "name": "python3"
  },
  "language_info": {
   "codemirror_mode": {
    "name": "ipython",
    "version": 3
   },
   "file_extension": ".py",
   "mimetype": "text/x-python",
   "name": "python",
   "nbconvert_exporter": "python",
   "pygments_lexer": "ipython3",
   "version": "3.6.1"
  }
 },
 "nbformat": 4,
 "nbformat_minor": 2
}
