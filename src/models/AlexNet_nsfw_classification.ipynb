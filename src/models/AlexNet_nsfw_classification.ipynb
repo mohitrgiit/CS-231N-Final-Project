{
 "cells": [
  {
   "cell_type": "markdown",
   "metadata": {},
   "source": [
    "Author: Tyler Chase\n",
    "\n",
    "Date: 2017/05/18"
   ]
  },
  {
   "cell_type": "markdown",
   "metadata": {},
   "source": [
    "# Model NSFW Classification\n",
    "\n",
    "This code uses an AlexNet model to classify an image as not safe for work (nsfw) or safe for work (sfw). "
   ]
  },
  {
   "cell_type": "markdown",
   "metadata": {},
   "source": [
    "## Load Datasets"
   ]
  },
  {
   "cell_type": "code",
   "execution_count": 6,
   "metadata": {
    "collapsed": false
   },
   "outputs": [
    {
     "name": "stdout",
     "output_type": "stream",
     "text": [
      "The autoreload extension is already loaded. To reload it, use:\n",
      "  %reload_ext autoreload\n"
     ]
    }
   ],
   "source": [
    "import tensorflow as tf\n",
    "import numpy as np\n",
    "import math\n",
    "import timeit\n",
    "import random\n",
    "import pickle\n",
    "import matplotlib.pyplot as plt\n",
    "import itertools\n",
    "from sklearn.metrics import confusion_matrix\n",
    "from util import import_dataset, sample_data, plot_confusion_matrix\n",
    "from model import Model, lazy_property\n",
    "from config import ModelConfig, TrainConfig\n",
    "from data_stats import DataStats\n",
    "import hyperopt as hpropt\n",
    "%matplotlib inline\n",
    "\n",
    "# Set default to auto import packages\n",
    "%load_ext autoreload\n",
    "%autoreload 2"
   ]
  },
  {
   "cell_type": "code",
   "execution_count": 2,
   "metadata": {
    "collapsed": false
   },
   "outputs": [
    {
     "name": "stdout",
     "output_type": "stream",
     "text": [
      "Train data shape:  (25450, 128, 128, 3)\n",
      "Train subreddit labels shape:  (25450,)\n",
      "Train nsfw labels shape:  (25450,)\n",
      "Validation data shape:  (3181, 128, 128, 3)\n",
      "Validation subreddit labels shape:  (3181,)\n",
      "Validation nsfw labels shape:  (3181,)\n",
      "Test data shape:  (3182, 128, 128, 3)\n",
      "Test subreddit labels shape:  (3182,)\n",
      "Test nsfw labels shape:  (3182,)\n"
     ]
    }
   ],
   "source": [
    "# Form training, developement, and testing data sets\n",
    "address = r'/home/tylerchase/CS-231N-Final-Project/data/fullData//'\n",
    "address = r'../../data/fullData//'\n",
    "file_names = {}\n",
    "file_names['images'] = 'full_data.npy'\n",
    "file_names['subs'] = 'full_subredditlabels'\n",
    "file_names['dict'] = 'full_subredditIndex'\n",
    "file_names['nsfw'] = 'full_nsfwlabels'\n",
    "data, dictionary = import_dataset(address, file_names)\n",
    "\n",
    "# Print the sizes as a sanity check\n",
    "print('Train data shape: ', data.X_train.shape)\n",
    "print('Train subreddit labels shape: ', data.y_train.shape)\n",
    "print('Train nsfw labels shape: ', data.y_train_2.shape)\n",
    "print('Validation data shape: ', data.X_val.shape)\n",
    "print('Validation subreddit labels shape: ', data.y_val.shape)\n",
    "print('Validation nsfw labels shape: ', data.y_val_2.shape)\n",
    "print('Test data shape: ', data.X_test.shape)\n",
    "print('Test subreddit labels shape: ', data.y_test.shape)\n",
    "print('Test nsfw labels shape: ', data.y_test_2.shape)"
   ]
  },
  {
   "cell_type": "markdown",
   "metadata": {},
   "source": [
    "## Determine Subreddit Statistics of Data"
   ]
  },
  {
   "cell_type": "code",
   "execution_count": null,
   "metadata": {
    "collapsed": false
   },
   "outputs": [],
   "source": [
    "data_stats = DataStats(data, dictionary)\n",
    "data_stats.sub_stats(dataSet = 'train')"
   ]
  },
  {
   "cell_type": "code",
   "execution_count": null,
   "metadata": {
    "collapsed": false
   },
   "outputs": [],
   "source": [
    "data_stats.sub_stats(dataSet = 'val')"
   ]
  },
  {
   "cell_type": "markdown",
   "metadata": {},
   "source": [
    "## Determine NSFW Statistics of Data"
   ]
  },
  {
   "cell_type": "code",
   "execution_count": null,
   "metadata": {
    "collapsed": false
   },
   "outputs": [],
   "source": [
    "data_stats.nsfw_stats(dataSet = 'train')"
   ]
  },
  {
   "cell_type": "code",
   "execution_count": null,
   "metadata": {
    "collapsed": false
   },
   "outputs": [],
   "source": [
    "data_stats.nsfw_stats(dataSet = 'val')"
   ]
  },
  {
   "cell_type": "markdown",
   "metadata": {},
   "source": [
    "## Determine NSFW Images Per Subreddit"
   ]
  },
  {
   "cell_type": "code",
   "execution_count": null,
   "metadata": {
    "collapsed": false
   },
   "outputs": [],
   "source": [
    "data_stats.subreddit_nsfw_stats(dataSet = 'train')"
   ]
  },
  {
   "cell_type": "code",
   "execution_count": null,
   "metadata": {
    "collapsed": false
   },
   "outputs": [],
   "source": [
    "data_stats.subreddit_nsfw_stats(dataSet = 'val')"
   ]
  },
  {
   "cell_type": "markdown",
   "metadata": {},
   "source": [
    "## Optional Cell to take particular Subreddits from Dataset\n",
    "\n",
    "Since safe for work SFW content takes up approximately 90% of the data here we balance the data by only considering 4 subreddits that are pictures of people. r/gonewild and r/ladybonersgw both contain mostly nsfw content and are women and men respectively. r/prettygirls and r/ladyboners both contain mostly sfw content and are women and men respectively.   "
   ]
  },
  {
   "cell_type": "code",
   "execution_count": null,
   "metadata": {
    "collapsed": false
   },
   "outputs": [],
   "source": [
    "subreddits = ['gonewild', 'ladybonersgw', 'PrettyGirls', 'LadyBoners']\n",
    "dictionary_2 = sample_data(subreddits, data, dictionary)"
   ]
  },
  {
   "cell_type": "markdown",
   "metadata": {},
   "source": [
    "## Check the Subreddit Statistics of the Data Subset"
   ]
  },
  {
   "cell_type": "code",
   "execution_count": null,
   "metadata": {
    "collapsed": false
   },
   "outputs": [],
   "source": [
    "data_stats = DataStats(data, dictionary_2)\n",
    "data_stats.sub_stats(dataSet = 'train')"
   ]
  },
  {
   "cell_type": "code",
   "execution_count": null,
   "metadata": {
    "collapsed": false
   },
   "outputs": [],
   "source": [
    "data_stats.sub_stats(dataSet = 'val')"
   ]
  },
  {
   "cell_type": "markdown",
   "metadata": {},
   "source": [
    "## Check the NSF Statistics"
   ]
  },
  {
   "cell_type": "code",
   "execution_count": null,
   "metadata": {
    "collapsed": false
   },
   "outputs": [],
   "source": [
    "data_stats.nsfw_stats(dataSet = 'train')"
   ]
  },
  {
   "cell_type": "code",
   "execution_count": null,
   "metadata": {
    "collapsed": false
   },
   "outputs": [],
   "source": [
    "data_stats.nsfw_stats(dataSet = 'val')"
   ]
  },
  {
   "cell_type": "markdown",
   "metadata": {},
   "source": [
    "## Determine NSFW Images Per Subreddit"
   ]
  },
  {
   "cell_type": "code",
   "execution_count": null,
   "metadata": {
    "collapsed": false
   },
   "outputs": [],
   "source": [
    "data_stats.subreddit_nsfw_stats(dataSet = 'train')"
   ]
  },
  {
   "cell_type": "code",
   "execution_count": null,
   "metadata": {
    "collapsed": false
   },
   "outputs": [],
   "source": [
    "data_stats.subreddit_nsfw_stats(dataSet = 'val')"
   ]
  },
  {
   "cell_type": "markdown",
   "metadata": {},
   "source": [
    "## Define AlexNet model \n",
    "\n",
    "* 11x11 convolutional layer with 96 filters and a stride of 4\n",
    "* ReLU activation\n",
    "* 3x3 max pooling with a stride of 2\n",
    "* batch normalization\n",
    "\n",
    "\n",
    "* 5x5 convolutional layer with 256 filters and a stride of 1\n",
    "* ReLU activation\n",
    "* 3x3 max pooling with a stride of 2\n",
    "* batch normalization\n",
    "\n",
    "\n",
    "* 3x3 convolutional layer with 384 filters and a stride of 1\n",
    "* ReLU activation\n",
    "* 3x3 convolutional layer with 384 filters and a stride of 1\n",
    "* ReLU activation \n",
    "* 3x3 convolutional layer with 256 filters and a stride of 1\n",
    "* ReLU activation\n",
    "* 3x3 max pooling with a stride of 2\n",
    "\n",
    "\n",
    "* affine layer from 4096 to 4096\n",
    "* ReLU activation\n",
    "* affine layer from 4096 to 4096\n",
    "* ReLU activation\n",
    "* affine layer from 4096 to 2"
   ]
  },
  {
   "cell_type": "code",
   "execution_count": 3,
   "metadata": {
    "collapsed": true
   },
   "outputs": [],
   "source": [
    "class AlexNet(Model):\n",
    "    \n",
    "    def __init__(self, model_config):\n",
    "        Model.__init__(self, model_config)\n",
    "  \n",
    "    @lazy_property\n",
    "    def prediction(self):\n",
    "        # define our graph (e.g. AlexNet)\n",
    "        \n",
    "        a1 = tf.layers.conv2d(self.X_placeholder, filters=96, kernel_size=(11,11), strides=(4,4), padding='SAME') \n",
    "        h1 = tf.nn.relu(a1)\n",
    "        mp1 = tf.layers.max_pooling2d(h1, pool_size=(3,3), strides=(2,2), padding='SAME')    \n",
    "        bn1 = tf.layers.batch_normalization(mp1, training=self.is_training_placeholder)\n",
    "        \n",
    "        a2 = tf.layers.conv2d(bn1, filters=256, kernel_size=(5,5), strides=(1,1), padding='SAME')     \n",
    "        h2 = tf.nn.relu(a2)\n",
    "        mp2 = tf.layers.max_pooling2d(h2, pool_size=(3,3), strides=(2,2), padding='SAME')    \n",
    "        bn2 = tf.layers.batch_normalization(mp2, training=self.is_training_placeholder)              \n",
    "    \n",
    "        a3 = tf.layers.conv2d(bn2, filters=384, kernel_size=(3,3), strides=(1,1), padding='SAME')    \n",
    "        h3 = tf.nn.relu(a3)\n",
    "        a4 = tf.layers.conv2d(h3, filters=384, kernel_size=(3,3), strides=(1,1), padding='SAME')   \n",
    "        h4 = tf.nn.relu(a4)\n",
    "        a5 = tf.layers.conv2d(h4, filters=256, kernel_size=(3,3), strides=(1,1), padding='SAME')    \n",
    "        h5 = tf.nn.relu(a5)\n",
    "        mp3 = tf.layers.max_pooling2d(h5, pool_size=(3,3), strides=(2,2), padding='SAME')  \n",
    "    \n",
    "        mp_flat = tf.reshape(mp3,[-1,4096])\n",
    "        aff1 = tf.layers.dense(mp_flat, 2048)\n",
    "        h6 = tf.nn.relu(aff1)\n",
    "        aff2 = tf.layers.dense(h6, 2048)\n",
    "        h7 = tf.nn.relu(aff2)\n",
    "        y_out = tf.layers.dense(h7, self.config.nsfw_class_size)\n",
    "    \n",
    "        return y_out     "
   ]
  },
  {
   "cell_type": "markdown",
   "metadata": {},
   "source": [
    "## Optional Cell to Train the Model with Specific Hyperparameters"
   ]
  },
  {
   "cell_type": "code",
   "execution_count": null,
   "metadata": {
    "collapsed": false
   },
   "outputs": [],
   "source": [
    "# Create model instance\n",
    "tf.reset_default_graph()\n",
    "\n",
    "model_config = ModelConfig(learning_rate=0.003, output = 'nsfw')\n",
    "train_config = TrainConfig(num_epochs=20, train_batch_size=100, print_every=100, lr_decay=0.98,\\\n",
    "    saver_address=r'../../subreddit_classification_parameters/', \\\n",
    "    save_file_name = 'AlexNet_nsfw_classification')\n",
    "model = AlexNet(model_config)\n",
    "\n",
    "# Create session\n",
    "session = tf.Session()\n",
    "model.train(data, session, train_config)"
   ]
  },
  {
   "cell_type": "markdown",
   "metadata": {},
   "source": [
    "## Return Loss and Accuracy History"
   ]
  },
  {
   "cell_type": "code",
   "execution_count": null,
   "metadata": {
    "collapsed": false
   },
   "outputs": [],
   "source": [
    "# Plot Loss and Accuracy\n",
    "model.plot_loss_acc(data, save_address = '../../AlexNet_plots//', save_name = 'nsfw_history', \\\n",
    "    title_font = 20, tick_font = 20, legend_font = 15, axis_font = 20)"
   ]
  },
  {
   "cell_type": "markdown",
   "metadata": {},
   "source": [
    "## Optional Cell for Hyperparameter Search over a Range of Hyperparameter Values"
   ]
  },
  {
   "cell_type": "code",
   "execution_count": 10,
   "metadata": {
    "collapsed": true
   },
   "outputs": [],
   "source": [
    "model_config = ModelConfig(learning_rate=0.003, output = 'nsfw')\n",
    "\n",
    "train_config = TrainConfig(num_epochs=8, \n",
    "                    train_batch_size=100, \n",
    "                    print_every=1000)\n",
    "modelHP = AlexNet(model_config)\n",
    "session = tf.Session()\n",
    "\n",
    "def objective(args):\n",
    "\n",
    "    tf.reset_default_graph()\n",
    "    modelHP = AlexNet(model_config)\n",
    "    session = tf.Session()\n",
    "    \n",
    "    #train_config.num_epochs = args['Nepochs']\n",
    "    train_config.lr_decay = args['decayRate']\n",
    "    modelHP.config.learning_rate = args['learningRate']\n",
    "    #modelHP.config.sbrd_weight = args['costWeight']\n",
    "    \n",
    "    modelHP.train(data, session, train_config)\n",
    "    cost, accuracy = modelHP.eval(data, session, \"val\")\n",
    "    \n",
    "    saveList = {\n",
    "        'accuracy_nsfw' : accuracy,\n",
    "        'cost' : cost,\n",
    "        #'Nepochs' : args['Nepochs'],\n",
    "        'learningRate' : args['learningRate'],\n",
    "        'decayRate' : args['decayRate']\n",
    "        #'costWeight' : args['costWeight']\n",
    "    }    \n",
    "    pickle.dump(saveList, open(\"../../hprOpt_AlexNetNSFW/hprPrmOpt_\" + str(accuracy) + \"_\" + str(cost) + \".dat\", \"wb\"))\n",
    "    \n",
    "    return cost\n",
    "\n",
    "def optimize():\n",
    "    \n",
    "    space = {\n",
    "        #'Nepochs' : hpropt.hp.randint('Nepochs', 70),\n",
    "        'learningRate' : hpropt.hp.loguniform('learningRate', -8.1, -3.5),\n",
    "        'decayRate' : hpropt.hp.uniform('decayRate', 0.95, 1)\n",
    "        #'costWeight' : hpropt.hp.uniform('costWeight', 0.5, 1)\n",
    "    }\n",
    "    \n",
    "    best = hpropt.fmin(objective, space, algo=hpropt.tpe.suggest, max_evals=100)\n",
    "    print(best)\n",
    "    \n",
    "    return best"
   ]
  },
  {
   "cell_type": "code",
   "execution_count": 11,
   "metadata": {
    "collapsed": false
   },
   "outputs": [
    {
     "name": "stdout",
     "output_type": "stream",
     "text": [
      "---------------------------------------------------------\n",
      "Epoch 1 training finished in 48.780055 seconds\n",
      "train accuracy:91.5%\n",
      "val accuracy:92.0%\n",
      "Epoch 1 evaluation finished in 28.645277 seconds\n",
      "---------------------------------------------------------\n",
      "Epoch 2 training finished in 44.519431 seconds\n",
      "train accuracy:91.5%\n",
      "val accuracy:92.0%\n",
      "Epoch 2 evaluation finished in 14.988177 seconds\n",
      "---------------------------------------------------------\n",
      "Epoch 3 training finished in 44.558633 seconds\n",
      "train accuracy:91.5%\n",
      "val accuracy:92.0%\n",
      "Epoch 3 evaluation finished in 15.690653 seconds\n",
      "---------------------------------------------------------\n",
      "Epoch 4 training finished in 44.407772 seconds\n",
      "train accuracy:91.5%\n",
      "val accuracy:92.0%\n",
      "Epoch 4 evaluation finished in 15.318265 seconds\n",
      "---------------------------------------------------------\n",
      "Epoch 5 training finished in 44.446683 seconds\n",
      "train accuracy:91.5%\n",
      "val accuracy:92.0%\n",
      "Epoch 5 evaluation finished in 15.585217 seconds\n",
      "---------------------------------------------------------\n",
      "Epoch 6 training finished in 44.547638 seconds\n",
      "train accuracy:91.5%\n",
      "val accuracy:92.0%\n",
      "Epoch 6 evaluation finished in 15.258610 seconds\n",
      "---------------------------------------------------------\n",
      "Epoch 7 training finished in 43.807574 seconds\n",
      "train accuracy:91.5%\n",
      "val accuracy:92.0%\n",
      "Epoch 7 evaluation finished in 14.760878 seconds\n",
      "---------------------------------------------------------\n",
      "Epoch 8 training finished in 43.723373 seconds\n",
      "train accuracy:91.5%\n",
      "val accuracy:92.0%\n",
      "Epoch 8 evaluation finished in 14.661632 seconds\n",
      "val accuracy:92.0%\n",
      "---------------------------------------------------------\n",
      "Epoch 1 training finished in 43.942679 seconds\n",
      "train accuracy:91.5%\n",
      "val accuracy:92.0%\n",
      "Epoch 1 evaluation finished in 14.756492 seconds\n",
      "---------------------------------------------------------\n",
      "Epoch 2 training finished in 43.808625 seconds\n",
      "train accuracy:91.5%\n",
      "val accuracy:92.0%\n",
      "Epoch 2 evaluation finished in 14.701658 seconds\n",
      "---------------------------------------------------------\n",
      "Epoch 3 training finished in 43.750285 seconds\n",
      "train accuracy:91.5%\n",
      "val accuracy:92.0%\n",
      "Epoch 3 evaluation finished in 14.612080 seconds\n",
      "---------------------------------------------------------\n",
      "Epoch 4 training finished in 43.654188 seconds\n",
      "train accuracy:91.5%\n",
      "val accuracy:92.0%\n",
      "Epoch 4 evaluation finished in 14.489795 seconds\n",
      "---------------------------------------------------------\n",
      "Epoch 5 training finished in 43.681366 seconds\n",
      "train accuracy:91.5%\n",
      "val accuracy:92.0%\n",
      "Epoch 5 evaluation finished in 14.699286 seconds\n",
      "---------------------------------------------------------\n",
      "Epoch 6 training finished in 43.724858 seconds\n",
      "train accuracy:91.5%\n",
      "val accuracy:92.0%\n",
      "Epoch 6 evaluation finished in 14.606519 seconds\n",
      "---------------------------------------------------------\n",
      "Epoch 7 training finished in 43.688033 seconds\n",
      "train accuracy:91.5%\n",
      "val accuracy:92.0%\n",
      "Epoch 7 evaluation finished in 14.716043 seconds\n",
      "---------------------------------------------------------\n",
      "Epoch 8 training finished in 43.706359 seconds\n",
      "train accuracy:91.5%\n",
      "val accuracy:92.0%\n",
      "Epoch 8 evaluation finished in 14.515812 seconds\n",
      "val accuracy:92.0%\n",
      "---------------------------------------------------------\n",
      "Epoch 1 training finished in 45.161799 seconds\n",
      "train accuracy:92.8%\n",
      "val accuracy:93.2%\n",
      "Epoch 1 evaluation finished in 14.819414 seconds\n",
      "---------------------------------------------------------\n",
      "Epoch 2 training finished in 45.088482 seconds\n",
      "train accuracy:94.0%\n",
      "val accuracy:94.1%\n",
      "Epoch 2 evaluation finished in 14.764534 seconds\n",
      "---------------------------------------------------------\n",
      "Epoch 3 training finished in 45.051468 seconds\n",
      "train accuracy:93.3%\n",
      "val accuracy:92.6%\n",
      "Epoch 3 evaluation finished in 14.529709 seconds\n",
      "---------------------------------------------------------\n",
      "Epoch 4 training finished in 45.114170 seconds\n",
      "train accuracy:89.2%\n",
      "val accuracy:88.5%\n",
      "Epoch 4 evaluation finished in 14.728015 seconds\n",
      "---------------------------------------------------------\n",
      "Epoch 5 training finished in 45.152568 seconds\n",
      "train accuracy:86.8%\n",
      "val accuracy:86.7%\n",
      "Epoch 5 evaluation finished in 14.702064 seconds\n",
      "---------------------------------------------------------\n",
      "Epoch 6 training finished in 45.098643 seconds\n",
      "train accuracy:91.6%\n",
      "val accuracy:90.4%\n",
      "Epoch 6 evaluation finished in 14.752908 seconds\n",
      "---------------------------------------------------------\n",
      "Epoch 7 training finished in 45.200088 seconds\n",
      "train accuracy:93.1%\n",
      "val accuracy:91.8%\n",
      "Epoch 7 evaluation finished in 14.784946 seconds\n",
      "---------------------------------------------------------\n",
      "Epoch 8 training finished in 45.051667 seconds\n",
      "train accuracy:88.1%\n",
      "val accuracy:85.6%\n",
      "Epoch 8 evaluation finished in 14.748654 seconds\n",
      "val accuracy:85.6%\n",
      "---------------------------------------------------------\n",
      "Epoch 1 training finished in 44.286814 seconds\n",
      "train accuracy:91.5%\n",
      "val accuracy:92.0%\n",
      "Epoch 1 evaluation finished in 14.775720 seconds\n",
      "---------------------------------------------------------\n",
      "Epoch 2 training finished in 43.888593 seconds\n",
      "train accuracy:91.5%\n",
      "val accuracy:92.0%\n",
      "Epoch 2 evaluation finished in 14.712845 seconds\n",
      "---------------------------------------------------------\n",
      "Epoch 3 training finished in 43.933577 seconds\n",
      "train accuracy:91.5%\n",
      "val accuracy:92.0%\n",
      "Epoch 3 evaluation finished in 14.804442 seconds\n",
      "---------------------------------------------------------\n",
      "Epoch 4 training finished in 43.916978 seconds\n",
      "train accuracy:91.5%\n",
      "val accuracy:92.0%\n",
      "Epoch 4 evaluation finished in 14.719238 seconds\n",
      "---------------------------------------------------------\n",
      "Epoch 5 training finished in 43.863910 seconds\n",
      "train accuracy:91.5%\n",
      "val accuracy:92.0%\n",
      "Epoch 5 evaluation finished in 14.714848 seconds\n",
      "---------------------------------------------------------\n",
      "Epoch 6 training finished in 43.882160 seconds\n",
      "train accuracy:91.5%\n",
      "val accuracy:92.0%\n",
      "Epoch 6 evaluation finished in 14.629518 seconds\n",
      "---------------------------------------------------------\n",
      "Epoch 7 training finished in 43.845103 seconds\n",
      "train accuracy:91.5%\n",
      "val accuracy:92.0%\n",
      "Epoch 7 evaluation finished in 14.731416 seconds\n",
      "---------------------------------------------------------\n",
      "Epoch 8 training finished in 43.820209 seconds\n",
      "train accuracy:91.5%\n",
      "val accuracy:92.0%\n",
      "Epoch 8 evaluation finished in 14.778944 seconds\n",
      "val accuracy:92.0%\n",
      "---------------------------------------------------------\n",
      "Epoch 1 training finished in 43.907195 seconds\n",
      "train accuracy:91.5%\n",
      "val accuracy:92.0%\n",
      "Epoch 1 evaluation finished in 14.705370 seconds\n",
      "---------------------------------------------------------\n",
      "Epoch 2 training finished in 43.758322 seconds\n",
      "train accuracy:91.5%\n",
      "val accuracy:92.0%\n",
      "Epoch 2 evaluation finished in 14.826128 seconds\n",
      "---------------------------------------------------------\n",
      "Epoch 3 training finished in 43.800919 seconds\n",
      "train accuracy:91.5%\n",
      "val accuracy:92.0%\n",
      "Epoch 3 evaluation finished in 14.696255 seconds\n",
      "---------------------------------------------------------\n",
      "Epoch 4 training finished in 43.743812 seconds\n",
      "train accuracy:91.5%\n",
      "val accuracy:92.0%\n",
      "Epoch 4 evaluation finished in 14.661893 seconds\n",
      "---------------------------------------------------------\n",
      "Epoch 5 training finished in 43.742203 seconds\n",
      "train accuracy:91.5%\n",
      "val accuracy:92.0%\n",
      "Epoch 5 evaluation finished in 14.751507 seconds\n",
      "---------------------------------------------------------\n",
      "Epoch 6 training finished in 43.706113 seconds\n",
      "train accuracy:91.5%\n",
      "val accuracy:92.0%\n",
      "Epoch 6 evaluation finished in 14.836601 seconds\n",
      "---------------------------------------------------------\n",
      "Epoch 7 training finished in 43.728900 seconds\n",
      "train accuracy:91.5%\n",
      "val accuracy:92.0%\n",
      "Epoch 7 evaluation finished in 14.656261 seconds\n",
      "---------------------------------------------------------\n",
      "Epoch 8 training finished in 43.744250 seconds\n",
      "train accuracy:91.5%\n",
      "val accuracy:92.0%\n",
      "Epoch 8 evaluation finished in 14.653411 seconds\n",
      "val accuracy:92.0%\n",
      "---------------------------------------------------------\n",
      "Epoch 1 training finished in 43.823466 seconds\n",
      "train accuracy:91.5%\n",
      "val accuracy:92.0%\n",
      "Epoch 1 evaluation finished in 14.734266 seconds\n",
      "---------------------------------------------------------\n",
      "Epoch 2 training finished in 43.551203 seconds\n",
      "train accuracy:91.5%\n",
      "val accuracy:92.0%\n",
      "Epoch 2 evaluation finished in 14.724328 seconds\n",
      "---------------------------------------------------------\n",
      "Epoch 3 training finished in 43.822141 seconds\n",
      "train accuracy:91.5%\n",
      "val accuracy:92.0%\n",
      "Epoch 3 evaluation finished in 14.687447 seconds\n",
      "---------------------------------------------------------\n",
      "Epoch 4 training finished in 43.785903 seconds\n",
      "train accuracy:91.5%\n",
      "val accuracy:92.0%\n",
      "Epoch 4 evaluation finished in 14.744670 seconds\n",
      "---------------------------------------------------------\n",
      "Epoch 5 training finished in 43.702904 seconds\n",
      "train accuracy:91.5%\n",
      "val accuracy:92.0%\n",
      "Epoch 5 evaluation finished in 14.638924 seconds\n",
      "---------------------------------------------------------\n",
      "Epoch 6 training finished in 43.761572 seconds\n",
      "train accuracy:91.5%\n",
      "val accuracy:92.0%\n",
      "Epoch 6 evaluation finished in 14.741827 seconds\n",
      "---------------------------------------------------------\n",
      "Epoch 7 training finished in 43.679543 seconds\n",
      "train accuracy:91.5%\n",
      "val accuracy:92.0%\n",
      "Epoch 7 evaluation finished in 14.721437 seconds\n",
      "---------------------------------------------------------\n",
      "Epoch 8 training finished in 43.807101 seconds\n",
      "train accuracy:91.5%\n",
      "val accuracy:92.0%\n",
      "Epoch 8 evaluation finished in 14.643551 seconds\n",
      "val accuracy:92.0%\n",
      "---------------------------------------------------------\n",
      "Epoch 1 training finished in 43.932972 seconds\n",
      "train accuracy:91.5%\n",
      "val accuracy:92.0%\n",
      "Epoch 1 evaluation finished in 14.758199 seconds\n",
      "---------------------------------------------------------\n",
      "Epoch 2 training finished in 43.835550 seconds\n",
      "train accuracy:91.5%\n",
      "val accuracy:92.0%\n",
      "Epoch 2 evaluation finished in 14.865436 seconds\n",
      "---------------------------------------------------------\n",
      "Epoch 3 training finished in 43.760827 seconds\n",
      "train accuracy:91.5%\n",
      "val accuracy:92.0%\n",
      "Epoch 3 evaluation finished in 14.653875 seconds\n",
      "---------------------------------------------------------\n",
      "Epoch 4 training finished in 43.747282 seconds\n",
      "train accuracy:91.5%\n",
      "val accuracy:92.0%\n",
      "Epoch 4 evaluation finished in 14.829431 seconds\n",
      "---------------------------------------------------------\n",
      "Epoch 5 training finished in 43.719764 seconds\n",
      "train accuracy:91.5%\n",
      "val accuracy:92.0%\n",
      "Epoch 5 evaluation finished in 14.640902 seconds\n",
      "---------------------------------------------------------\n",
      "Epoch 6 training finished in 43.812864 seconds\n",
      "train accuracy:91.5%\n",
      "val accuracy:92.0%\n",
      "Epoch 6 evaluation finished in 14.828609 seconds\n",
      "---------------------------------------------------------\n",
      "Epoch 7 training finished in 43.833063 seconds\n",
      "train accuracy:91.5%\n",
      "val accuracy:92.0%\n",
      "Epoch 7 evaluation finished in 14.661394 seconds\n",
      "---------------------------------------------------------\n",
      "Epoch 8 training finished in 43.805011 seconds\n",
      "train accuracy:91.5%\n",
      "val accuracy:92.0%\n",
      "Epoch 8 evaluation finished in 14.575415 seconds\n",
      "val accuracy:92.0%\n",
      "---------------------------------------------------------\n",
      "Epoch 1 training finished in 44.148207 seconds\n",
      "train accuracy:91.5%\n",
      "val accuracy:92.0%\n",
      "Epoch 1 evaluation finished in 14.750212 seconds\n",
      "---------------------------------------------------------\n",
      "Epoch 2 training finished in 43.916425 seconds\n",
      "train accuracy:91.5%\n",
      "val accuracy:92.0%\n",
      "Epoch 2 evaluation finished in 14.751855 seconds\n",
      "---------------------------------------------------------\n",
      "Epoch 3 training finished in 43.885644 seconds\n",
      "train accuracy:91.5%\n",
      "val accuracy:92.0%\n",
      "Epoch 3 evaluation finished in 14.766183 seconds\n",
      "---------------------------------------------------------\n",
      "Epoch 4 training finished in 43.820804 seconds\n",
      "train accuracy:91.5%\n",
      "val accuracy:92.0%\n",
      "Epoch 4 evaluation finished in 14.649847 seconds\n",
      "---------------------------------------------------------\n",
      "Epoch 5 training finished in 43.906695 seconds\n",
      "train accuracy:91.5%\n",
      "val accuracy:92.0%\n",
      "Epoch 5 evaluation finished in 14.781804 seconds\n",
      "---------------------------------------------------------\n",
      "Epoch 6 training finished in 43.841164 seconds\n",
      "train accuracy:91.5%\n",
      "val accuracy:92.0%\n",
      "Epoch 6 evaluation finished in 14.757928 seconds\n",
      "---------------------------------------------------------\n",
      "Epoch 7 training finished in 43.875496 seconds\n",
      "train accuracy:91.5%\n",
      "val accuracy:92.0%\n",
      "Epoch 7 evaluation finished in 14.787285 seconds\n",
      "---------------------------------------------------------\n",
      "Epoch 8 training finished in 43.920041 seconds\n",
      "train accuracy:91.5%\n",
      "val accuracy:92.0%\n",
      "Epoch 8 evaluation finished in 14.757933 seconds\n",
      "val accuracy:92.0%\n",
      "---------------------------------------------------------\n",
      "Epoch 1 training finished in 45.318175 seconds\n",
      "train accuracy:93.7%\n",
      "val accuracy:94.3%\n",
      "Epoch 1 evaluation finished in 14.869102 seconds\n",
      "---------------------------------------------------------\n",
      "Epoch 2 training finished in 45.355192 seconds\n",
      "train accuracy:92.6%\n",
      "val accuracy:92.8%\n",
      "Epoch 2 evaluation finished in 14.861182 seconds\n",
      "---------------------------------------------------------\n",
      "Epoch 3 training finished in 45.315021 seconds\n",
      "train accuracy:88.9%\n",
      "val accuracy:88.9%\n",
      "Epoch 3 evaluation finished in 14.651302 seconds\n",
      "---------------------------------------------------------\n",
      "Epoch 4 training finished in 45.323139 seconds\n",
      "train accuracy:88.7%\n",
      "val accuracy:88.1%\n",
      "Epoch 4 evaluation finished in 14.860070 seconds\n",
      "---------------------------------------------------------\n",
      "Epoch 5 training finished in 45.019388 seconds\n",
      "train accuracy:81.7%\n",
      "val accuracy:81.4%\n",
      "Epoch 5 evaluation finished in 14.687735 seconds\n",
      "---------------------------------------------------------\n",
      "Epoch 6 training finished in 45.180912 seconds\n",
      "train accuracy:88.4%\n",
      "val accuracy:88.0%\n",
      "Epoch 6 evaluation finished in 14.722362 seconds\n",
      "---------------------------------------------------------\n",
      "Epoch 7 training finished in 45.140607 seconds\n",
      "train accuracy:93.0%\n",
      "val accuracy:92.0%\n",
      "Epoch 7 evaluation finished in 14.722736 seconds\n",
      "---------------------------------------------------------\n",
      "Epoch 8 training finished in 45.144435 seconds\n",
      "train accuracy:93.4%\n",
      "val accuracy:91.6%\n",
      "Epoch 8 evaluation finished in 14.697140 seconds\n",
      "val accuracy:91.6%\n",
      "---------------------------------------------------------\n",
      "Epoch 1 training finished in 45.123472 seconds\n",
      "train accuracy:92.2%\n",
      "val accuracy:92.5%\n",
      "Epoch 1 evaluation finished in 14.754619 seconds\n",
      "---------------------------------------------------------\n",
      "Epoch 2 training finished in 45.017128 seconds\n",
      "train accuracy:93.0%\n",
      "val accuracy:93.3%\n",
      "Epoch 2 evaluation finished in 14.723534 seconds\n",
      "---------------------------------------------------------\n",
      "Epoch 3 training finished in 45.032374 seconds\n",
      "train accuracy:90.9%\n",
      "val accuracy:90.7%\n",
      "Epoch 3 evaluation finished in 14.720389 seconds\n",
      "---------------------------------------------------------\n",
      "Epoch 4 training finished in 44.993176 seconds\n",
      "train accuracy:93.4%\n",
      "val accuracy:93.1%\n",
      "Epoch 4 evaluation finished in 14.771516 seconds\n",
      "---------------------------------------------------------\n",
      "Epoch 5 training finished in 45.067056 seconds\n",
      "train accuracy:90.9%\n",
      "val accuracy:90.4%\n",
      "Epoch 5 evaluation finished in 14.818513 seconds\n",
      "---------------------------------------------------------\n",
      "Epoch 6 training finished in 45.062094 seconds\n",
      "train accuracy:90.7%\n",
      "val accuracy:90.2%\n",
      "Epoch 6 evaluation finished in 14.758406 seconds\n",
      "---------------------------------------------------------\n",
      "Epoch 7 training finished in 45.095288 seconds\n",
      "train accuracy:88.8%\n",
      "val accuracy:88.3%\n",
      "Epoch 7 evaluation finished in 14.887815 seconds\n",
      "---------------------------------------------------------\n",
      "Epoch 8 training finished in 45.052909 seconds\n",
      "train accuracy:93.3%\n",
      "val accuracy:92.5%\n",
      "Epoch 8 evaluation finished in 14.896019 seconds\n",
      "val accuracy:92.5%\n",
      "---------------------------------------------------------\n",
      "Epoch 1 training finished in 43.939148 seconds\n",
      "train accuracy:91.5%\n",
      "val accuracy:92.0%\n",
      "Epoch 1 evaluation finished in 14.798547 seconds\n",
      "---------------------------------------------------------\n",
      "Epoch 2 training finished in 43.817912 seconds\n",
      "train accuracy:91.5%\n",
      "val accuracy:92.0%\n",
      "Epoch 2 evaluation finished in 14.662860 seconds\n",
      "---------------------------------------------------------\n",
      "Epoch 3 training finished in 43.737347 seconds\n",
      "train accuracy:91.5%\n",
      "val accuracy:92.0%\n",
      "Epoch 3 evaluation finished in 14.593040 seconds\n",
      "---------------------------------------------------------\n",
      "Epoch 4 training finished in 43.737514 seconds\n",
      "train accuracy:91.5%\n",
      "val accuracy:92.0%\n",
      "Epoch 4 evaluation finished in 14.719658 seconds\n",
      "---------------------------------------------------------\n",
      "Epoch 5 training finished in 43.753548 seconds\n",
      "train accuracy:91.5%\n",
      "val accuracy:92.0%\n",
      "Epoch 5 evaluation finished in 14.640891 seconds\n",
      "---------------------------------------------------------\n",
      "Epoch 6 training finished in 43.843131 seconds\n",
      "train accuracy:91.5%\n",
      "val accuracy:92.0%\n",
      "Epoch 6 evaluation finished in 14.730442 seconds\n",
      "---------------------------------------------------------\n",
      "Epoch 7 training finished in 43.717492 seconds\n",
      "train accuracy:91.5%\n",
      "val accuracy:92.0%\n",
      "Epoch 7 evaluation finished in 14.682041 seconds\n",
      "---------------------------------------------------------\n",
      "Epoch 8 training finished in 43.804561 seconds\n",
      "train accuracy:91.5%\n",
      "val accuracy:92.0%\n",
      "Epoch 8 evaluation finished in 14.601686 seconds\n",
      "val accuracy:92.0%\n",
      "---------------------------------------------------------\n",
      "Epoch 1 training finished in 45.104317 seconds\n",
      "train accuracy:91.8%\n",
      "val accuracy:92.2%\n",
      "Epoch 1 evaluation finished in 14.737761 seconds\n",
      "---------------------------------------------------------\n",
      "Epoch 2 training finished in 45.030449 seconds\n",
      "train accuracy:87.6%\n",
      "val accuracy:87.7%\n",
      "Epoch 2 evaluation finished in 14.744364 seconds\n",
      "---------------------------------------------------------\n",
      "Epoch 3 training finished in 45.023814 seconds\n"
     ]
    },
    {
     "ename": "KeyboardInterrupt",
     "evalue": "",
     "output_type": "error",
     "traceback": [
      "\u001b[1;31m---------------------------------------------------------------------------\u001b[0m",
      "\u001b[1;31mKeyboardInterrupt\u001b[0m                         Traceback (most recent call last)",
      "\u001b[1;32m<ipython-input-11-4f576df864ee>\u001b[0m in \u001b[0;36m<module>\u001b[1;34m()\u001b[0m\n\u001b[1;32m----> 1\u001b[1;33m \u001b[0moptimize\u001b[0m\u001b[1;33m(\u001b[0m\u001b[1;33m)\u001b[0m\u001b[1;33m\u001b[0m\u001b[0m\n\u001b[0m",
      "\u001b[1;32m<ipython-input-10-8280dac5cff7>\u001b[0m in \u001b[0;36moptimize\u001b[1;34m()\u001b[0m\n\u001b[0;32m     42\u001b[0m     }\n\u001b[0;32m     43\u001b[0m \u001b[1;33m\u001b[0m\u001b[0m\n\u001b[1;32m---> 44\u001b[1;33m     \u001b[0mbest\u001b[0m \u001b[1;33m=\u001b[0m \u001b[0mhpropt\u001b[0m\u001b[1;33m.\u001b[0m\u001b[0mfmin\u001b[0m\u001b[1;33m(\u001b[0m\u001b[0mobjective\u001b[0m\u001b[1;33m,\u001b[0m \u001b[0mspace\u001b[0m\u001b[1;33m,\u001b[0m \u001b[0malgo\u001b[0m\u001b[1;33m=\u001b[0m\u001b[0mhpropt\u001b[0m\u001b[1;33m.\u001b[0m\u001b[0mtpe\u001b[0m\u001b[1;33m.\u001b[0m\u001b[0msuggest\u001b[0m\u001b[1;33m,\u001b[0m \u001b[0mmax_evals\u001b[0m\u001b[1;33m=\u001b[0m\u001b[1;36m100\u001b[0m\u001b[1;33m)\u001b[0m\u001b[1;33m\u001b[0m\u001b[0m\n\u001b[0m\u001b[0;32m     45\u001b[0m     \u001b[0mprint\u001b[0m\u001b[1;33m(\u001b[0m\u001b[0mbest\u001b[0m\u001b[1;33m)\u001b[0m\u001b[1;33m\u001b[0m\u001b[0m\n\u001b[0;32m     46\u001b[0m \u001b[1;33m\u001b[0m\u001b[0m\n",
      "\u001b[1;32m/home/cs231n/myVE35/lib/python3.5/site-packages/hyperopt/fmin.py\u001b[0m in \u001b[0;36mfmin\u001b[1;34m(fn, space, algo, max_evals, trials, rstate, allow_trials_fmin, pass_expr_memo_ctrl, catch_eval_exceptions, verbose, return_argmin)\u001b[0m\n\u001b[0;32m    318\u001b[0m                     verbose=verbose)\n\u001b[0;32m    319\u001b[0m     \u001b[0mrval\u001b[0m\u001b[1;33m.\u001b[0m\u001b[0mcatch_eval_exceptions\u001b[0m \u001b[1;33m=\u001b[0m \u001b[0mcatch_eval_exceptions\u001b[0m\u001b[1;33m\u001b[0m\u001b[0m\n\u001b[1;32m--> 320\u001b[1;33m     \u001b[0mrval\u001b[0m\u001b[1;33m.\u001b[0m\u001b[0mexhaust\u001b[0m\u001b[1;33m(\u001b[0m\u001b[1;33m)\u001b[0m\u001b[1;33m\u001b[0m\u001b[0m\n\u001b[0m\u001b[0;32m    321\u001b[0m     \u001b[1;32mif\u001b[0m \u001b[0mreturn_argmin\u001b[0m\u001b[1;33m:\u001b[0m\u001b[1;33m\u001b[0m\u001b[0m\n\u001b[0;32m    322\u001b[0m         \u001b[1;32mreturn\u001b[0m \u001b[0mtrials\u001b[0m\u001b[1;33m.\u001b[0m\u001b[0margmin\u001b[0m\u001b[1;33m\u001b[0m\u001b[0m\n",
      "\u001b[1;32m/home/cs231n/myVE35/lib/python3.5/site-packages/hyperopt/fmin.py\u001b[0m in \u001b[0;36mexhaust\u001b[1;34m(self)\u001b[0m\n\u001b[0;32m    197\u001b[0m     \u001b[1;32mdef\u001b[0m \u001b[0mexhaust\u001b[0m\u001b[1;33m(\u001b[0m\u001b[0mself\u001b[0m\u001b[1;33m)\u001b[0m\u001b[1;33m:\u001b[0m\u001b[1;33m\u001b[0m\u001b[0m\n\u001b[0;32m    198\u001b[0m         \u001b[0mn_done\u001b[0m \u001b[1;33m=\u001b[0m \u001b[0mlen\u001b[0m\u001b[1;33m(\u001b[0m\u001b[0mself\u001b[0m\u001b[1;33m.\u001b[0m\u001b[0mtrials\u001b[0m\u001b[1;33m)\u001b[0m\u001b[1;33m\u001b[0m\u001b[0m\n\u001b[1;32m--> 199\u001b[1;33m         \u001b[0mself\u001b[0m\u001b[1;33m.\u001b[0m\u001b[0mrun\u001b[0m\u001b[1;33m(\u001b[0m\u001b[0mself\u001b[0m\u001b[1;33m.\u001b[0m\u001b[0mmax_evals\u001b[0m \u001b[1;33m-\u001b[0m \u001b[0mn_done\u001b[0m\u001b[1;33m,\u001b[0m \u001b[0mblock_until_done\u001b[0m\u001b[1;33m=\u001b[0m\u001b[0mself\u001b[0m\u001b[1;33m.\u001b[0m\u001b[0masync\u001b[0m\u001b[1;33m)\u001b[0m\u001b[1;33m\u001b[0m\u001b[0m\n\u001b[0m\u001b[0;32m    200\u001b[0m         \u001b[0mself\u001b[0m\u001b[1;33m.\u001b[0m\u001b[0mtrials\u001b[0m\u001b[1;33m.\u001b[0m\u001b[0mrefresh\u001b[0m\u001b[1;33m(\u001b[0m\u001b[1;33m)\u001b[0m\u001b[1;33m\u001b[0m\u001b[0m\n\u001b[0;32m    201\u001b[0m         \u001b[1;32mreturn\u001b[0m \u001b[0mself\u001b[0m\u001b[1;33m\u001b[0m\u001b[0m\n",
      "\u001b[1;32m/home/cs231n/myVE35/lib/python3.5/site-packages/hyperopt/fmin.py\u001b[0m in \u001b[0;36mrun\u001b[1;34m(self, N, block_until_done)\u001b[0m\n\u001b[0;32m    171\u001b[0m             \u001b[1;32melse\u001b[0m\u001b[1;33m:\u001b[0m\u001b[1;33m\u001b[0m\u001b[0m\n\u001b[0;32m    172\u001b[0m                 \u001b[1;31m# -- loop over trials and do the jobs directly\u001b[0m\u001b[1;33m\u001b[0m\u001b[1;33m\u001b[0m\u001b[0m\n\u001b[1;32m--> 173\u001b[1;33m                 \u001b[0mself\u001b[0m\u001b[1;33m.\u001b[0m\u001b[0mserial_evaluate\u001b[0m\u001b[1;33m(\u001b[0m\u001b[1;33m)\u001b[0m\u001b[1;33m\u001b[0m\u001b[0m\n\u001b[0m\u001b[0;32m    174\u001b[0m \u001b[1;33m\u001b[0m\u001b[0m\n\u001b[0;32m    175\u001b[0m             \u001b[1;32mif\u001b[0m \u001b[0mstopped\u001b[0m\u001b[1;33m:\u001b[0m\u001b[1;33m\u001b[0m\u001b[0m\n",
      "\u001b[1;32m/home/cs231n/myVE35/lib/python3.5/site-packages/hyperopt/fmin.py\u001b[0m in \u001b[0;36mserial_evaluate\u001b[1;34m(self, N)\u001b[0m\n\u001b[0;32m     90\u001b[0m                 \u001b[0mctrl\u001b[0m \u001b[1;33m=\u001b[0m \u001b[0mbase\u001b[0m\u001b[1;33m.\u001b[0m\u001b[0mCtrl\u001b[0m\u001b[1;33m(\u001b[0m\u001b[0mself\u001b[0m\u001b[1;33m.\u001b[0m\u001b[0mtrials\u001b[0m\u001b[1;33m,\u001b[0m \u001b[0mcurrent_trial\u001b[0m\u001b[1;33m=\u001b[0m\u001b[0mtrial\u001b[0m\u001b[1;33m)\u001b[0m\u001b[1;33m\u001b[0m\u001b[0m\n\u001b[0;32m     91\u001b[0m                 \u001b[1;32mtry\u001b[0m\u001b[1;33m:\u001b[0m\u001b[1;33m\u001b[0m\u001b[0m\n\u001b[1;32m---> 92\u001b[1;33m                     \u001b[0mresult\u001b[0m \u001b[1;33m=\u001b[0m \u001b[0mself\u001b[0m\u001b[1;33m.\u001b[0m\u001b[0mdomain\u001b[0m\u001b[1;33m.\u001b[0m\u001b[0mevaluate\u001b[0m\u001b[1;33m(\u001b[0m\u001b[0mspec\u001b[0m\u001b[1;33m,\u001b[0m \u001b[0mctrl\u001b[0m\u001b[1;33m)\u001b[0m\u001b[1;33m\u001b[0m\u001b[0m\n\u001b[0m\u001b[0;32m     93\u001b[0m                 \u001b[1;32mexcept\u001b[0m \u001b[0mException\u001b[0m \u001b[1;32mas\u001b[0m \u001b[0me\u001b[0m\u001b[1;33m:\u001b[0m\u001b[1;33m\u001b[0m\u001b[0m\n\u001b[0;32m     94\u001b[0m                     \u001b[0mlogger\u001b[0m\u001b[1;33m.\u001b[0m\u001b[0minfo\u001b[0m\u001b[1;33m(\u001b[0m\u001b[1;34m'job exception: %s'\u001b[0m \u001b[1;33m%\u001b[0m \u001b[0mstr\u001b[0m\u001b[1;33m(\u001b[0m\u001b[0me\u001b[0m\u001b[1;33m)\u001b[0m\u001b[1;33m)\u001b[0m\u001b[1;33m\u001b[0m\u001b[0m\n",
      "\u001b[1;32m/home/cs231n/myVE35/lib/python3.5/site-packages/hyperopt/base.py\u001b[0m in \u001b[0;36mevaluate\u001b[1;34m(self, config, ctrl, attach_attachments)\u001b[0m\n\u001b[0;32m    838\u001b[0m                 \u001b[0mmemo\u001b[0m\u001b[1;33m=\u001b[0m\u001b[0mmemo\u001b[0m\u001b[1;33m,\u001b[0m\u001b[1;33m\u001b[0m\u001b[0m\n\u001b[0;32m    839\u001b[0m                 print_node_on_error=self.rec_eval_print_node_on_error)\n\u001b[1;32m--> 840\u001b[1;33m             \u001b[0mrval\u001b[0m \u001b[1;33m=\u001b[0m \u001b[0mself\u001b[0m\u001b[1;33m.\u001b[0m\u001b[0mfn\u001b[0m\u001b[1;33m(\u001b[0m\u001b[0mpyll_rval\u001b[0m\u001b[1;33m)\u001b[0m\u001b[1;33m\u001b[0m\u001b[0m\n\u001b[0m\u001b[0;32m    841\u001b[0m \u001b[1;33m\u001b[0m\u001b[0m\n\u001b[0;32m    842\u001b[0m         \u001b[1;32mif\u001b[0m \u001b[0misinstance\u001b[0m\u001b[1;33m(\u001b[0m\u001b[0mrval\u001b[0m\u001b[1;33m,\u001b[0m \u001b[1;33m(\u001b[0m\u001b[0mfloat\u001b[0m\u001b[1;33m,\u001b[0m \u001b[0mint\u001b[0m\u001b[1;33m,\u001b[0m \u001b[0mnp\u001b[0m\u001b[1;33m.\u001b[0m\u001b[0mnumber\u001b[0m\u001b[1;33m)\u001b[0m\u001b[1;33m)\u001b[0m\u001b[1;33m:\u001b[0m\u001b[1;33m\u001b[0m\u001b[0m\n",
      "\u001b[1;32m<ipython-input-10-8280dac5cff7>\u001b[0m in \u001b[0;36mobjective\u001b[1;34m(args)\u001b[0m\n\u001b[0;32m     18\u001b[0m     \u001b[1;31m#modelHP.config.sbrd_weight = args['costWeight']\u001b[0m\u001b[1;33m\u001b[0m\u001b[1;33m\u001b[0m\u001b[0m\n\u001b[0;32m     19\u001b[0m \u001b[1;33m\u001b[0m\u001b[0m\n\u001b[1;32m---> 20\u001b[1;33m     \u001b[0mmodelHP\u001b[0m\u001b[1;33m.\u001b[0m\u001b[0mtrain\u001b[0m\u001b[1;33m(\u001b[0m\u001b[0mdata\u001b[0m\u001b[1;33m,\u001b[0m \u001b[0msession\u001b[0m\u001b[1;33m,\u001b[0m \u001b[0mtrain_config\u001b[0m\u001b[1;33m)\u001b[0m\u001b[1;33m\u001b[0m\u001b[0m\n\u001b[0m\u001b[0;32m     21\u001b[0m     \u001b[0mcost\u001b[0m\u001b[1;33m,\u001b[0m \u001b[0maccuracy\u001b[0m \u001b[1;33m=\u001b[0m \u001b[0mmodelHP\u001b[0m\u001b[1;33m.\u001b[0m\u001b[0meval\u001b[0m\u001b[1;33m(\u001b[0m\u001b[0mdata\u001b[0m\u001b[1;33m,\u001b[0m \u001b[0msession\u001b[0m\u001b[1;33m,\u001b[0m \u001b[1;34m\"val\"\u001b[0m\u001b[1;33m)\u001b[0m\u001b[1;33m\u001b[0m\u001b[0m\n\u001b[0;32m     22\u001b[0m \u001b[1;33m\u001b[0m\u001b[0m\n",
      "\u001b[1;32m/home/tylerchase/CS-231N-Final-Project/src/models/model.py\u001b[0m in \u001b[0;36mtrain\u001b[1;34m(self, data, session, train_config, resume)\u001b[0m\n\u001b[0;32m    130\u001b[0m             \u001b[0mvariables\u001b[0m \u001b[1;33m=\u001b[0m \u001b[1;33m[\u001b[0m\u001b[0mself\u001b[0m\u001b[1;33m.\u001b[0m\u001b[0mcost\u001b[0m\u001b[1;33m,\u001b[0m \u001b[0mself\u001b[0m\u001b[1;33m.\u001b[0m\u001b[0maccuracy\u001b[0m\u001b[1;33m]\u001b[0m\u001b[1;33m\u001b[0m\u001b[0m\n\u001b[0;32m    131\u001b[0m             \u001b[0mstartTime_eval\u001b[0m \u001b[1;33m=\u001b[0m \u001b[0mtime\u001b[0m\u001b[1;33m.\u001b[0m\u001b[0mclock\u001b[0m\u001b[1;33m(\u001b[0m\u001b[1;33m)\u001b[0m\u001b[1;33m\u001b[0m\u001b[0m\n\u001b[1;32m--> 132\u001b[1;33m             \u001b[0mloss_train\u001b[0m\u001b[1;33m,\u001b[0m \u001b[0macc_train\u001b[0m \u001b[1;33m=\u001b[0m \u001b[0mself\u001b[0m\u001b[1;33m.\u001b[0m\u001b[0meval\u001b[0m\u001b[1;33m(\u001b[0m\u001b[0mdata\u001b[0m\u001b[1;33m,\u001b[0m \u001b[0msession\u001b[0m\u001b[1;33m,\u001b[0m \u001b[1;34m\"train\"\u001b[0m\u001b[1;33m)\u001b[0m\u001b[1;33m\u001b[0m\u001b[0m\n\u001b[0m\u001b[0;32m    133\u001b[0m             \u001b[0mloss_val\u001b[0m\u001b[1;33m,\u001b[0m \u001b[0macc_val\u001b[0m \u001b[1;33m=\u001b[0m \u001b[0mself\u001b[0m\u001b[1;33m.\u001b[0m\u001b[0meval\u001b[0m\u001b[1;33m(\u001b[0m\u001b[0mdata\u001b[0m\u001b[1;33m,\u001b[0m \u001b[0msession\u001b[0m\u001b[1;33m,\u001b[0m \u001b[1;34m\"val\"\u001b[0m\u001b[1;33m)\u001b[0m\u001b[1;33m\u001b[0m\u001b[0m\n\u001b[0;32m    134\u001b[0m             \u001b[0mevaluation_time\u001b[0m \u001b[1;33m=\u001b[0m \u001b[0mtime\u001b[0m\u001b[1;33m.\u001b[0m\u001b[0mclock\u001b[0m\u001b[1;33m(\u001b[0m\u001b[1;33m)\u001b[0m \u001b[1;33m-\u001b[0m \u001b[0mstartTime_eval\u001b[0m\u001b[1;33m\u001b[0m\u001b[0m\n",
      "\u001b[1;32m/home/tylerchase/CS-231N-Final-Project/src/models/model.py\u001b[0m in \u001b[0;36meval\u001b[1;34m(self, data, session, split)\u001b[0m\n\u001b[0;32m    181\u001b[0m             \u001b[0mvariables\u001b[0m \u001b[1;33m=\u001b[0m \u001b[1;33m[\u001b[0m\u001b[0mself\u001b[0m\u001b[1;33m.\u001b[0m\u001b[0mcost\u001b[0m\u001b[1;33m,\u001b[0m \u001b[0mself\u001b[0m\u001b[1;33m.\u001b[0m\u001b[0maccuracy\u001b[0m\u001b[1;33m]\u001b[0m\u001b[1;33m\u001b[0m\u001b[0m\n\u001b[0;32m    182\u001b[0m             cost_i, accuracy_i = session.run(variables, \\\n\u001b[1;32m--> 183\u001b[1;33m                 {self.X_placeholder:batch_X, self.y_placeholder:batch_y, self.is_training_placeholder:False})\n\u001b[0m\u001b[0;32m    184\u001b[0m             \u001b[0mnum_sampled\u001b[0m \u001b[1;33m=\u001b[0m \u001b[0mnp\u001b[0m\u001b[1;33m.\u001b[0m\u001b[0mshape\u001b[0m\u001b[1;33m(\u001b[0m\u001b[0mbatch_X\u001b[0m\u001b[1;33m)\u001b[0m\u001b[1;33m[\u001b[0m\u001b[1;36m0\u001b[0m\u001b[1;33m]\u001b[0m\u001b[1;33m\u001b[0m\u001b[0m\n\u001b[0;32m    185\u001b[0m             \u001b[0mcost\u001b[0m \u001b[1;33m+=\u001b[0m \u001b[0mcost_i\u001b[0m\u001b[1;33m\u001b[0m\u001b[0m\n",
      "\u001b[1;32m/home/cs231n/myVE35/lib/python3.5/site-packages/tensorflow/python/client/session.py\u001b[0m in \u001b[0;36mrun\u001b[1;34m(self, fetches, feed_dict, options, run_metadata)\u001b[0m\n\u001b[0;32m    765\u001b[0m     \u001b[1;32mtry\u001b[0m\u001b[1;33m:\u001b[0m\u001b[1;33m\u001b[0m\u001b[0m\n\u001b[0;32m    766\u001b[0m       result = self._run(None, fetches, feed_dict, options_ptr,\n\u001b[1;32m--> 767\u001b[1;33m                          run_metadata_ptr)\n\u001b[0m\u001b[0;32m    768\u001b[0m       \u001b[1;32mif\u001b[0m \u001b[0mrun_metadata\u001b[0m\u001b[1;33m:\u001b[0m\u001b[1;33m\u001b[0m\u001b[0m\n\u001b[0;32m    769\u001b[0m         \u001b[0mproto_data\u001b[0m \u001b[1;33m=\u001b[0m \u001b[0mtf_session\u001b[0m\u001b[1;33m.\u001b[0m\u001b[0mTF_GetBuffer\u001b[0m\u001b[1;33m(\u001b[0m\u001b[0mrun_metadata_ptr\u001b[0m\u001b[1;33m)\u001b[0m\u001b[1;33m\u001b[0m\u001b[0m\n",
      "\u001b[1;32m/home/cs231n/myVE35/lib/python3.5/site-packages/tensorflow/python/client/session.py\u001b[0m in \u001b[0;36m_run\u001b[1;34m(self, handle, fetches, feed_dict, options, run_metadata)\u001b[0m\n\u001b[0;32m    963\u001b[0m     \u001b[1;32mif\u001b[0m \u001b[0mfinal_fetches\u001b[0m \u001b[1;32mor\u001b[0m \u001b[0mfinal_targets\u001b[0m\u001b[1;33m:\u001b[0m\u001b[1;33m\u001b[0m\u001b[0m\n\u001b[0;32m    964\u001b[0m       results = self._do_run(handle, final_targets, final_fetches,\n\u001b[1;32m--> 965\u001b[1;33m                              feed_dict_string, options, run_metadata)\n\u001b[0m\u001b[0;32m    966\u001b[0m     \u001b[1;32melse\u001b[0m\u001b[1;33m:\u001b[0m\u001b[1;33m\u001b[0m\u001b[0m\n\u001b[0;32m    967\u001b[0m       \u001b[0mresults\u001b[0m \u001b[1;33m=\u001b[0m \u001b[1;33m[\u001b[0m\u001b[1;33m]\u001b[0m\u001b[1;33m\u001b[0m\u001b[0m\n",
      "\u001b[1;32m/home/cs231n/myVE35/lib/python3.5/site-packages/tensorflow/python/client/session.py\u001b[0m in \u001b[0;36m_do_run\u001b[1;34m(self, handle, target_list, fetch_list, feed_dict, options, run_metadata)\u001b[0m\n\u001b[0;32m   1013\u001b[0m     \u001b[1;32mif\u001b[0m \u001b[0mhandle\u001b[0m \u001b[1;32mis\u001b[0m \u001b[1;32mNone\u001b[0m\u001b[1;33m:\u001b[0m\u001b[1;33m\u001b[0m\u001b[0m\n\u001b[0;32m   1014\u001b[0m       return self._do_call(_run_fn, self._session, feed_dict, fetch_list,\n\u001b[1;32m-> 1015\u001b[1;33m                            target_list, options, run_metadata)\n\u001b[0m\u001b[0;32m   1016\u001b[0m     \u001b[1;32melse\u001b[0m\u001b[1;33m:\u001b[0m\u001b[1;33m\u001b[0m\u001b[0m\n\u001b[0;32m   1017\u001b[0m       return self._do_call(_prun_fn, self._session, handle, feed_dict,\n",
      "\u001b[1;32m/home/cs231n/myVE35/lib/python3.5/site-packages/tensorflow/python/client/session.py\u001b[0m in \u001b[0;36m_do_call\u001b[1;34m(self, fn, *args)\u001b[0m\n\u001b[0;32m   1020\u001b[0m   \u001b[1;32mdef\u001b[0m \u001b[0m_do_call\u001b[0m\u001b[1;33m(\u001b[0m\u001b[0mself\u001b[0m\u001b[1;33m,\u001b[0m \u001b[0mfn\u001b[0m\u001b[1;33m,\u001b[0m \u001b[1;33m*\u001b[0m\u001b[0margs\u001b[0m\u001b[1;33m)\u001b[0m\u001b[1;33m:\u001b[0m\u001b[1;33m\u001b[0m\u001b[0m\n\u001b[0;32m   1021\u001b[0m     \u001b[1;32mtry\u001b[0m\u001b[1;33m:\u001b[0m\u001b[1;33m\u001b[0m\u001b[0m\n\u001b[1;32m-> 1022\u001b[1;33m       \u001b[1;32mreturn\u001b[0m \u001b[0mfn\u001b[0m\u001b[1;33m(\u001b[0m\u001b[1;33m*\u001b[0m\u001b[0margs\u001b[0m\u001b[1;33m)\u001b[0m\u001b[1;33m\u001b[0m\u001b[0m\n\u001b[0m\u001b[0;32m   1023\u001b[0m     \u001b[1;32mexcept\u001b[0m \u001b[0merrors\u001b[0m\u001b[1;33m.\u001b[0m\u001b[0mOpError\u001b[0m \u001b[1;32mas\u001b[0m \u001b[0me\u001b[0m\u001b[1;33m:\u001b[0m\u001b[1;33m\u001b[0m\u001b[0m\n\u001b[0;32m   1024\u001b[0m       \u001b[0mmessage\u001b[0m \u001b[1;33m=\u001b[0m \u001b[0mcompat\u001b[0m\u001b[1;33m.\u001b[0m\u001b[0mas_text\u001b[0m\u001b[1;33m(\u001b[0m\u001b[0me\u001b[0m\u001b[1;33m.\u001b[0m\u001b[0mmessage\u001b[0m\u001b[1;33m)\u001b[0m\u001b[1;33m\u001b[0m\u001b[0m\n",
      "\u001b[1;32m/home/cs231n/myVE35/lib/python3.5/site-packages/tensorflow/python/client/session.py\u001b[0m in \u001b[0;36m_run_fn\u001b[1;34m(session, feed_dict, fetch_list, target_list, options, run_metadata)\u001b[0m\n\u001b[0;32m   1002\u001b[0m         return tf_session.TF_Run(session, options,\n\u001b[0;32m   1003\u001b[0m                                  \u001b[0mfeed_dict\u001b[0m\u001b[1;33m,\u001b[0m \u001b[0mfetch_list\u001b[0m\u001b[1;33m,\u001b[0m \u001b[0mtarget_list\u001b[0m\u001b[1;33m,\u001b[0m\u001b[1;33m\u001b[0m\u001b[0m\n\u001b[1;32m-> 1004\u001b[1;33m                                  status, run_metadata)\n\u001b[0m\u001b[0;32m   1005\u001b[0m \u001b[1;33m\u001b[0m\u001b[0m\n\u001b[0;32m   1006\u001b[0m     \u001b[1;32mdef\u001b[0m \u001b[0m_prun_fn\u001b[0m\u001b[1;33m(\u001b[0m\u001b[0msession\u001b[0m\u001b[1;33m,\u001b[0m \u001b[0mhandle\u001b[0m\u001b[1;33m,\u001b[0m \u001b[0mfeed_dict\u001b[0m\u001b[1;33m,\u001b[0m \u001b[0mfetch_list\u001b[0m\u001b[1;33m)\u001b[0m\u001b[1;33m:\u001b[0m\u001b[1;33m\u001b[0m\u001b[0m\n",
      "\u001b[1;31mKeyboardInterrupt\u001b[0m: "
     ]
    }
   ],
   "source": [
    "optimize()"
   ]
  },
  {
   "cell_type": "markdown",
   "metadata": {},
   "source": [
    "## Test Loading the Model"
   ]
  },
  {
   "cell_type": "code",
   "execution_count": null,
   "metadata": {
    "collapsed": true
   },
   "outputs": [],
   "source": [
    "# Reset Graph\n",
    "tf.reset_default_graph()\n",
    "\n",
    "# Create model instance\n",
    "model_config = ModelConfig(learning_rate=0.003, output = 'nsfw')\n",
    "train_config = TrainConfig(num_epochs=2, minibatch_size=100, print_every=100, \\\n",
    "    saver_address=r'../../subreddit_classification_parameters/', \\\n",
    "    save_file_name = 'AlexNet_nsfw_classification')\n",
    "model = AlexNet(model_config)\n",
    "\n",
    "# Load Saved Model\n",
    "session = tf.Session()\n",
    "saver = tf.train.Saver()\n",
    "saver.restore(session, train_config.saver_address + train_config.save_file_name) \n",
    "\n",
    "# Test Model Accuracy\n",
    "loss_train, acc_train = model.eval(data, session, split='train')\n",
    "loss_val, acc_val = model.eval(data, session, split = 'val')\n",
    "\n",
    "print('Training Accuracy {:3.1f}%, Vallidation Accuracy:{:3.1f}%'.format((100*acc_train), (100*acc_val)))"
   ]
  },
  {
   "cell_type": "markdown",
   "metadata": {},
   "source": [
    "## Output Predictions for Vallidation"
   ]
  },
  {
   "cell_type": "code",
   "execution_count": null,
   "metadata": {
    "collapsed": true
   },
   "outputs": [],
   "source": [
    "y_val_pred = session.run(model.prediction, {model.X_placeholder: data.X_val, model.y_placeholder: data.y_val_2, \n",
    "                                            model.is_training_placeholder:False})\n",
    "\n",
    "y_val_pred = np.argmax(y_val_pred, axis = 1)"
   ]
  },
  {
   "cell_type": "markdown",
   "metadata": {},
   "source": [
    "## Plot Confusion Matrix for nsfw Classification"
   ]
  },
  {
   "cell_type": "code",
   "execution_count": null,
   "metadata": {
    "collapsed": false
   },
   "outputs": [],
   "source": [
    "classes = ['sfw', 'nsfw']\n",
    "\n",
    "conf = confusion_matrix(data.y_val_2, y_val_pred)\n",
    "plot_confusion_matrix(conf, classes=classes, normalize = True, figure_size = 11, tick_font = 50, box_font = 60, \\\n",
    "    axis_font = 55, title_font = 58, colorbar_font = 40,\\\n",
    "    left_space = 0.25, right_space = 0.95, top_space = 0.97, bottom_space = 0.05, \\\n",
    "    save_address = '../../AlexNet_plots//', save_name = 'nsfw_confusion_val')"
   ]
  },
  {
   "cell_type": "markdown",
   "metadata": {
    "collapsed": true
   },
   "source": [
    "## Outputs for Test"
   ]
  },
  {
   "cell_type": "code",
   "execution_count": null,
   "metadata": {
    "collapsed": false
   },
   "outputs": [],
   "source": [
    "test_cost, test_acc = model.eval(data, session, \"test\")\n",
    "\n",
    "y_test_pred = session.run(model.prediction, {model.X_placeholder: data.X_test, model.y_placeholder: data.y_test_2, \n",
    "                                            model.is_training_placeholder:False})\n",
    "\n",
    "y_test_pred = np.argmax(y_test_pred, axis = 1)"
   ]
  },
  {
   "cell_type": "markdown",
   "metadata": {},
   "source": [
    "## Plot Confusion Matrix for NSFW test"
   ]
  },
  {
   "cell_type": "code",
   "execution_count": null,
   "metadata": {
    "collapsed": false
   },
   "outputs": [],
   "source": [
    "classes = ['sfw', 'nsfw']\n",
    "\n",
    "conf = confusion_matrix(data.y_test_2, y_test_pred)\n",
    "plot_confusion_matrix(conf, classes=classes, normalize = True, figure_size = 11, tick_font = 50, box_font = 60, \\\n",
    "    axis_font = 55, title_font = 58, colorbar_font = 40,\\\n",
    "    left_space = 0.25, right_space = 0.95, top_space = 0.97, bottom_space = 0.05, \\\n",
    "    save_address = '../../AlexNet_plots//', save_name = 'nsfw_confusion_test')"
   ]
  },
  {
   "cell_type": "code",
   "execution_count": null,
   "metadata": {
    "collapsed": true
   },
   "outputs": [],
   "source": []
  }
 ],
 "metadata": {
  "kernelspec": {
   "display_name": "Python 3",
   "language": "python",
   "name": "python3"
  },
  "language_info": {
   "codemirror_mode": {
    "name": "ipython",
    "version": 3
   },
   "file_extension": ".py",
   "mimetype": "text/x-python",
   "name": "python",
   "nbconvert_exporter": "python",
   "pygments_lexer": "ipython3",
   "version": "3.5.2"
  }
 },
 "nbformat": 4,
 "nbformat_minor": 2
}
